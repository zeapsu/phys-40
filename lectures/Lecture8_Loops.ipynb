{
 "cells": [
  {
   "cell_type": "markdown",
   "metadata": {},
   "source": [
    "# Python Nested 'if' Statements; Loops (Lecture 8)"
   ]
  },
  {
   "cell_type": "code",
   "execution_count": 1,
   "metadata": {},
   "outputs": [],
   "source": [
    "from pylab import *"
   ]
  },
  {
   "cell_type": "markdown",
   "metadata": {},
   "source": [
    "### 'Elif'"
   ]
  },
  {
   "cell_type": "markdown",
   "metadata": {},
   "source": [
    "$\\bf{Example:}$ Determining if a year is a leap year."
   ]
  },
  {
   "cell_type": "code",
   "execution_count": 1,
   "metadata": {},
   "outputs": [
    {
     "name": "stdout",
     "output_type": "stream",
     "text": [
      "1900 is not a leap year\n"
     ]
    }
   ],
   "source": [
    "year=1900\n",
    "\n",
    "if not year % 400:\n",
    "    is_leap_year = True\n",
    "elif not year % 100:\n",
    "    is_leap_year = False\n",
    "elif not year % 4:\n",
    "    is_leap_year = True\n",
    "else:\n",
    "    is_leap_year = False\n",
    "\n",
    "s_ly = 'is a' if is_leap_year else 'is not a'\n",
    "print('{:4d} {:s} leap year'.format(year, s_ly))"
   ]
  },
  {
   "cell_type": "code",
   "execution_count": 2,
   "metadata": {},
   "outputs": [
    {
     "name": "stdout",
     "output_type": "stream",
     "text": [
      "2020 is a leap year\n"
     ]
    }
   ],
   "source": [
    "year=2020\n",
    "\n",
    "if not year % 400:\n",
    "    is_leap_year = True\n",
    "elif not year % 100:\n",
    "    is_leap_year = False\n",
    "elif not year % 4:\n",
    "    is_leap_year = True\n",
    "else:\n",
    "    is_leap_year = False\n",
    "\n",
    "s_ly = 'is a' if is_leap_year else 'is not a'\n",
    "print('{:4d} {:s} leap year'.format(year, s_ly))"
   ]
  },
  {
   "cell_type": "markdown",
   "metadata": {},
   "source": [
    "### Nested conditionals and the animal game\n",
    "\n",
    "2 questions game with 4 animals:"
   ]
  },
  {
   "cell_type": "code",
   "execution_count": 2,
   "metadata": {},
   "outputs": [
    {
     "name": "stdout",
     "output_type": "stream",
     "text": [
      "Is it a feline? (Y/N)N\n",
      "Is it a reptile? (Y/N)Y\n",
      "It is a snake !\n"
     ]
    }
   ],
   "source": [
    "animals = ['tiger','lion','snake','hedgehog']\n",
    "feline=input('Is it a feline? (Y/N)')\n",
    "if feline =='Y' :\n",
    "    stripes = input('Does it have stripes? (Y/N)')\n",
    "    if stripes == 'Y' :\n",
    "        i = 0 #tiger\n",
    "    else :\n",
    "        i = 1 #lion\n",
    "else :\n",
    "    reptile = input('Is it a reptile? (Y/N)')\n",
    "    if reptile == 'Y' :\n",
    "        i = 2 #snake\n",
    "    else :\n",
    "        i = 3 #hedgehog\n",
    "print('It is a %s !' % (animals[i]))"
   ]
  },
  {
   "cell_type": "code",
   "execution_count": 3,
   "metadata": {},
   "outputs": [
    {
     "name": "stdout",
     "output_type": "stream",
     "text": [
      "Is it a feline? (Y/N)Y\n",
      "Does it have stripes? (Y/N)Y\n",
      "It is a tiger !\n"
     ]
    }
   ],
   "source": [
    "animals = ['tiger','lion','snake','hedgehog']\n",
    "feline=input('Is it a feline? (Y/N)')\n",
    "if feline =='Y' :\n",
    "    stripes = input('Does it have stripes? (Y/N)')\n",
    "    if stripes == 'Y' :\n",
    "        i = 0 #tiger\n",
    "    else :\n",
    "        i = 1 #lion\n",
    "else :\n",
    "    reptile = input('Is it a reptile? (Y/N)')\n",
    "    if reptile == 'Y' :\n",
    "        i = 2 #snake\n",
    "    else :\n",
    "        i = 3 #hedgehog\n",
    "print('It is a %s !' % (animals[i]))"
   ]
  },
  {
   "cell_type": "markdown",
   "metadata": {},
   "source": [
    "# Loops"
   ]
  },
  {
   "cell_type": "markdown",
   "metadata": {},
   "source": [
    "### Loops are an easy way to repetitively execute a series of commands."
   ]
  },
  {
   "cell_type": "markdown",
   "metadata": {},
   "source": [
    "Suppose I want to approximate the sin function:  "
   ]
  },
  {
   "cell_type": "markdown",
   "metadata": {},
   "source": [
    "$$\\sin(x) = x - \\frac{x^3}{3!} + \\frac{x^5}{5!} - ... = \\sum_{n=0}^\\infty \\frac{(-1)^{n} }{(2n + 1)!}x^{2n+1}$$\n",
    "\n",
    "A loop would be a great way to do this."
   ]
  },
  {
   "cell_type": "markdown",
   "metadata": {},
   "source": [
    "## 'While' Loops"
   ]
  },
  {
   "cell_type": "markdown",
   "metadata": {},
   "source": [
    "Syntax:\n",
    "\n",
    "$\\bf{while}$ [condition is true] $\\bf{:}$\n",
    "\n",
    "    [command]\n",
    "\n",
    "    [command]\n",
    "    \n",
    "    [command]\n"
   ]
  },
  {
   "cell_type": "markdown",
   "metadata": {},
   "source": [
    "$\\bf{Example:}$ Countdown a rocket to launch, \"T minus XX seconds\"."
   ]
  },
  {
   "cell_type": "code",
   "execution_count": 4,
   "metadata": {},
   "outputs": [
    {
     "name": "stdout",
     "output_type": "stream",
     "text": [
      "T minus 10 seconds to liftoff!\n",
      "T minus 9 seconds to liftoff!\n",
      "T minus 8 seconds to liftoff!\n",
      "T minus 7 seconds to liftoff!\n",
      "T minus 6 seconds to liftoff!\n",
      "T minus 5 seconds to liftoff!\n",
      "T minus 4 seconds to liftoff!\n",
      "T minus 3 seconds to liftoff!\n",
      "T minus 2 seconds to liftoff!\n",
      "T minus 1 seconds to liftoff!\n",
      "T minus 0 seconds to liftoff!\n"
     ]
    }
   ],
   "source": [
    "sec = 10\n",
    "while sec >= 0 :\n",
    "    print('T minus %d seconds to liftoff!' % (sec))\n",
    "    sec -= 1"
   ]
  },
  {
   "cell_type": "markdown",
   "metadata": {},
   "source": [
    "$\\bf{Example:}$ Update the dot product to keep prompting the user until a valid input is given."
   ]
  },
  {
   "cell_type": "code",
   "execution_count": 5,
   "metadata": {},
   "outputs": [
    {
     "name": "stdout",
     "output_type": "stream",
     "text": [
      "Enter two 3-vectors: [x,y,z] [1],[2]\n",
      "Enter two 3-vectors: [x,y,z] [1,2],[2,3]\n",
      "Enter two 3-vectors: [x,y,z] [1,2,3],[4,5,6]\n",
      "you're good!\n"
     ]
    }
   ],
   "source": [
    "a, b = [], []\n",
    "while len(a) != 3 or len(b) != 3 :\n",
    "    a, b = eval(input('Enter two 3-vectors: [x,y,z] '))\n",
    "print('you\\'re good!')"
   ]
  },
  {
   "cell_type": "markdown",
   "metadata": {},
   "source": [
    "$\\bf{Example}:$ Write a script to find how many sequential integers(starting with 1) can be added in quadrature without exceeding 100."
   ]
  },
  {
   "cell_type": "code",
   "execution_count": 6,
   "metadata": {},
   "outputs": [
    {
     "name": "stdout",
     "output_type": "stream",
     "text": [
      "1 1\n",
      "We can sum 0 numbers.\n",
      "2 5\n",
      "We can sum 1 numbers.\n",
      "3 14\n",
      "We can sum 2 numbers.\n",
      "4 30\n",
      "We can sum 3 numbers.\n",
      "5 55\n",
      "We can sum 4 numbers.\n",
      "6 91\n",
      "We can sum 5 numbers.\n",
      "7 140\n",
      "We can sum 6 numbers.\n",
      "8 204\n",
      "We can sum 7 numbers.\n",
      "9 285\n",
      "We can sum 8 numbers.\n",
      "10 385\n",
      "We can sum 9 numbers.\n",
      "11 506\n",
      "We can sum 10 numbers.\n",
      "12 650\n",
      "We can sum 11 numbers.\n",
      "13 819\n",
      "We can sum 12 numbers.\n",
      "14 1015\n",
      "We can sum 13 numbers.\n",
      "15 1240\n",
      "We can sum 14 numbers.\n",
      "16 1496\n",
      "We can sum 15 numbers.\n",
      "17 1785\n",
      "We can sum 16 numbers.\n",
      "18 2109\n",
      "We can sum 17 numbers.\n",
      "19 2470\n",
      "We can sum 18 numbers.\n",
      "20 2870\n",
      "We can sum 19 numbers.\n",
      "21 3311\n",
      "We can sum 20 numbers.\n",
      "22 3795\n",
      "We can sum 21 numbers.\n",
      "23 4324\n",
      "We can sum 22 numbers.\n",
      "24 4900\n",
      "We can sum 23 numbers.\n",
      "25 5525\n",
      "We can sum 24 numbers.\n",
      "26 6201\n",
      "We can sum 25 numbers.\n",
      "27 6930\n",
      "We can sum 26 numbers.\n",
      "28 7714\n",
      "We can sum 27 numbers.\n",
      "29 8555\n",
      "We can sum 28 numbers.\n",
      "30 9455\n",
      "We can sum 29 numbers.\n",
      "31 10416\n",
      "We can sum 30 numbers.\n",
      "32 11440\n",
      "We can sum 31 numbers.\n",
      "33 12529\n",
      "We can sum 32 numbers.\n",
      "34 13685\n",
      "We can sum 33 numbers.\n",
      "35 14910\n",
      "We can sum 34 numbers.\n",
      "36 16206\n",
      "We can sum 35 numbers.\n",
      "37 17575\n",
      "We can sum 36 numbers.\n",
      "38 19019\n",
      "We can sum 37 numbers.\n",
      "39 20540\n",
      "We can sum 38 numbers.\n",
      "40 22140\n",
      "We can sum 39 numbers.\n",
      "41 23821\n",
      "We can sum 40 numbers.\n",
      "42 25585\n",
      "We can sum 41 numbers.\n",
      "43 27434\n",
      "We can sum 42 numbers.\n",
      "44 29370\n",
      "We can sum 43 numbers.\n",
      "45 31395\n",
      "We can sum 44 numbers.\n",
      "46 33511\n",
      "We can sum 45 numbers.\n",
      "47 35720\n",
      "We can sum 46 numbers.\n",
      "48 38024\n",
      "We can sum 47 numbers.\n",
      "49 40425\n",
      "We can sum 48 numbers.\n",
      "50 42925\n",
      "We can sum 49 numbers.\n",
      "51 45526\n",
      "We can sum 50 numbers.\n",
      "52 48230\n",
      "We can sum 51 numbers.\n",
      "53 51039\n",
      "We can sum 52 numbers.\n",
      "54 53955\n",
      "We can sum 53 numbers.\n",
      "55 56980\n",
      "We can sum 54 numbers.\n",
      "56 60116\n",
      "We can sum 55 numbers.\n",
      "57 63365\n",
      "We can sum 56 numbers.\n",
      "58 66729\n",
      "We can sum 57 numbers.\n",
      "59 70210\n",
      "We can sum 58 numbers.\n",
      "60 73810\n",
      "We can sum 59 numbers.\n",
      "61 77531\n",
      "We can sum 60 numbers.\n",
      "62 81375\n",
      "We can sum 61 numbers.\n",
      "63 85344\n",
      "We can sum 62 numbers.\n",
      "64 89440\n",
      "We can sum 63 numbers.\n",
      "65 93665\n",
      "We can sum 64 numbers.\n",
      "66 98021\n",
      "We can sum 65 numbers.\n",
      "67 102510\n",
      "We can sum 66 numbers.\n",
      "68 107134\n",
      "We can sum 67 numbers.\n",
      "69 111895\n",
      "We can sum 68 numbers.\n",
      "70 116795\n",
      "We can sum 69 numbers.\n",
      "71 121836\n",
      "We can sum 70 numbers.\n",
      "72 127020\n",
      "We can sum 71 numbers.\n",
      "73 132349\n",
      "We can sum 72 numbers.\n",
      "74 137825\n",
      "We can sum 73 numbers.\n",
      "75 143450\n",
      "We can sum 74 numbers.\n",
      "76 149226\n",
      "We can sum 75 numbers.\n",
      "77 155155\n",
      "We can sum 76 numbers.\n",
      "78 161239\n",
      "We can sum 77 numbers.\n",
      "79 167480\n",
      "We can sum 78 numbers.\n",
      "80 173880\n",
      "We can sum 79 numbers.\n",
      "81 180441\n",
      "We can sum 80 numbers.\n",
      "82 187165\n",
      "We can sum 81 numbers.\n",
      "83 194054\n",
      "We can sum 82 numbers.\n",
      "84 201110\n",
      "We can sum 83 numbers.\n",
      "85 208335\n",
      "We can sum 84 numbers.\n",
      "86 215731\n",
      "We can sum 85 numbers.\n",
      "87 223300\n",
      "We can sum 86 numbers.\n",
      "88 231044\n",
      "We can sum 87 numbers.\n",
      "89 238965\n",
      "We can sum 88 numbers.\n",
      "90 247065\n",
      "We can sum 89 numbers.\n",
      "91 255346\n",
      "We can sum 90 numbers.\n",
      "92 263810\n",
      "We can sum 91 numbers.\n",
      "93 272459\n",
      "We can sum 92 numbers.\n",
      "94 281295\n",
      "We can sum 93 numbers.\n",
      "95 290320\n",
      "We can sum 94 numbers.\n",
      "96 299536\n",
      "We can sum 95 numbers.\n",
      "97 308945\n",
      "We can sum 96 numbers.\n",
      "98 318549\n",
      "We can sum 97 numbers.\n",
      "99 328350\n",
      "We can sum 98 numbers.\n",
      "100 338350\n",
      "We can sum 99 numbers.\n",
      "101 348551\n",
      "We can sum 100 numbers.\n"
     ]
    }
   ],
   "source": [
    "i, total = 0, 0\n",
    "while i <= 100 :\n",
    "    i += 1\n",
    "    total += i**2\n",
    "    print(i, total)\n",
    "    print('We can sum %d numbers.' % (i-1))"
   ]
  },
  {
   "cell_type": "markdown",
   "metadata": {},
   "source": [
    "Be carefule though, as while loops can get stuck in infinite loops.\n",
    "\n",
    "Add a \"failsafe\" to break it out of the infinite loop if it goes on too long."
   ]
  },
  {
   "cell_type": "code",
   "execution_count": 7,
   "metadata": {},
   "outputs": [
    {
     "name": "stdout",
     "output_type": "stream",
     "text": [
      "1 1\n",
      "We can sum 0 numbers.\n",
      "2 5\n",
      "We can sum 1 numbers.\n",
      "3 14\n",
      "We can sum 2 numbers.\n",
      "4 30\n",
      "We can sum 3 numbers.\n",
      "5 55\n",
      "We can sum 4 numbers.\n",
      "6 91\n",
      "We can sum 5 numbers.\n",
      "7 140\n",
      "We can sum 6 numbers.\n",
      "8 204\n",
      "We can sum 7 numbers.\n",
      "9 285\n",
      "We can sum 8 numbers.\n",
      "10 385\n",
      "We can sum 9 numbers.\n",
      "11 506\n",
      "We can sum 10 numbers.\n",
      "12 650\n",
      "We can sum 11 numbers.\n",
      "13 819\n",
      "We can sum 12 numbers.\n",
      "14 1015\n",
      "We can sum 13 numbers.\n",
      "15 1240\n",
      "We can sum 14 numbers.\n",
      "16 1496\n",
      "We can sum 15 numbers.\n",
      "17 1785\n",
      "We can sum 16 numbers.\n",
      "18 2109\n",
      "We can sum 17 numbers.\n",
      "19 2470\n",
      "We can sum 18 numbers.\n",
      "20 2870\n",
      "We can sum 19 numbers.\n",
      "21 3311\n",
      "We can sum 20 numbers.\n",
      "22 3795\n",
      "We can sum 21 numbers.\n",
      "23 4324\n",
      "We can sum 22 numbers.\n",
      "24 4900\n",
      "We can sum 23 numbers.\n",
      "25 5525\n",
      "We can sum 24 numbers.\n",
      "26 6201\n",
      "We can sum 25 numbers.\n",
      "27 6930\n",
      "We can sum 26 numbers.\n",
      "28 7714\n",
      "We can sum 27 numbers.\n",
      "29 8555\n",
      "We can sum 28 numbers.\n",
      "30 9455\n",
      "We can sum 29 numbers.\n",
      "31 10416\n",
      "We can sum 30 numbers.\n",
      "32 11440\n",
      "We can sum 31 numbers.\n",
      "33 12529\n",
      "We can sum 32 numbers.\n",
      "34 13685\n",
      "We can sum 33 numbers.\n",
      "35 14910\n",
      "We can sum 34 numbers.\n",
      "36 16206\n",
      "We can sum 35 numbers.\n",
      "37 17575\n",
      "We can sum 36 numbers.\n",
      "38 19019\n",
      "We can sum 37 numbers.\n",
      "39 20540\n",
      "We can sum 38 numbers.\n",
      "40 22140\n",
      "We can sum 39 numbers.\n",
      "41 23821\n",
      "We can sum 40 numbers.\n",
      "42 25585\n",
      "We can sum 41 numbers.\n",
      "43 27434\n",
      "We can sum 42 numbers.\n",
      "44 29370\n",
      "We can sum 43 numbers.\n",
      "45 31395\n",
      "We can sum 44 numbers.\n",
      "46 33511\n",
      "We can sum 45 numbers.\n",
      "47 35720\n",
      "We can sum 46 numbers.\n",
      "48 38024\n",
      "We can sum 47 numbers.\n",
      "49 40425\n",
      "We can sum 48 numbers.\n",
      "50 42925\n",
      "We can sum 49 numbers.\n",
      "51 45526\n",
      "We can sum 50 numbers.\n",
      "52 48230\n",
      "We can sum 51 numbers.\n",
      "53 51039\n",
      "We can sum 52 numbers.\n",
      "54 53955\n",
      "We can sum 53 numbers.\n",
      "55 56980\n",
      "We can sum 54 numbers.\n",
      "56 60116\n",
      "We can sum 55 numbers.\n",
      "57 63365\n",
      "We can sum 56 numbers.\n",
      "58 66729\n",
      "We can sum 57 numbers.\n",
      "59 70210\n",
      "We can sum 58 numbers.\n",
      "60 73810\n",
      "We can sum 59 numbers.\n",
      "61 77531\n",
      "We can sum 60 numbers.\n",
      "62 81375\n",
      "We can sum 61 numbers.\n",
      "63 85344\n",
      "We can sum 62 numbers.\n",
      "64 89440\n",
      "We can sum 63 numbers.\n",
      "65 93665\n",
      "We can sum 64 numbers.\n",
      "66 98021\n",
      "We can sum 65 numbers.\n",
      "67 102510\n",
      "We can sum 66 numbers.\n",
      "68 107134\n",
      "We can sum 67 numbers.\n",
      "69 111895\n",
      "We can sum 68 numbers.\n",
      "70 116795\n",
      "We can sum 69 numbers.\n",
      "71 121836\n",
      "We can sum 70 numbers.\n",
      "72 127020\n",
      "We can sum 71 numbers.\n",
      "73 132349\n",
      "We can sum 72 numbers.\n",
      "74 137825\n",
      "We can sum 73 numbers.\n",
      "75 143450\n",
      "We can sum 74 numbers.\n",
      "76 149226\n",
      "We can sum 75 numbers.\n",
      "77 155155\n",
      "We can sum 76 numbers.\n",
      "78 161239\n",
      "We can sum 77 numbers.\n",
      "79 167480\n",
      "We can sum 78 numbers.\n",
      "80 173880\n",
      "We can sum 79 numbers.\n",
      "81 180441\n",
      "We can sum 80 numbers.\n",
      "82 187165\n",
      "We can sum 81 numbers.\n",
      "83 194054\n",
      "We can sum 82 numbers.\n",
      "84 201110\n",
      "We can sum 83 numbers.\n",
      "85 208335\n",
      "We can sum 84 numbers.\n",
      "86 215731\n",
      "We can sum 85 numbers.\n",
      "87 223300\n",
      "We can sum 86 numbers.\n",
      "88 231044\n",
      "We can sum 87 numbers.\n",
      "89 238965\n",
      "We can sum 88 numbers.\n",
      "90 247065\n",
      "We can sum 89 numbers.\n",
      "91 255346\n",
      "We can sum 90 numbers.\n",
      "92 263810\n",
      "We can sum 91 numbers.\n",
      "93 272459\n",
      "We can sum 92 numbers.\n",
      "94 281295\n",
      "We can sum 93 numbers.\n",
      "95 290320\n",
      "We can sum 94 numbers.\n",
      "96 299536\n",
      "We can sum 95 numbers.\n",
      "97 308945\n",
      "We can sum 96 numbers.\n",
      "98 318549\n",
      "We can sum 97 numbers.\n",
      "99 328350\n",
      "We can sum 98 numbers.\n",
      "100 338350\n",
      "We can sum 99 numbers.\n",
      "101 348551\n",
      "We can sum 100 numbers.\n",
      "102 358955\n",
      "We can sum 101 numbers.\n",
      "103 369564\n",
      "We can sum 102 numbers.\n",
      "104 380380\n",
      "We can sum 103 numbers.\n",
      "105 391405\n",
      "We can sum 104 numbers.\n",
      "106 402641\n",
      "We can sum 105 numbers.\n",
      "107 414090\n",
      "We can sum 106 numbers.\n",
      "108 425754\n",
      "We can sum 107 numbers.\n",
      "109 437635\n",
      "We can sum 108 numbers.\n",
      "110 449735\n",
      "We can sum 109 numbers.\n",
      "111 462056\n",
      "We can sum 110 numbers.\n"
     ]
    }
   ],
   "source": [
    "i, total = 0, 0\n",
    "while i >= 0 :\n",
    "    i += 1\n",
    "    total += i**2\n",
    "    print(i, total)\n",
    "    print('We can sum %d numbers.' % (i-1))\n",
    "    if i > 110:\n",
    "        break"
   ]
  },
  {
   "cell_type": "markdown",
   "metadata": {},
   "source": [
    "Alternatively,"
   ]
  },
  {
   "cell_type": "code",
   "execution_count": 8,
   "metadata": {},
   "outputs": [
    {
     "name": "stdout",
     "output_type": "stream",
     "text": [
      "1 1\n",
      "We can sum 0 numbers.\n",
      "2 5\n",
      "We can sum 1 numbers.\n",
      "3 14\n",
      "We can sum 2 numbers.\n",
      "4 30\n",
      "We can sum 3 numbers.\n",
      "5 55\n",
      "We can sum 4 numbers.\n",
      "6 91\n",
      "We can sum 5 numbers.\n",
      "7 140\n",
      "We can sum 6 numbers.\n",
      "8 204\n",
      "We can sum 7 numbers.\n",
      "9 285\n",
      "We can sum 8 numbers.\n",
      "10 385\n",
      "We can sum 9 numbers.\n",
      "11 506\n",
      "We can sum 10 numbers.\n",
      "12 650\n",
      "We can sum 11 numbers.\n",
      "13 819\n",
      "We can sum 12 numbers.\n",
      "14 1015\n",
      "We can sum 13 numbers.\n",
      "15 1240\n",
      "We can sum 14 numbers.\n",
      "16 1496\n",
      "We can sum 15 numbers.\n",
      "17 1785\n",
      "We can sum 16 numbers.\n",
      "18 2109\n",
      "We can sum 17 numbers.\n",
      "19 2470\n",
      "We can sum 18 numbers.\n",
      "20 2870\n",
      "We can sum 19 numbers.\n",
      "21 3311\n",
      "We can sum 20 numbers.\n",
      "22 3795\n",
      "We can sum 21 numbers.\n",
      "23 4324\n",
      "We can sum 22 numbers.\n",
      "24 4900\n",
      "We can sum 23 numbers.\n",
      "25 5525\n",
      "We can sum 24 numbers.\n",
      "26 6201\n",
      "We can sum 25 numbers.\n",
      "27 6930\n",
      "We can sum 26 numbers.\n",
      "28 7714\n",
      "We can sum 27 numbers.\n",
      "29 8555\n",
      "We can sum 28 numbers.\n",
      "30 9455\n",
      "We can sum 29 numbers.\n",
      "31 10416\n",
      "We can sum 30 numbers.\n",
      "32 11440\n",
      "We can sum 31 numbers.\n",
      "33 12529\n",
      "We can sum 32 numbers.\n",
      "34 13685\n",
      "We can sum 33 numbers.\n",
      "35 14910\n",
      "We can sum 34 numbers.\n",
      "36 16206\n",
      "We can sum 35 numbers.\n",
      "37 17575\n",
      "We can sum 36 numbers.\n",
      "38 19019\n",
      "We can sum 37 numbers.\n",
      "39 20540\n",
      "We can sum 38 numbers.\n",
      "40 22140\n",
      "We can sum 39 numbers.\n",
      "41 23821\n",
      "We can sum 40 numbers.\n",
      "42 25585\n",
      "We can sum 41 numbers.\n",
      "43 27434\n",
      "We can sum 42 numbers.\n",
      "44 29370\n",
      "We can sum 43 numbers.\n",
      "45 31395\n",
      "We can sum 44 numbers.\n",
      "46 33511\n",
      "We can sum 45 numbers.\n",
      "47 35720\n",
      "We can sum 46 numbers.\n",
      "48 38024\n",
      "We can sum 47 numbers.\n",
      "49 40425\n",
      "We can sum 48 numbers.\n",
      "50 42925\n",
      "We can sum 49 numbers.\n",
      "51 45526\n",
      "We can sum 50 numbers.\n",
      "52 48230\n",
      "We can sum 51 numbers.\n",
      "53 51039\n",
      "We can sum 52 numbers.\n",
      "54 53955\n",
      "We can sum 53 numbers.\n",
      "55 56980\n",
      "We can sum 54 numbers.\n",
      "56 60116\n",
      "We can sum 55 numbers.\n",
      "57 63365\n",
      "We can sum 56 numbers.\n",
      "58 66729\n",
      "We can sum 57 numbers.\n",
      "59 70210\n",
      "We can sum 58 numbers.\n",
      "60 73810\n",
      "We can sum 59 numbers.\n",
      "61 77531\n",
      "We can sum 60 numbers.\n",
      "62 81375\n",
      "We can sum 61 numbers.\n",
      "63 85344\n",
      "We can sum 62 numbers.\n",
      "64 89440\n",
      "We can sum 63 numbers.\n",
      "65 93665\n",
      "We can sum 64 numbers.\n",
      "66 98021\n",
      "We can sum 65 numbers.\n",
      "67 102510\n",
      "We can sum 66 numbers.\n",
      "68 107134\n",
      "We can sum 67 numbers.\n",
      "69 111895\n",
      "We can sum 68 numbers.\n",
      "70 116795\n",
      "We can sum 69 numbers.\n",
      "71 121836\n",
      "We can sum 70 numbers.\n",
      "72 127020\n",
      "We can sum 71 numbers.\n",
      "73 132349\n",
      "We can sum 72 numbers.\n",
      "74 137825\n",
      "We can sum 73 numbers.\n",
      "75 143450\n",
      "We can sum 74 numbers.\n",
      "76 149226\n",
      "We can sum 75 numbers.\n",
      "77 155155\n",
      "We can sum 76 numbers.\n",
      "78 161239\n",
      "We can sum 77 numbers.\n",
      "79 167480\n",
      "We can sum 78 numbers.\n",
      "80 173880\n",
      "We can sum 79 numbers.\n",
      "81 180441\n",
      "We can sum 80 numbers.\n",
      "82 187165\n",
      "We can sum 81 numbers.\n",
      "83 194054\n",
      "We can sum 82 numbers.\n",
      "84 201110\n",
      "We can sum 83 numbers.\n",
      "85 208335\n",
      "We can sum 84 numbers.\n",
      "86 215731\n",
      "We can sum 85 numbers.\n",
      "87 223300\n",
      "We can sum 86 numbers.\n",
      "88 231044\n",
      "We can sum 87 numbers.\n",
      "89 238965\n",
      "We can sum 88 numbers.\n",
      "90 247065\n",
      "We can sum 89 numbers.\n",
      "91 255346\n",
      "We can sum 90 numbers.\n",
      "92 263810\n",
      "We can sum 91 numbers.\n",
      "93 272459\n",
      "We can sum 92 numbers.\n",
      "94 281295\n",
      "We can sum 93 numbers.\n",
      "95 290320\n",
      "We can sum 94 numbers.\n",
      "96 299536\n",
      "We can sum 95 numbers.\n",
      "97 308945\n",
      "We can sum 96 numbers.\n",
      "98 318549\n",
      "We can sum 97 numbers.\n",
      "99 328350\n",
      "We can sum 98 numbers.\n",
      "100 338350\n",
      "We can sum 99 numbers.\n",
      "101 348551\n",
      "We can sum 100 numbers.\n",
      "102 358955\n",
      "We can sum 101 numbers.\n",
      "103 369564\n",
      "We can sum 102 numbers.\n",
      "104 380380\n",
      "We can sum 103 numbers.\n",
      "105 391405\n",
      "We can sum 104 numbers.\n",
      "106 402641\n",
      "We can sum 105 numbers.\n",
      "107 414090\n",
      "We can sum 106 numbers.\n",
      "108 425754\n",
      "We can sum 107 numbers.\n",
      "109 437635\n",
      "We can sum 108 numbers.\n",
      "110 449735\n",
      "We can sum 109 numbers.\n"
     ]
    }
   ],
   "source": [
    "i, total = 0, 0\n",
    "while i >= 0 and i < 110:\n",
    "    i += 1\n",
    "    total += i**2\n",
    "    print(i, total)\n",
    "    print('We can sum %d numbers.' % (i-1))"
   ]
  },
  {
   "cell_type": "markdown",
   "metadata": {},
   "source": [
    "## 'For' Loops"
   ]
  },
  {
   "cell_type": "markdown",
   "metadata": {},
   "source": [
    "Syntax:\n",
    "\n",
    "$\\bf{for}$ [variable] $\\bf{in}$ [sequence] $\\bf{:}$\n",
    "\n",
    "    [command]\n",
    "\n",
    "    [command]\n",
    "    \n",
    "    [command]\n",
    "    \n",
    "For example, to loop ten times:"
   ]
  },
  {
   "cell_type": "code",
   "execution_count": 9,
   "metadata": {},
   "outputs": [
    {
     "name": "stdout",
     "output_type": "stream",
     "text": [
      "0\n",
      "1\n",
      "2\n",
      "3\n",
      "4\n",
      "5\n",
      "6\n",
      "7\n",
      "8\n",
      "9\n"
     ]
    }
   ],
   "source": [
    "for i in range(10) :\n",
    "    print(i)"
   ]
  },
  {
   "cell_type": "markdown",
   "metadata": {},
   "source": [
    "$\\bf{Example}:$ It is May 1, and summer vacation starts May 22. Write a piece of code that, for each day, says \"It is May XX, and there are YY days left until vacation!\""
   ]
  },
  {
   "cell_type": "code",
   "execution_count": 10,
   "metadata": {},
   "outputs": [
    {
     "name": "stdout",
     "output_type": "stream",
     "text": [
      "It is May 1 and there are 21 days left until vacation!\n",
      "It is May 2 and there are 20 days left until vacation!\n",
      "It is May 3 and there are 19 days left until vacation!\n",
      "It is May 4 and there are 18 days left until vacation!\n",
      "It is May 5 and there are 17 days left until vacation!\n",
      "It is May 6 and there are 16 days left until vacation!\n",
      "It is May 7 and there are 15 days left until vacation!\n",
      "It is May 8 and there are 14 days left until vacation!\n",
      "It is May 9 and there are 13 days left until vacation!\n",
      "It is May 10 and there are 12 days left until vacation!\n",
      "It is May 11 and there are 11 days left until vacation!\n",
      "It is May 12 and there are 10 days left until vacation!\n",
      "It is May 13 and there are 9 days left until vacation!\n",
      "It is May 14 and there are 8 days left until vacation!\n",
      "It is May 15 and there are 7 days left until vacation!\n",
      "It is May 16 and there are 6 days left until vacation!\n",
      "It is May 17 and there are 5 days left until vacation!\n",
      "It is May 18 and there are 4 days left until vacation!\n",
      "It is May 19 and there are 3 days left until vacation!\n",
      "It is May 20 and there are 2 days left until vacation!\n",
      "It is May 21 and there are 1 days left until vacation!\n",
      "It is May 22 and there are 0 days left until vacation!\n"
     ]
    }
   ],
   "source": [
    "day_list = range(1,23)\n",
    "for today in day_list : \n",
    "    days_left = 22 - today\n",
    "    print('It is May %d and there are %d days left until vacation!' % (today,days_left))"
   ]
  },
  {
   "cell_type": "markdown",
   "metadata": {},
   "source": [
    "Note that $\\bf{day\\_list}$ is an \"iterable\" (a list) and $\\bf{today}$ is an \"iterator\"."
   ]
  },
  {
   "cell_type": "markdown",
   "metadata": {},
   "source": [
    "## 'For' Loops and Vectorizing"
   ]
  },
  {
   "cell_type": "markdown",
   "metadata": {},
   "source": [
    "Python array manipulations implicitly use loops, for example:"
   ]
  },
  {
   "cell_type": "code",
   "execution_count": 11,
   "metadata": {},
   "outputs": [
    {
     "name": "stdout",
     "output_type": "stream",
     "text": [
      "[10, 11, 12, 13, 14, 15]\n"
     ]
    }
   ],
   "source": [
    "x = list(range(10,16))\n",
    "print(x)"
   ]
  },
  {
   "cell_type": "markdown",
   "metadata": {},
   "source": [
    "is equivalent to x[0] = 10 ; x[1] = 11 ; …\t; x[5] = 15"
   ]
  },
  {
   "cell_type": "markdown",
   "metadata": {},
   "source": [
    "Traditional loop vs. vectorization:"
   ]
  },
  {
   "cell_type": "code",
   "execution_count": 12,
   "metadata": {},
   "outputs": [
    {
     "name": "stdout",
     "output_type": "stream",
     "text": [
      "10.0\n"
     ]
    }
   ],
   "source": [
    "a = array([1,2,3])\n",
    "b = array([3,2,1])\n",
    "N, dot_p = len(a), 0.0\n",
    "for i in range(N) :\n",
    "    dot_p += a[i] * b[i]\n",
    "print(dot_p)"
   ]
  },
  {
   "cell_type": "code",
   "execution_count": 13,
   "metadata": {},
   "outputs": [
    {
     "name": "stdout",
     "output_type": "stream",
     "text": [
      "10\n"
     ]
    }
   ],
   "source": [
    "dot_p2 = sum(a * b) #vectorized version of above\n",
    "print(dot_p2)"
   ]
  },
  {
   "cell_type": "markdown",
   "metadata": {},
   "source": [
    "'For' loops permit very general lists, e.g., over strings or prime numbers:"
   ]
  },
  {
   "cell_type": "code",
   "execution_count": 14,
   "metadata": {},
   "outputs": [
    {
     "name": "stdout",
     "output_type": "stream",
     "text": [
      "1\n",
      "2\n",
      "3\n",
      "5\n",
      "7\n",
      "11\n",
      "13\n"
     ]
    }
   ],
   "source": [
    "primes = [1, 2, 3, 5, 7, 11, 13]\n",
    "for num in primes :\n",
    "    print(num)"
   ]
  },
  {
   "cell_type": "markdown",
   "metadata": {},
   "source": [
    "## Index/counting in loops "
   ]
  },
  {
   "cell_type": "markdown",
   "metadata": {},
   "source": [
    "Use a counter like 'i' to index arrays within loops:"
   ]
  },
  {
   "cell_type": "code",
   "execution_count": 15,
   "metadata": {},
   "outputs": [
    {
     "name": "stdout",
     "output_type": "stream",
     "text": [
      "[1.0, 144.0, 529.0, 1156.0, 2025.0, 3136.0, 4489.0, 6084.0, 7921.0, 10000.0]\n"
     ]
    }
   ],
   "source": [
    "vector = []\n",
    "for num in linspace(1.0,100.0,10) :\n",
    "    vector.append(num**2)\n",
    "print(vector)"
   ]
  },
  {
   "cell_type": "markdown",
   "metadata": {},
   "source": [
    "For ‘while’ loops, grow arrays using $\\bf{hstack()}$:"
   ]
  },
  {
   "cell_type": "code",
   "execution_count": 16,
   "metadata": {},
   "outputs": [
    {
     "name": "stdout",
     "output_type": "stream",
     "text": [
      "[ 1.  2.  3.  4.  5.  6.  7.  8.  9. 10.]\n"
     ]
    }
   ],
   "source": [
    "vector = array([])\n",
    "n = 0\n",
    "while n < 10:\n",
    "  n += 1\n",
    "  vector = hstack((vector,n))\n",
    "print(vector)"
   ]
  },
  {
   "cell_type": "markdown",
   "metadata": {},
   "source": [
    "## Loops Overview"
   ]
  },
  {
   "cell_type": "markdown",
   "metadata": {},
   "source": [
    "* 'For' loops are \"counted\", i.e., we generally specifiy the number of loops in advance.\n",
    "\n",
    "* 'While' loops are \"conditional\", we keep looping an undetermined number of times until some condition is met."
   ]
  },
  {
   "cell_type": "code",
   "execution_count": null,
   "metadata": {},
   "outputs": [],
   "source": []
  }
 ],
 "metadata": {
  "kernelspec": {
   "display_name": "Python 3",
   "language": "python",
   "name": "python3"
  },
  "language_info": {
   "codemirror_mode": {
    "name": "ipython",
    "version": 3
   },
   "file_extension": ".py",
   "mimetype": "text/x-python",
   "name": "python",
   "nbconvert_exporter": "python",
   "pygments_lexer": "ipython3",
   "version": "3.7.6"
  }
 },
 "nbformat": 4,
 "nbformat_minor": 4
}
