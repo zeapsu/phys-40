{
 "cells": [
  {
   "cell_type": "markdown",
   "metadata": {},
   "source": [
    "# Example Simple Conditionals in Python (Lec7.ipynb)"
   ]
  },
  {
   "cell_type": "code",
   "execution_count": 1,
   "metadata": {},
   "outputs": [],
   "source": [
    "from pylab import *"
   ]
  },
  {
   "cell_type": "code",
   "execution_count": 2,
   "metadata": {},
   "outputs": [],
   "source": [
    "def next_hour(hour) :\n",
    "    ''' calculate the next hour,\n",
    "        given input hour 1-12 '''\n",
    "    if hour == 12 :\n",
    "        hour = 0\n",
    "    hour += 1\n",
    "    return(hour)"
   ]
  },
  {
   "cell_type": "code",
   "execution_count": 3,
   "metadata": {},
   "outputs": [
    {
     "name": "stdout",
     "output_type": "stream",
     "text": [
      "Next hour is  4\n"
     ]
    }
   ],
   "source": [
    "# figure out the next hour\n",
    "\n",
    "hour = eval(input('Give me an hour (1-12): '))\n",
    "hour = next_hour(hour)\n",
    "print('Next hour is ', hour)"
   ]
  },
  {
   "cell_type": "code",
   "execution_count": 4,
   "metadata": {},
   "outputs": [
    {
     "name": "stdout",
     "output_type": "stream",
     "text": [
      "2.0\n"
     ]
    }
   ],
   "source": [
    "a = eval(input('Give me a number: '))\n",
    "if a < 0 :\n",
    "    a = abs(a) # avoid taking square root of negative number\n",
    "print(sqrt(a))"
   ]
  },
  {
   "cell_type": "code",
   "execution_count": 5,
   "metadata": {},
   "outputs": [
    {
     "name": "stdout",
     "output_type": "stream",
     "text": [
      "2.0\n"
     ]
    }
   ],
   "source": [
    "a = eval(input('Give me a number: '))\n",
    "if a < 0 :\n",
    "    a = abs(a) # avoid taking square root of negative number\n",
    "print(sqrt(a))"
   ]
  },
  {
   "cell_type": "code",
   "execution_count": 6,
   "metadata": {},
   "outputs": [
    {
     "name": "stdout",
     "output_type": "stream",
     "text": [
      "1.7320508075688772\n"
     ]
    }
   ],
   "source": [
    "# alternative abbreviated method:\n",
    "a = eval(input('Give me a number: '))\n",
    "b = sqrt(a) if a > 0 else sqrt(-a)\n",
    "print(b)"
   ]
  },
  {
   "cell_type": "code",
   "execution_count": 7,
   "metadata": {},
   "outputs": [
    {
     "name": "stdout",
     "output_type": "stream",
     "text": [
      "no!!!!!\n"
     ]
    }
   ],
   "source": [
    "# example of needing more than one 'if' statement:\n",
    "\n",
    "destination = input(\"Give me a destination? \")\n",
    "\n",
    "if destination == 'Mars' : \n",
    "    print('no!!!!!')\n",
    "elif destination == 'Jupiter' :\n",
    "    print('no!!!!!')\n",
    "elif destination == 'Sun' :\n",
    "    print('no!!!!!')\n",
    "elif (destination == 'Venus') or (destination == 'Saturn') :\n",
    "    print('no!!!!!')\n",
    "else :\n",
    "    print('yes!')\n"
   ]
  },
  {
   "cell_type": "code",
   "execution_count": 8,
   "metadata": {},
   "outputs": [
    {
     "name": "stdout",
     "output_type": "stream",
     "text": [
      "no!!!!!\n"
     ]
    }
   ],
   "source": [
    "# example of needing more than one 'if' statement:\n",
    "\n",
    "destination = input(\"Give me a destination? \")\n",
    "\n",
    "if destination == 'Mars' : \n",
    "    print('no!!!!!')\n",
    "elif destination == 'Jupiter' :\n",
    "    print('no!!!!!')\n",
    "elif destination == 'Sun' :\n",
    "    print('no!!!!!')\n",
    "elif (destination == 'Venus') or (destination == 'Saturn') :\n",
    "    print('no!!!!!')\n",
    "else :\n",
    "    print('yes!')\n"
   ]
  },
  {
   "cell_type": "code",
   "execution_count": 9,
   "metadata": {},
   "outputs": [
    {
     "name": "stdout",
     "output_type": "stream",
     "text": [
      "[-10.  -9.  -8.  -7.  -6.  -5.  -4.  -3.  -2.  -1.   0.   1.   2.   3.\n",
      "   4.   5.   6.   7.   8.   9.  10.]\n",
      "[ 0.  0.  0.  0.  0.  0.  0.  0.  0.  0.  0.  1.  2.  3.  4.  5.  6.  7.\n",
      "  8.  9. 10.]\n"
     ]
    }
   ],
   "source": [
    "# example of logical indexing to avoid if--else:\n",
    "    \n",
    "bvec = linspace(-10.0,10.0,21)\n",
    "print(bvec)\n",
    "bvec[bvec < 0.0] = 0.0\n",
    "#bvec[where(bvec<0.0)[0]] = 0.0 # alternative\n",
    "print(bvec)\n",
    "#bvec = where(bvec<0.0,0.0,1.0) # alternative"
   ]
  },
  {
   "cell_type": "code",
   "execution_count": null,
   "metadata": {},
   "outputs": [],
   "source": []
  }
 ],
 "metadata": {
  "kernelspec": {
   "display_name": "base",
   "language": "python",
   "name": "python3"
  },
  "language_info": {
   "codemirror_mode": {
    "name": "ipython",
    "version": 3
   },
   "file_extension": ".py",
   "mimetype": "text/x-python",
   "name": "python",
   "nbconvert_exporter": "python",
   "pygments_lexer": "ipython3",
   "version": "3.11.4"
  }
 },
 "nbformat": 4,
 "nbformat_minor": 4
}
