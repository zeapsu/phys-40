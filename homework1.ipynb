{
 "cells": [
  {
   "cell_type": "markdown",
   "metadata": {},
   "source": [
    "# Homework 1"
   ]
  },
  {
   "cell_type": "markdown",
   "metadata": {},
   "source": [
    "## Precision, variables, and formulae"
   ]
  },
  {
   "cell_type": "markdown",
   "metadata": {},
   "source": [
    "### 1) Precision limitations\n",
    "\n",
    "As an illustration of the limitations of double-precision variables, consider a floating-point number $x$.\n",
    "\n",
    "Use Python to calculate the product $x^{-1}x$. Try the cases x = 49, 51, and 947.\n",
    "\n",
    "In a couple of these cases the product will not be exactly equal to 1.\n",
    "\n",
    "Can you find any other cases for x between 90 and 110 for which the product is not exactly 1?\n",
    "\n",
    "Why do you think the problem occurs for some values of x but not others?"
   ]
  },
  {
   "cell_type": "code",
   "execution_count": 7,
   "metadata": {},
   "outputs": [
    {
     "data": {
      "text/plain": [
       "0.9999999999999999"
      ]
     },
     "execution_count": 7,
     "metadata": {},
     "output_type": "execute_result"
    }
   ],
   "source": [
    "x = 49\n",
    "(x**-1)*x"
   ]
  },
  {
   "cell_type": "code",
   "execution_count": 8,
   "metadata": {},
   "outputs": [
    {
     "data": {
      "text/plain": [
       "1.0"
      ]
     },
     "execution_count": 8,
     "metadata": {},
     "output_type": "execute_result"
    }
   ],
   "source": [
    "x = 51\n",
    "(x**-1)*x"
   ]
  },
  {
   "cell_type": "code",
   "execution_count": 9,
   "metadata": {},
   "outputs": [
    {
     "data": {
      "text/plain": [
       "0.9999999999999999"
      ]
     },
     "execution_count": 9,
     "metadata": {},
     "output_type": "execute_result"
    }
   ],
   "source": [
    "x = 947\n",
    "(x**-1)*x"
   ]
  },
  {
   "cell_type": "code",
   "execution_count": 11,
   "metadata": {},
   "outputs": [
    {
     "name": "stdout",
     "output_type": "stream",
     "text": [
      "98\n",
      "103\n",
      "107\n"
     ]
    }
   ],
   "source": [
    "for x in range (90, 111):\n",
    "    if (x**-1)*x != 1:\n",
    "        print(x)"
   ]
  },
  {
   "cell_type": "markdown",
   "metadata": {},
   "source": [
    "Answer Placeholder"
   ]
  },
  {
   "cell_type": "markdown",
   "metadata": {},
   "source": [
    "### 2) Temperature conversion"
   ]
  },
  {
   "cell_type": "markdown",
   "metadata": {},
   "source": [
    "To convert temperature measurements between degrees Celsius (C) and degrees Fahrenheit (F ),\n",
    "\n",
    "the following equation is used:\n",
    "\n",
    "$F = \\displaystyle\\frac 9 5 C + 32$\n",
    "\n",
    "To apply this equation, eight diﬀerent versions of code are listed below.\n",
    "\n",
    "Determine which versions will not work correctly, and explain why in each case."
   ]
  },
  {
   "cell_type": "code",
   "execution_count": 14,
   "metadata": {},
   "outputs": [
    {
     "data": {
      "text/plain": [
       "69.80000000000001"
      ]
     },
     "execution_count": 14,
     "metadata": {},
     "output_type": "execute_result"
    }
   ],
   "source": [
    "C = 21\n",
    "F = 9/5*C + 32\n",
    "F"
   ]
  },
  {
   "cell_type": "code",
   "execution_count": 15,
   "metadata": {},
   "outputs": [
    {
     "data": {
      "text/plain": [
       "69.80000000000001"
      ]
     },
     "execution_count": 15,
     "metadata": {},
     "output_type": "execute_result"
    }
   ],
   "source": [
    "C = 21.0\n",
    "F = 9/5*C + 32\n",
    "F"
   ]
  },
  {
   "cell_type": "code",
   "execution_count": 16,
   "metadata": {},
   "outputs": [
    {
     "data": {
      "text/plain": [
       "69.80000000000001"
      ]
     },
     "execution_count": 16,
     "metadata": {},
     "output_type": "execute_result"
    }
   ],
   "source": [
    "C = 21.0\n",
    "F = (9/5)*C + 32\n",
    "F"
   ]
  },
  {
   "cell_type": "code",
   "execution_count": 17,
   "metadata": {},
   "outputs": [
    {
     "data": {
      "text/plain": [
       "69.8"
      ]
     },
     "execution_count": 17,
     "metadata": {},
     "output_type": "execute_result"
    }
   ],
   "source": [
    "C = 21.0\n",
    "F = 9.0*C/5.0 + 32\n",
    "F"
   ]
  },
  {
   "cell_type": "code",
   "execution_count": 18,
   "metadata": {},
   "outputs": [
    {
     "data": {
      "text/plain": [
       "69.80000000000001"
      ]
     },
     "execution_count": 18,
     "metadata": {},
     "output_type": "execute_result"
    }
   ],
   "source": [
    "C = 21.0\n",
    "F = 9.*(C/5.0) + 32\n",
    "F"
   ]
  },
  {
   "cell_type": "code",
   "execution_count": 19,
   "metadata": {},
   "outputs": [
    {
     "data": {
      "text/plain": [
       "69.8"
      ]
     },
     "execution_count": 19,
     "metadata": {},
     "output_type": "execute_result"
    }
   ],
   "source": [
    "C = 21\n",
    "F = 9*C/5 + 32\n",
    "F"
   ]
  },
  {
   "cell_type": "code",
   "execution_count": 20,
   "metadata": {},
   "outputs": [
    {
     "data": {
      "text/plain": [
       "69.80000000000001"
      ]
     },
     "execution_count": 20,
     "metadata": {},
     "output_type": "execute_result"
    }
   ],
   "source": [
    "C = 21\n",
    "F = (1./5)*9*C + 32\n",
    "F"
   ]
  },
  {
   "cell_type": "code",
   "execution_count": 21,
   "metadata": {},
   "outputs": [
    {
     "data": {
      "text/plain": [
       "69.80000000000001"
      ]
     },
     "execution_count": 21,
     "metadata": {},
     "output_type": "execute_result"
    }
   ],
   "source": [
    "C = 21\n",
    "F = (1/5)*9*C + 32\n",
    "F"
   ]
  },
  {
   "cell_type": "markdown",
   "metadata": {},
   "source": [
    "### 3. Your physics problem\n",
    "Identify the solution to a physics problem that can be written as a combination of variables and mathematical expressions. \n",
    "\n",
    "Use an example from one of your current or recent classes.\n",
    "\n",
    "Solve the problem using Python, by storing the appropriate values into the variables and evaluating the expression(s).\n",
    "\n"
   ]
  },
  {
   "cell_type": "markdown",
   "metadata": {},
   "source": [
    "In a region of free space, the electric field at an instant of time is\n",
    "\n",
    "$\\textbf{E} = (80.0\\hat{\\textbf{i}} + 32.0\\hat{\\textbf{j}} - 64.0\\hat{\\textbf{k}})\\frac N C$ \n",
    "\n",
    "and the magnetic field is \n",
    "\n",
    "$\\textbf B = (0.200\\hat{\\textbf{i}} + 0.0800\\hat{\\textbf{j}} + 0.290\\hat{\\textbf{k}})\\mu T$"
   ]
  },
  {
   "cell_type": "markdown",
   "metadata": {},
   "source": [
    "a) Show that the two fields are perpendicular to each other"
   ]
  },
  {
   "cell_type": "markdown",
   "metadata": {},
   "source": [
    "If $\\textbf{E} \\cdot \\textbf{B} = 0$, then $\\textbf E \\perp \\textbf B$"
   ]
  },
  {
   "cell_type": "code",
   "execution_count": 38,
   "metadata": {},
   "outputs": [
    {
     "name": "stdout",
     "output_type": "stream",
     "text": [
      "E and B are perpendicular\n"
     ]
    }
   ],
   "source": [
    "import numpy as np\n",
    "\n",
    "# Electric field vector\n",
    "E = np.array([80.0, 32.0, -64.0]) # N/C\n",
    "\n",
    "# Magnetic field vector\n",
    "B = np.array([0.200, 0.0800, 0.290]) # micro tesla\n",
    "\n",
    "B = B * 1e-6 # tesla\n",
    "\n",
    "if np.dot(E, B) == 0:\n",
    "    print(\"E and B are perpendicular\")"
   ]
  },
  {
   "cell_type": "markdown",
   "metadata": {},
   "source": [
    "b) Determine the Poynting vector for these fields"
   ]
  },
  {
   "cell_type": "markdown",
   "metadata": {},
   "source": [
    "The Poynting vector is given by\n",
    "\n",
    "$\\textbf S = \\frac{1}{\\mu_{0}}(\\textbf E \\times \\textbf B)$\n",
    "\n",
    "where $\\mu_{0}$ is the permeability of free space and $\\textbf E$ and $\\textbf B$ are the electric and magnetic fields, respectively"
   ]
  },
  {
   "cell_type": "code",
   "execution_count": 39,
   "metadata": {},
   "outputs": [
    {
     "data": {
      "text/plain": [
       "array([ 11.5, -28.6,   0. ])"
      ]
     },
     "execution_count": 39,
     "metadata": {},
     "output_type": "execute_result"
    }
   ],
   "source": [
    "mu = 4*np.pi*(10**-7) # Tm/A\n",
    "S = (np.cross(E, B)) / mu # W/m^2\n",
    "S.round(1)"
   ]
  },
  {
   "cell_type": "markdown",
   "metadata": {},
   "source": [
    "$\\therefore \\textbf S = (11.5\\hat{\\textbf i} - 28.6\\hat{\\textbf j}) \\frac{W}{m^2}$"
   ]
  },
  {
   "cell_type": "markdown",
   "metadata": {},
   "source": []
  }
 ],
 "metadata": {
  "kernelspec": {
   "display_name": "base",
   "language": "python",
   "name": "python3"
  },
  "language_info": {
   "codemirror_mode": {
    "name": "ipython",
    "version": 3
   },
   "file_extension": ".py",
   "mimetype": "text/x-python",
   "name": "python",
   "nbconvert_exporter": "python",
   "pygments_lexer": "ipython3",
   "version": "3.11.4"
  }
 },
 "nbformat": 4,
 "nbformat_minor": 2
}
