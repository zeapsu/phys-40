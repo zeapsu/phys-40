{
 "cells": [
  {
   "cell_type": "markdown",
   "id": "22f28773",
   "metadata": {},
   "source": [
    "# Lab Assignment \\#1"
   ]
  },
  {
   "cell_type": "markdown",
   "id": "8731971e",
   "metadata": {},
   "source": [
    " ## You can use python as a calculator!"
   ]
  },
  {
   "cell_type": "code",
   "execution_count": 9,
   "id": "7e25300c",
   "metadata": {},
   "outputs": [
    {
     "data": {
      "text/plain": [
       "4"
      ]
     },
     "execution_count": 9,
     "metadata": {},
     "output_type": "execute_result"
    }
   ],
   "source": [
    "2+2"
   ]
  },
  {
   "cell_type": "markdown",
   "id": "51fcc811",
   "metadata": {},
   "source": [
    "## If the line runs too long, you can use backslash (\\) to break up the statement"
   ]
  },
  {
   "cell_type": "code",
   "execution_count": 10,
   "id": "2600cefe",
   "metadata": {},
   "outputs": [
    {
     "data": {
      "text/plain": [
       "15"
      ]
     },
     "execution_count": 10,
     "metadata": {},
     "output_type": "execute_result"
    }
   ],
   "source": [
    "1 + 2 + 3 + 4 + \\\n",
    "5 "
   ]
  },
  {
   "cell_type": "markdown",
   "id": "9980db4b",
   "metadata": {},
   "source": [
    "## Execute multiple statements on one line...\n",
    "## ... but try to avoid doing it "
   ]
  },
  {
   "cell_type": "code",
   "execution_count": 11,
   "id": "d1814497",
   "metadata": {},
   "outputs": [
    {
     "data": {
      "text/plain": [
       "4"
      ]
     },
     "execution_count": 11,
     "metadata": {},
     "output_type": "execute_result"
    }
   ],
   "source": [
    "1 + 1 ; 2 + 2"
   ]
  },
  {
   "cell_type": "markdown",
   "id": "1284b073",
   "metadata": {},
   "source": [
    "## Python knows order of operations."
   ]
  },
  {
   "cell_type": "code",
   "execution_count": 12,
   "id": "5c6aeed4",
   "metadata": {},
   "outputs": [
    {
     "data": {
      "text/plain": [
       "21"
      ]
     },
     "execution_count": 12,
     "metadata": {},
     "output_type": "execute_result"
    }
   ],
   "source": [
    "3*(3 + 4)"
   ]
  },
  {
   "cell_type": "markdown",
   "id": "c4f886b6",
   "metadata": {},
   "source": [
    "## Predict the answer before you try it out...\n",
    "\n",
    "I predict 36"
   ]
  },
  {
   "cell_type": "code",
   "execution_count": 13,
   "id": "1a80cd37",
   "metadata": {},
   "outputs": [
    {
     "data": {
      "text/plain": [
       "36"
      ]
     },
     "execution_count": 13,
     "metadata": {},
     "output_type": "execute_result"
    }
   ],
   "source": [
    "4 * 3 ** 2"
   ]
  },
  {
   "cell_type": "markdown",
   "id": "a1518903",
   "metadata": {},
   "source": [
    "## Predict the answer before you try it out...\n",
    "\n",
    "I predict 4^3 = 64 "
   ]
  },
  {
   "cell_type": "code",
   "execution_count": 14,
   "id": "b333d61d",
   "metadata": {},
   "outputs": [
    {
     "data": {
      "text/plain": [
       "-256"
      ]
     },
     "execution_count": 14,
     "metadata": {},
     "output_type": "execute_result"
    }
   ],
   "source": [
    "-2 ** 2 ** 3"
   ]
  },
  {
   "cell_type": "markdown",
   "id": "ef8ccf0f",
   "metadata": {},
   "source": [
    "## Exponentiation"
   ]
  },
  {
   "cell_type": "code",
   "execution_count": 15,
   "id": "31b6cdab",
   "metadata": {},
   "outputs": [
    {
     "data": {
      "text/plain": [
       "49"
      ]
     },
     "execution_count": 15,
     "metadata": {},
     "output_type": "execute_result"
    }
   ],
   "source": [
    "7 ** 2"
   ]
  },
  {
   "cell_type": "markdown",
   "id": "09242f34",
   "metadata": {},
   "source": [
    "# Square root function: what happened?"
   ]
  },
  {
   "cell_type": "code",
   "execution_count": 16,
   "id": "70119d3d",
   "metadata": {},
   "outputs": [
    {
     "ename": "NameError",
     "evalue": "name 'sqrt' is not defined",
     "output_type": "error",
     "traceback": [
      "\u001b[0;31m---------------------------------------------------------------------------\u001b[0m",
      "\u001b[0;31mNameError\u001b[0m                                 Traceback (most recent call last)",
      "Cell \u001b[0;32mIn[16], line 1\u001b[0m\n\u001b[0;32m----> 1\u001b[0m sqrt(\u001b[38;5;241m4.0\u001b[39m)\n",
      "\u001b[0;31mNameError\u001b[0m: name 'sqrt' is not defined"
     ]
    }
   ],
   "source": [
    "sqrt(4.0)"
   ]
  },
  {
   "cell_type": "markdown",
   "id": "464ac4e9",
   "metadata": {},
   "source": [
    "The `sqrt` function was not imported "
   ]
  },
  {
   "cell_type": "markdown",
   "id": "3272309b",
   "metadata": {},
   "source": [
    "# Import specialized numerical module"
   ]
  },
  {
   "cell_type": "code",
   "execution_count": null,
   "id": "45693eff",
   "metadata": {},
   "outputs": [
    {
     "name": "stdout",
     "output_type": "stream",
     "text": [
      "Requirement already satisfied: numpy in /Library/Frameworks/Python.framework/Versions/3.9/lib/python3.9/site-packages (2.0.1)\n",
      "\u001b[33mWARNING: You are using pip version 21.1.1; however, version 24.2 is available.\n",
      "You should consider upgrading via the '/usr/local/bin/python3 -m pip install --upgrade pip' command.\u001b[0m\n",
      "Note: you may need to restart the kernel to use updated packages.\n"
     ]
    }
   ],
   "source": [
    "%pip install numpy\n",
    "from numpy import *"
   ]
  },
  {
   "cell_type": "markdown",
   "id": "9ddfd8d9",
   "metadata": {},
   "source": [
    "## and try again..."
   ]
  },
  {
   "cell_type": "code",
   "execution_count": null,
   "id": "3d4dc86c",
   "metadata": {},
   "outputs": [
    {
     "data": {
      "text/plain": [
       "np.float64(2.0)"
      ]
     },
     "execution_count": 14,
     "metadata": {},
     "output_type": "execute_result"
    }
   ],
   "source": [
    "sqrt(4.0)"
   ]
  },
  {
   "cell_type": "markdown",
   "id": "ca39bfe5",
   "metadata": {},
   "source": [
    "## Exponential function."
   ]
  },
  {
   "cell_type": "code",
   "execution_count": null,
   "id": "87532087",
   "metadata": {},
   "outputs": [
    {
     "data": {
      "text/plain": [
       "np.float64(162754.79141900392)"
      ]
     },
     "execution_count": 15,
     "metadata": {},
     "output_type": "execute_result"
    }
   ],
   "source": [
    "exp(12.0)"
   ]
  },
  {
   "cell_type": "markdown",
   "id": "307a943b",
   "metadata": {},
   "source": [
    "## Logarithms are in base e."
   ]
  },
  {
   "cell_type": "code",
   "execution_count": null,
   "id": "a5455aa6",
   "metadata": {},
   "outputs": [
    {
     "data": {
      "text/plain": [
       "np.float64(2.302585092994046)"
      ]
     },
     "execution_count": 16,
     "metadata": {},
     "output_type": "execute_result"
    }
   ],
   "source": [
    "log(10.0)"
   ]
  },
  {
   "cell_type": "markdown",
   "id": "d2665315",
   "metadata": {},
   "source": [
    "## Base 10 logarithm."
   ]
  },
  {
   "cell_type": "code",
   "execution_count": null,
   "id": "8f6fe03b",
   "metadata": {},
   "outputs": [
    {
     "data": {
      "text/plain": [
       "np.float64(1.0)"
      ]
     },
     "execution_count": 17,
     "metadata": {},
     "output_type": "execute_result"
    }
   ],
   "source": [
    "log10(10.0)"
   ]
  },
  {
   "cell_type": "markdown",
   "id": "2e14709c",
   "metadata": {},
   "source": [
    "## π is recognized, trig is in radians."
   ]
  },
  {
   "cell_type": "code",
   "execution_count": null,
   "id": "4161ae9b",
   "metadata": {},
   "outputs": [
    {
     "data": {
      "text/plain": [
       "np.float64(1.2246467991473532e-16)"
      ]
     },
     "execution_count": 18,
     "metadata": {},
     "output_type": "execute_result"
    }
   ],
   "source": [
    "sin(pi)"
   ]
  },
  {
   "cell_type": "markdown",
   "id": "be4105b4",
   "metadata": {},
   "source": [
    "## Is this the answer you were expecting?\n",
    "no..."
   ]
  },
  {
   "cell_type": "markdown",
   "id": "103e5a12",
   "metadata": {},
   "source": [
    "## Trailing j denotes an imaginary component (= i)."
   ]
  },
  {
   "cell_type": "code",
   "execution_count": null,
   "id": "9b37a132",
   "metadata": {},
   "outputs": [
    {
     "data": {
      "text/plain": [
       "np.complex128(-0.6166204246046835+1.0543263012946278j)"
      ]
     },
     "execution_count": 19,
     "metadata": {},
     "output_type": "execute_result"
    }
   ],
   "source": [
    "exp(0.2 + 2.1j)"
   ]
  },
  {
   "cell_type": "markdown",
   "id": "c7312491",
   "metadata": {},
   "source": [
    "## Previous commands (only works on command line).\n",
    "\n",
    "1) type command(s) on terminal\n",
    "2) press up key for previous commands, down for more recent commands"
   ]
  },
  {
   "cell_type": "markdown",
   "id": "08bf06a0",
   "metadata": {},
   "source": [
    "## Convert to degrees."
   ]
  },
  {
   "cell_type": "code",
   "execution_count": null,
   "id": "11a02c47",
   "metadata": {},
   "outputs": [
    {
     "data": {
      "text/plain": [
       "np.float64(90.0)"
      ]
     },
     "execution_count": 20,
     "metadata": {},
     "output_type": "execute_result"
    }
   ],
   "source": [
    "arccos(0.0)*180.0/pi"
   ]
  },
  {
   "cell_type": "markdown",
   "id": "3fece137",
   "metadata": {},
   "source": [
    "## Absolute value."
   ]
  },
  {
   "cell_type": "code",
   "execution_count": null,
   "id": "44282ec2",
   "metadata": {},
   "outputs": [
    {
     "data": {
      "text/plain": [
       "np.float64(2.1095023109728985)"
      ]
     },
     "execution_count": 21,
     "metadata": {},
     "output_type": "execute_result"
    }
   ],
   "source": [
    "abs(0.2 - 2.1j)"
   ]
  },
  {
   "cell_type": "markdown",
   "id": "2605798b",
   "metadata": {},
   "source": []
  },
  {
   "cell_type": "markdown",
   "id": "662618af",
   "metadata": {},
   "source": [
    "## Example help about the multiplication operator."
   ]
  },
  {
   "cell_type": "code",
   "execution_count": null,
   "id": "915a3c87",
   "metadata": {},
   "outputs": [
    {
     "name": "stdout",
     "output_type": "stream",
     "text": [
      "Operator precedence\n",
      "*******************\n",
      "\n",
      "The following table summarizes the operator precedence in Python, from\n",
      "highest precedence (most binding) to lowest precedence (least\n",
      "binding).  Operators in the same box have the same precedence.  Unless\n",
      "the syntax is explicitly given, operators are binary.  Operators in\n",
      "the same box group left to right (except for exponentiation, which\n",
      "groups from right to left).\n",
      "\n",
      "Note that comparisons, membership tests, and identity tests, all have\n",
      "the same precedence and have a left-to-right chaining feature as\n",
      "described in the Comparisons section.\n",
      "\n",
      "+-------------------------------------------------+---------------------------------------+\n",
      "| Operator                                        | Description                           |\n",
      "|=================================================|=======================================|\n",
      "| \"(expressions...)\",  \"[expressions...]\", \"{key: | Binding or parenthesized expression,  |\n",
      "| value...}\", \"{expressions...}\"                  | list display, dictionary display, set |\n",
      "|                                                 | display                               |\n",
      "+-------------------------------------------------+---------------------------------------+\n",
      "| \"x[index]\", \"x[index:index]\",                   | Subscription, slicing, call,          |\n",
      "| \"x(arguments...)\", \"x.attribute\"                | attribute reference                   |\n",
      "+-------------------------------------------------+---------------------------------------+\n",
      "| \"await\" \"x\"                                     | Await expression                      |\n",
      "+-------------------------------------------------+---------------------------------------+\n",
      "| \"**\"                                            | Exponentiation [5]                    |\n",
      "+-------------------------------------------------+---------------------------------------+\n",
      "| \"+x\", \"-x\", \"~x\"                                | Positive, negative, bitwise NOT       |\n",
      "+-------------------------------------------------+---------------------------------------+\n",
      "| \"*\", \"@\", \"/\", \"//\", \"%\"                        | Multiplication, matrix                |\n",
      "|                                                 | multiplication, division, floor       |\n",
      "|                                                 | division, remainder [6]               |\n",
      "+-------------------------------------------------+---------------------------------------+\n",
      "| \"+\", \"-\"                                        | Addition and subtraction              |\n",
      "+-------------------------------------------------+---------------------------------------+\n",
      "| \"<<\", \">>\"                                      | Shifts                                |\n",
      "+-------------------------------------------------+---------------------------------------+\n",
      "| \"&\"                                             | Bitwise AND                           |\n",
      "+-------------------------------------------------+---------------------------------------+\n",
      "| \"^\"                                             | Bitwise XOR                           |\n",
      "+-------------------------------------------------+---------------------------------------+\n",
      "| \"|\"                                             | Bitwise OR                            |\n",
      "+-------------------------------------------------+---------------------------------------+\n",
      "| \"in\", \"not in\", \"is\", \"is not\", \"<\", \"<=\", \">\", | Comparisons, including membership     |\n",
      "| \">=\", \"!=\", \"==\"                                | tests and identity tests              |\n",
      "+-------------------------------------------------+---------------------------------------+\n",
      "| \"not\" \"x\"                                       | Boolean NOT                           |\n",
      "+-------------------------------------------------+---------------------------------------+\n",
      "| \"and\"                                           | Boolean AND                           |\n",
      "+-------------------------------------------------+---------------------------------------+\n",
      "| \"or\"                                            | Boolean OR                            |\n",
      "+-------------------------------------------------+---------------------------------------+\n",
      "| \"if\" – \"else\"                                   | Conditional expression                |\n",
      "+-------------------------------------------------+---------------------------------------+\n",
      "| \"lambda\"                                        | Lambda expression                     |\n",
      "+-------------------------------------------------+---------------------------------------+\n",
      "| \":=\"                                            | Assignment expression                 |\n",
      "+-------------------------------------------------+---------------------------------------+\n",
      "\n",
      "-[ Footnotes ]-\n",
      "\n",
      "[1] While \"abs(x%y) < abs(y)\" is true mathematically, for floats it\n",
      "    may not be true numerically due to roundoff.  For example, and\n",
      "    assuming a platform on which a Python float is an IEEE 754 double-\n",
      "    precision number, in order that \"-1e-100 % 1e100\" have the same\n",
      "    sign as \"1e100\", the computed result is \"-1e-100 + 1e100\", which\n",
      "    is numerically exactly equal to \"1e100\".  The function\n",
      "    \"math.fmod()\" returns a result whose sign matches the sign of the\n",
      "    first argument instead, and so returns \"-1e-100\" in this case.\n",
      "    Which approach is more appropriate depends on the application.\n",
      "\n",
      "[2] If x is very close to an exact integer multiple of y, it’s\n",
      "    possible for \"x//y\" to be one larger than \"(x-x%y)//y\" due to\n",
      "    rounding.  In such cases, Python returns the latter result, in\n",
      "    order to preserve that \"divmod(x,y)[0] * y + x % y\" be very close\n",
      "    to \"x\".\n",
      "\n",
      "[3] The Unicode standard distinguishes between *code points* (e.g.\n",
      "    U+0041) and *abstract characters* (e.g. “LATIN CAPITAL LETTER A”).\n",
      "    While most abstract characters in Unicode are only represented\n",
      "    using one code point, there is a number of abstract characters\n",
      "    that can in addition be represented using a sequence of more than\n",
      "    one code point.  For example, the abstract character “LATIN\n",
      "    CAPITAL LETTER C WITH CEDILLA” can be represented as a single\n",
      "    *precomposed character* at code position U+00C7, or as a sequence\n",
      "    of a *base character* at code position U+0043 (LATIN CAPITAL\n",
      "    LETTER C), followed by a *combining character* at code position\n",
      "    U+0327 (COMBINING CEDILLA).\n",
      "\n",
      "    The comparison operators on strings compare at the level of\n",
      "    Unicode code points. This may be counter-intuitive to humans.  For\n",
      "    example, \"\"\\u00C7\" == \"\\u0043\\u0327\"\" is \"False\", even though both\n",
      "    strings represent the same abstract character “LATIN CAPITAL\n",
      "    LETTER C WITH CEDILLA”.\n",
      "\n",
      "    To compare strings at the level of abstract characters (that is,\n",
      "    in a way intuitive to humans), use \"unicodedata.normalize()\".\n",
      "\n",
      "[4] Due to automatic garbage-collection, free lists, and the dynamic\n",
      "    nature of descriptors, you may notice seemingly unusual behaviour\n",
      "    in certain uses of the \"is\" operator, like those involving\n",
      "    comparisons between instance methods, or constants.  Check their\n",
      "    documentation for more info.\n",
      "\n",
      "[5] The power operator \"**\" binds less tightly than an arithmetic or\n",
      "    bitwise unary operator on its right, that is, \"2**-1\" is \"0.5\".\n",
      "\n",
      "[6] The \"%\" operator is also used for string formatting; the same\n",
      "    precedence applies.\n",
      "\n",
      "Related help topics: lambda, or, and, not, in, is, BOOLEAN, COMPARISON,\n",
      "BITWISE, SHIFTING, BINARY, FORMATTING, POWER, UNARY, ATTRIBUTES,\n",
      "SUBSCRIPTS, SLICINGS, CALLS, TUPLES, LISTS, DICTIONARIES\n",
      "\n"
     ]
    }
   ],
   "source": [
    "help('*')"
   ]
  },
  {
   "cell_type": "markdown",
   "id": "cb3f370b",
   "metadata": {},
   "source": [
    "## General help "
   ]
  },
  {
   "cell_type": "code",
   "execution_count": null,
   "id": "6e04c8ad",
   "metadata": {},
   "outputs": [
    {
     "name": "stdout",
     "output_type": "stream",
     "text": [
      "\n",
      "Welcome to Python 3.9's help utility!\n",
      "\n",
      "If this is your first time using Python, you should definitely check out\n",
      "the tutorial on the Internet at https://docs.python.org/3.9/tutorial/.\n",
      "\n",
      "Enter the name of any module, keyword, or topic to get help on writing\n",
      "Python programs and using Python modules.  To quit this help utility and\n",
      "return to the interpreter, just type \"quit\".\n",
      "\n",
      "To get a list of available modules, keywords, symbols, or topics, type\n",
      "\"modules\", \"keywords\", \"symbols\", or \"topics\".  Each module also comes\n",
      "with a one-line summary of what it does; to list the modules whose name\n",
      "or summary contain a given string such as \"spam\", type \"modules spam\".\n",
      "\n",
      "\n",
      "You are now leaving help and returning to the Python interpreter.\n",
      "If you want to ask for help on a particular object directly from the\n",
      "interpreter, you can type \"help(object)\".  Executing \"help('string')\"\n",
      "has the same effect as typing a particular string at the help> prompt.\n"
     ]
    }
   ],
   "source": [
    "help()"
   ]
  },
  {
   "cell_type": "markdown",
   "id": "ffd62644",
   "metadata": {},
   "source": [
    "## ‘m’ has not been assigned a value."
   ]
  },
  {
   "cell_type": "code",
   "execution_count": null,
   "id": "f927d32d",
   "metadata": {},
   "outputs": [
    {
     "ename": "NameError",
     "evalue": "name 'm' is not defined",
     "output_type": "error",
     "traceback": [
      "\u001b[0;31m---------------------------------------------------------------------------\u001b[0m",
      "\u001b[0;31mNameError\u001b[0m                                 Traceback (most recent call last)",
      "Cell \u001b[0;32mIn[24], line 1\u001b[0m\n\u001b[0;32m----> 1\u001b[0m \u001b[43mm\u001b[49m\n",
      "\u001b[0;31mNameError\u001b[0m: name 'm' is not defined"
     ]
    }
   ],
   "source": [
    "m"
   ]
  },
  {
   "cell_type": "markdown",
   "id": "e16bfc64",
   "metadata": {},
   "source": [
    "## ‘m’ now equals (floating-point) 10."
   ]
  },
  {
   "cell_type": "code",
   "execution_count": null,
   "id": "553f65f1",
   "metadata": {},
   "outputs": [],
   "source": [
    "m = 10."
   ]
  },
  {
   "cell_type": "markdown",
   "id": "7dfb82f6",
   "metadata": {},
   "source": [
    "Now it had a value so typing it returns the value"
   ]
  },
  {
   "cell_type": "code",
   "execution_count": null,
   "id": "0e8823a9",
   "metadata": {},
   "outputs": [
    {
     "data": {
      "text/plain": [
       "10.0"
      ]
     },
     "execution_count": 36,
     "metadata": {},
     "output_type": "execute_result"
    }
   ],
   "source": [
    "m"
   ]
  },
  {
   "cell_type": "markdown",
   "id": "2ca78660",
   "metadata": {},
   "source": [
    "## Scientific Notation"
   ]
  },
  {
   "cell_type": "code",
   "execution_count": null,
   "id": "1b282a08",
   "metadata": {},
   "outputs": [],
   "source": [
    "m = 1e1"
   ]
  },
  {
   "cell_type": "markdown",
   "id": "6296aff0",
   "metadata": {},
   "source": [
    "Now it had a value so typing it returns the value"
   ]
  },
  {
   "cell_type": "code",
   "execution_count": null,
   "id": "b434d45c",
   "metadata": {},
   "outputs": [
    {
     "data": {
      "text/plain": [
       "10.0"
      ]
     },
     "execution_count": 38,
     "metadata": {},
     "output_type": "execute_result"
    }
   ],
   "source": [
    "m"
   ]
  },
  {
   "cell_type": "markdown",
   "id": "1340e37e",
   "metadata": {},
   "source": [
    "## Check the value: is it the same?"
   ]
  },
  {
   "cell_type": "code",
   "execution_count": null,
   "id": "fc926277",
   "metadata": {},
   "outputs": [],
   "source": [
    "m = 0.00008"
   ]
  },
  {
   "cell_type": "markdown",
   "id": "1acfe309",
   "metadata": {},
   "source": [
    "No the value isn't the same..."
   ]
  },
  {
   "cell_type": "markdown",
   "id": "fea10108",
   "metadata": {},
   "source": [
    "## Capitalization matters."
   ]
  },
  {
   "cell_type": "code",
   "execution_count": null,
   "id": "1072a84b",
   "metadata": {},
   "outputs": [
    {
     "ename": "NameError",
     "evalue": "name 'M' is not defined",
     "output_type": "error",
     "traceback": [
      "\u001b[0;31m---------------------------------------------------------------------------\u001b[0m",
      "\u001b[0;31mNameError\u001b[0m                                 Traceback (most recent call last)",
      "Cell \u001b[0;32mIn[26], line 1\u001b[0m\n\u001b[0;32m----> 1\u001b[0m \u001b[43mM\u001b[49m\n",
      "\u001b[0;31mNameError\u001b[0m: name 'M' is not defined"
     ]
    }
   ],
   "source": [
    "M"
   ]
  },
  {
   "cell_type": "markdown",
   "id": "f95b4679",
   "metadata": {},
   "source": [
    "## Defining M."
   ]
  },
  {
   "cell_type": "code",
   "execution_count": null,
   "id": "9c72a0ea",
   "metadata": {},
   "outputs": [],
   "source": [
    "M = m**m"
   ]
  },
  {
   "cell_type": "markdown",
   "id": "a06c01db",
   "metadata": {},
   "source": [
    "See value."
   ]
  },
  {
   "cell_type": "code",
   "execution_count": null,
   "id": "c3ca3833",
   "metadata": {},
   "outputs": [
    {
     "data": {
      "text/plain": [
       "0.9992456059844943"
      ]
     },
     "execution_count": 42,
     "metadata": {},
     "output_type": "execute_result"
    }
   ],
   "source": [
    "M"
   ]
  },
  {
   "cell_type": "markdown",
   "id": "fdaa3cdc",
   "metadata": {},
   "source": [
    "## You can also store strings of text in variables."
   ]
  },
  {
   "cell_type": "code",
   "execution_count": null,
   "id": "a4b13516",
   "metadata": {},
   "outputs": [],
   "source": [
    "m = 'test string'"
   ]
  },
  {
   "cell_type": "markdown",
   "id": "1b7623ce",
   "metadata": {},
   "source": [
    "See value"
   ]
  },
  {
   "cell_type": "code",
   "execution_count": null,
   "id": "d3fd2b3a",
   "metadata": {},
   "outputs": [
    {
     "data": {
      "text/plain": [
       "'test string'"
      ]
     },
     "execution_count": 44,
     "metadata": {},
     "output_type": "execute_result"
    }
   ],
   "source": [
    "m"
   ]
  },
  {
   "cell_type": "markdown",
   "id": "3ce1e1fa",
   "metadata": {},
   "source": [
    "### Alternative"
   ]
  },
  {
   "cell_type": "code",
   "execution_count": null,
   "id": "4046e963",
   "metadata": {},
   "outputs": [
    {
     "name": "stdout",
     "output_type": "stream",
     "text": [
      "test string\n"
     ]
    }
   ],
   "source": [
    "print(m)"
   ]
  },
  {
   "cell_type": "markdown",
   "id": "f9fbc4d4",
   "metadata": {},
   "source": [
    "## Multiple assignments (check them)."
   ]
  },
  {
   "cell_type": "code",
   "execution_count": null,
   "id": "87b05e3c",
   "metadata": {},
   "outputs": [],
   "source": [
    "m, n = 1.0, 2.0"
   ]
  },
  {
   "cell_type": "code",
   "execution_count": null,
   "id": "d9f674fc",
   "metadata": {},
   "outputs": [
    {
     "data": {
      "text/plain": [
       "(1.0, 2.0)"
      ]
     },
     "execution_count": 47,
     "metadata": {},
     "output_type": "execute_result"
    }
   ],
   "source": [
    "m, n"
   ]
  },
  {
   "cell_type": "markdown",
   "id": "c067a5d3",
   "metadata": {},
   "source": [
    "## You may reassign a standard function as a    variable..\n",
    "## ...but then the function no longer works."
   ]
  },
  {
   "cell_type": "code",
   "execution_count": null,
   "id": "58417627",
   "metadata": {},
   "outputs": [
    {
     "ename": "TypeError",
     "evalue": "'int' object is not callable",
     "output_type": "error",
     "traceback": [
      "\u001b[0;31m---------------------------------------------------------------------------\u001b[0m",
      "\u001b[0;31mTypeError\u001b[0m                                 Traceback (most recent call last)",
      "Cell \u001b[0;32mIn[49], line 2\u001b[0m\n\u001b[1;32m      1\u001b[0m sin \u001b[38;5;241m=\u001b[39m \u001b[38;5;241m10\u001b[39m\n\u001b[0;32m----> 2\u001b[0m sin(pi)\n",
      "\u001b[0;31mTypeError\u001b[0m: 'int' object is not callable"
     ]
    }
   ],
   "source": [
    "sin = 10\n",
    "sin(pi)"
   ]
  },
  {
   "cell_type": "code",
   "execution_count": null,
   "id": "952219da",
   "metadata": {},
   "outputs": [
    {
     "data": {
      "text/plain": [
       "np.float64(1.2246467991473532e-16)"
      ]
     },
     "execution_count": 27,
     "metadata": {},
     "output_type": "execute_result"
    }
   ],
   "source": [
    "from numpy import sin, pi\n",
    "sin(pi)"
   ]
  },
  {
   "cell_type": "markdown",
   "id": "7ea6c54f",
   "metadata": {},
   "source": [
    "## We did this calculation in class. Cast (convert) double to integer."
   ]
  },
  {
   "cell_type": "code",
   "execution_count": null,
   "id": "8e280dae",
   "metadata": {},
   "outputs": [
    {
     "data": {
      "text/plain": [
       "-21"
      ]
     },
     "execution_count": 28,
     "metadata": {},
     "output_type": "execute_result"
    }
   ],
   "source": [
    "x = 3.82\n",
    "f = ((x - 6.0)*x + 3.0)*x - 1.0 \n",
    "int(f)"
   ]
  },
  {
   "cell_type": "markdown",
   "id": "d1763d05",
   "metadata": {},
   "source": [
    "## Repeating calculations above in single precision. Compare to the value of ‘f’.\n",
    "## Relative error of single and double precision\n",
    "## in this case."
   ]
  },
  {
   "cell_type": "code",
   "execution_count": null,
   "id": "eb4e1c83",
   "metadata": {},
   "outputs": [
    {
     "data": {
      "text/plain": [
       "np.float32(-0.0)"
      ]
     },
     "execution_count": 29,
     "metadata": {},
     "output_type": "execute_result"
    }
   ],
   "source": [
    "from numpy import single\n",
    "xs = single(3.82)\n",
    "fs = ((xs - 6.0)*xs + 3.0)*xs - 1.0\n",
    "(fs - f)/f"
   ]
  },
  {
   "cell_type": "markdown",
   "id": "0ecba903",
   "metadata": {},
   "source": [
    "## Machine epsilon for double-precision: what is its value?"
   ]
  },
  {
   "cell_type": "code",
   "execution_count": null,
   "id": "241497ff",
   "metadata": {},
   "outputs": [
    {
     "data": {
      "text/plain": [
       "2.220446049250313e-16"
      ]
     },
     "execution_count": 30,
     "metadata": {},
     "output_type": "execute_result"
    }
   ],
   "source": [
    "eps = 2**-52\n",
    "eps"
   ]
  },
  {
   "cell_type": "markdown",
   "id": "6154f4a3",
   "metadata": {},
   "source": [
    "## What happened?"
   ]
  },
  {
   "cell_type": "code",
   "execution_count": null,
   "id": "60121491",
   "metadata": {},
   "outputs": [
    {
     "data": {
      "text/plain": [
       "0.0"
      ]
     },
     "execution_count": 33,
     "metadata": {},
     "output_type": "execute_result"
    }
   ],
   "source": [
    "1.0 + eps - 1.0\n",
    "1.0 + eps/2.0 - 1.0"
   ]
  },
  {
   "cell_type": "markdown",
   "id": "1708abc6",
   "metadata": {
    "vscode": {
     "languageId": "markdown"
    }
   },
   "source": [
    "The second line `1.0 + eps/2.0 - 1.0` returns `0.0` because of a concept called floating-point precision. \n",
    "When you divide eps by 2 (which eps is a very small number) it is very close to zero so the computer essentially see's `1.0 - 1.0` "
   ]
  },
  {
   "cell_type": "markdown",
   "id": "b8a9bba6",
   "metadata": {},
   "source": [
    "## What happened?"
   ]
  },
  {
   "cell_type": "code",
   "execution_count": null,
   "id": "8f900f24",
   "metadata": {},
   "outputs": [
    {
     "data": {
      "text/plain": [
       "inf"
      ]
     },
     "execution_count": 63,
     "metadata": {},
     "output_type": "execute_result"
    }
   ],
   "source": [
    "2.0**1023 \n",
    "2.0**1023*2.0"
   ]
  },
  {
   "cell_type": "code",
   "execution_count": null,
   "id": "961f2efc",
   "metadata": {},
   "outputs": [],
   "source": []
  },
  {
   "cell_type": "markdown",
   "id": "70647c35",
   "metadata": {},
   "source": [
    "## This time leave off the decimal on the first 2: what happened?"
   ]
  },
  {
   "cell_type": "code",
   "execution_count": null,
   "id": "9a4bd159",
   "metadata": {},
   "outputs": [
    {
     "data": {
      "text/plain": [
       "5e-324"
      ]
     },
     "execution_count": 65,
     "metadata": {},
     "output_type": "execute_result"
    }
   ],
   "source": [
    "2**1023*2.0\n",
    "2**-1074"
   ]
  },
  {
   "cell_type": "markdown",
   "id": "06cb527e",
   "metadata": {},
   "source": [
    "This time, the answer was not `inf` because it is a denormalized number, which is a valid but extremely small value that can be represented in floating-point arithmetic"
   ]
  },
  {
   "cell_type": "code",
   "execution_count": null,
   "id": "6d104249",
   "metadata": {},
   "outputs": [
    {
     "data": {
      "text/plain": [
       "0.0"
      ]
     },
     "execution_count": 66,
     "metadata": {},
     "output_type": "execute_result"
    }
   ],
   "source": [
    "2**-1074/2.0"
   ]
  },
  {
   "cell_type": "markdown",
   "id": "5914d0bd",
   "metadata": {},
   "source": [
    "What happened?"
   ]
  },
  {
   "cell_type": "markdown",
   "id": "2720f5d8",
   "metadata": {},
   "source": [
    "This is another case of floating-point precision, where `2**-1074` executes first, then then is divided by 2 which is an **extremely** small number which will just be treated as 0 by the computer "
   ]
  },
  {
   "cell_type": "markdown",
   "id": "a2996459",
   "metadata": {},
   "source": [
    "## NumPy 16-bit integer."
   ]
  },
  {
   "cell_type": "code",
   "execution_count": null,
   "id": "7c906693",
   "metadata": {},
   "outputs": [
    {
     "ename": "OverflowError",
     "evalue": "Python integer 32768 out of bounds for int16",
     "output_type": "error",
     "traceback": [
      "\u001b[0;31m---------------------------------------------------------------------------\u001b[0m",
      "\u001b[0;31mOverflowError\u001b[0m                             Traceback (most recent call last)",
      "Cell \u001b[0;32mIn[45], line 2\u001b[0m\n\u001b[1;32m      1\u001b[0m \u001b[38;5;28;01mfrom\u001b[39;00m \u001b[38;5;21;01mnumpy\u001b[39;00m \u001b[38;5;28;01mimport\u001b[39;00m int16\n\u001b[0;32m----> 2\u001b[0m vali \u001b[38;5;241m=\u001b[39m \u001b[43mint16\u001b[49m\u001b[43m(\u001b[49m\u001b[38;5;241;43m32768\u001b[39;49m\u001b[43m)\u001b[49m \n\u001b[1;32m      3\u001b[0m vali\n",
      "\u001b[0;31mOverflowError\u001b[0m: Python integer 32768 out of bounds for int16"
     ]
    }
   ],
   "source": [
    "from numpy import int16\n",
    "vali = int16(32768) \n",
    "vali"
   ]
  },
  {
   "cell_type": "markdown",
   "id": "e31ef624",
   "metadata": {},
   "source": [
    "What happened?"
   ]
  },
  {
   "cell_type": "markdown",
   "id": "8b5b5704",
   "metadata": {},
   "source": [
    "This is an example of int16 overflow where the maximum number a numpy 16-bit integer can hold is 32767. If trying to go above this limit, the value overflows"
   ]
  },
  {
   "cell_type": "code",
   "execution_count": null,
   "id": "1f27fb37",
   "metadata": {},
   "outputs": [
    {
     "ename": "NameError",
     "evalue": "name 'vali' is not defined",
     "output_type": "error",
     "traceback": [
      "\u001b[0;31m---------------------------------------------------------------------------\u001b[0m",
      "\u001b[0;31mNameError\u001b[0m                                 Traceback (most recent call last)",
      "Cell \u001b[0;32mIn[41], line 1\u001b[0m\n\u001b[0;32m----> 1\u001b[0m \u001b[38;5;28mtype\u001b[39m(\u001b[43mvali\u001b[49m)\n",
      "\u001b[0;31mNameError\u001b[0m: name 'vali' is not defined"
     ]
    }
   ],
   "source": [
    "type(vali)"
   ]
  },
  {
   "cell_type": "markdown",
   "id": "ce1cab25",
   "metadata": {},
   "source": [
    "## Start again."
   ]
  },
  {
   "cell_type": "code",
   "execution_count": null,
   "id": "6a46f844",
   "metadata": {},
   "outputs": [
    {
     "name": "stderr",
     "output_type": "stream",
     "text": [
      "/var/folders/24/ggylxxcj3xq362xbyt3gkg_00000gn/T/ipykernel_38945/485037512.py:2: RuntimeWarning: overflow encountered in scalar add\n",
      "  vali += 1\n"
     ]
    }
   ],
   "source": [
    "vali = int16(32767)\n",
    "vali += 1"
   ]
  },
  {
   "cell_type": "markdown",
   "id": "67b058b6",
   "metadata": {},
   "source": [
    "Is this ok? Why or why not?"
   ]
  },
  {
   "cell_type": "markdown",
   "id": "89305011",
   "metadata": {},
   "source": [
    "Yes, at first glance it seems as though this would result in another overflow; however, since python is dynamically typed and `vali` isn't being assigned a datatype, the computer will automatically create the needed space to accomodate this overflow and it seems the default type it uses is a 64-bit integer. "
   ]
  },
  {
   "cell_type": "code",
   "execution_count": null,
   "id": "e34e3ec3",
   "metadata": {},
   "outputs": [
    {
     "data": {
      "text/plain": [
       "numpy.int16"
      ]
     },
     "execution_count": 44,
     "metadata": {},
     "output_type": "execute_result"
    }
   ],
   "source": [
    "type(vali)"
   ]
  },
  {
   "cell_type": "markdown",
   "id": "49b52c3b",
   "metadata": {},
   "source": [
    "Does this clarify what happened?"
   ]
  },
  {
   "cell_type": "markdown",
   "id": "b7634207",
   "metadata": {},
   "source": [
    "Yes, this confirms what happened."
   ]
  },
  {
   "cell_type": "code",
   "execution_count": null,
   "id": "02c0af36",
   "metadata": {},
   "outputs": [],
   "source": [
    "vali = 2**63"
   ]
  },
  {
   "cell_type": "markdown",
   "id": "95f67161",
   "metadata": {},
   "source": [
    "Then inspect value"
   ]
  },
  {
   "cell_type": "code",
   "execution_count": null,
   "id": "e16f9411",
   "metadata": {},
   "outputs": [
    {
     "data": {
      "text/plain": [
       "9223372036854775808"
      ]
     },
     "execution_count": 48,
     "metadata": {},
     "output_type": "execute_result"
    }
   ],
   "source": [
    "vali"
   ]
  },
  {
   "cell_type": "code",
   "execution_count": null,
   "id": "2eb05640",
   "metadata": {},
   "outputs": [
    {
     "data": {
      "text/plain": [
       "int"
      ]
     },
     "execution_count": 49,
     "metadata": {},
     "output_type": "execute_result"
    }
   ],
   "source": [
    "type(vali)"
   ]
  },
  {
   "cell_type": "markdown",
   "id": "5fb950c5",
   "metadata": {},
   "source": [
    "What do you find?"
   ]
  },
  {
   "cell_type": "markdown",
   "id": "e9ca16ff",
   "metadata": {},
   "source": [
    "I found that `vali` was assigned `int` "
   ]
  },
  {
   "cell_type": "code",
   "execution_count": null,
   "id": "347140a8",
   "metadata": {},
   "outputs": [
    {
     "name": "stdout",
     "output_type": "stream",
     "text": [
      "Give me a value: 40\n"
     ]
    }
   ],
   "source": [
    "val = float(input('Give me a value: '))"
   ]
  },
  {
   "cell_type": "markdown",
   "id": "f05ec28a",
   "metadata": {},
   "source": [
    "Then inspect value"
   ]
  },
  {
   "cell_type": "code",
   "execution_count": null,
   "id": "9ed2138e",
   "metadata": {},
   "outputs": [
    {
     "data": {
      "text/plain": [
       "40.0"
      ]
     },
     "execution_count": 79,
     "metadata": {},
     "output_type": "execute_result"
    }
   ],
   "source": [
    "val"
   ]
  }
 ],
 "metadata": {
  "kernelspec": {
   "display_name": "Python 3 (ipykernel)",
   "language": "python",
   "name": "python3"
  },
  "language_info": {
   "codemirror_mode": {
    "name": "ipython",
    "version": 3
   },
   "file_extension": ".py",
   "mimetype": "text/x-python",
   "name": "python",
   "nbconvert_exporter": "python",
   "pygments_lexer": "ipython3",
   "version": "3.11.4"
  }
 },
 "nbformat": 4,
 "nbformat_minor": 5
}
