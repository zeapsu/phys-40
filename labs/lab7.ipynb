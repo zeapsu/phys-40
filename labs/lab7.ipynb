{
 "cells": [
  {
   "cell_type": "markdown",
   "metadata": {},
   "source": [
    "# **Lab 7 Conditionals**"
   ]
  },
  {
   "cell_type": "code",
   "execution_count": 22,
   "metadata": {},
   "outputs": [],
   "source": [
    "from pylab import *"
   ]
  },
  {
   "cell_type": "markdown",
   "metadata": {},
   "source": [
    "## **7.1 Graduation**\n",
    "\n",
    "In order to be eligible to graduate, a student must have completed 120 credits and have a GPA of at least 2.0. \n",
    "\n",
    "Write a simple Python program that asks the user to input their total number of completed credits and their GPA, and then which prints the statement `You are eligible to\n",
    "graduate!` if the user has both completed at least 120 credits and has a GPA of at least 2.0, but otherwise prints `You are not eligible to graduate.` if the user does not satisfy both conditions.\n",
    "\n",
    "Show that your program works correctly for all four possible cases. (10 points)"
   ]
  },
  {
   "cell_type": "code",
   "execution_count": 23,
   "metadata": {},
   "outputs": [
    {
     "name": "stdout",
     "output_type": "stream",
     "text": [
      "Credits: 120\n",
      "GPA: 1.9\n",
      "You are not eligible to graduate.\n"
     ]
    }
   ],
   "source": [
    "credits = int(input('Enter the total amount of credits: '))\n",
    "gpa = float(input('Enter GPA: '))\n",
    "\n",
    "\n",
    "if credits >= 120 and gpa >= 2.:\n",
    "    print (f'Credits: {credits}\\nGPA: {gpa}')\n",
    "    print('You are eligible to graduate!')\n",
    "else:\n",
    "    print (f'Credits: {credits}\\nGPA: {gpa}')\n",
    "    print('You are not eligible to graduate.')\n",
    "\n",
    "# for tests\n",
    "def canGraduate(credits, gpa) -> bool:\n",
    "    return credits >= 120 and gpa >= 2.\n",
    "\n",
    "# tests my conditional \n",
    "assert canGraduate(121, 1.9) == False\n",
    "assert canGraduate(119, 2.1) == False\n",
    "assert canGraduate(119, 1.9) == False\n",
    "assert canGraduate(120, 2.0) == True\n"
   ]
  },
  {
   "cell_type": "markdown",
   "metadata": {},
   "source": [
    "## **7.2 Eligibility for Congress**"
   ]
  },
  {
   "cell_type": "markdown",
   "metadata": {},
   "source": [
    "Given the upcoming 2024 election, let’s consider whether a person is eligible to be a member of the US Congress.\n",
    "\n",
    "a) A person is eligible to be a US Senator if they are at least 30 years old and have been a US citizen for at least 9 years. Start by writing a simple program that reads in a user’s age and length of citizenship and prints out whether a person is eligible to be a US Senator or not. \n",
    "\n",
    "Show that your program works correctly for all four possible cases. (10 points)"
   ]
  },
  {
   "cell_type": "code",
   "execution_count": 24,
   "metadata": {},
   "outputs": [
    {
     "name": "stdout",
     "output_type": "stream",
     "text": [
      "Age: 33\n",
      "Years as a citizen: 4\n",
      "You are not eligible to run for senator.\n"
     ]
    }
   ],
   "source": [
    "age = int(input('Enter your age: '))\n",
    "yearsCitizen = int(input('Enter the number of years you have been a citizen: '))\n",
    "\n",
    "def isEligibleForSenator(age, yearsCitizen) -> bool:\n",
    "    return age >= 30 and yearsCitizen >= 9\n",
    "\n",
    "if isEligibleForSenator(age, yearsCitizen):\n",
    "    print (f'Age: {age}')\n",
    "    print (f'Years as a citizen: {yearsCitizen}')\n",
    "    print('You are eligible to run for senator!')\n",
    "else: \n",
    "    print (f'Age: {age}')\n",
    "    print (f'Years as a citizen: {yearsCitizen}')\n",
    "    print('You are not eligible to run for senator.')\n",
    "\n",
    "# tests my conditional\n",
    "assert isEligibleForSenator(29, 9) == False\n",
    "assert isEligibleForSenator(30, 8) == False\n",
    "assert isEligibleForSenator(29, 8) == False\n",
    "assert isEligibleForSenator(30, 9) == True\n",
    "\n"
   ]
  },
  {
   "cell_type": "markdown",
   "metadata": {},
   "source": [
    "\n",
    "b) A person is eligible to be a US Representative if they are at least 25 years old and have been a US citizen for at least 7 years. \n",
    "\n",
    "Write a new program based on your program from part a) that reads in a user’s age and length of citizenship, and then which prints out just the one of the following three statements that is true:\n",
    "\n",
    "- ‘You are eligible for both the US House and Senate.’\n",
    "- ‘You eligible only for the US House.’\n",
    "- ‘You are ineligible for US Congress.’\n",
    "\n",
    "Show that your program works correctly for all of the most relevant cases (at least 9, consider creating a truth table to figure them out). (20 points)"
   ]
  },
  {
   "cell_type": "code",
   "execution_count": 25,
   "metadata": {},
   "outputs": [
    {
     "name": "stdout",
     "output_type": "stream",
     "text": [
      "Age: 25\n",
      "Years as a citizen: 9\n",
      "You are eligible only for the US House.\n"
     ]
    }
   ],
   "source": [
    "age = int(input('Enter your age: '))\n",
    "yearsCitizen = int(input('Enter the number of years you have been a citizen: '))\n",
    "\n",
    "def isEligibleForSenator(age, yearsCitizen) -> bool:\n",
    "    return age >= 30 and yearsCitizen >= 9\n",
    "\n",
    "def isEligibleForHouse(age, yearsCitizen) -> bool:\n",
    "    return age >= 25 and yearsCitizen >= 7\n",
    "\n",
    "def findEligibility(age, yearsCitizen) -> str:\n",
    "    if isEligibleForSenator(age, yearsCitizen):\n",
    "        return 'You are eligible for both the US House and Senate!'\n",
    "    elif isEligibleForHouse(age, yearsCitizen):\n",
    "        return 'You are eligible only for the US House.'\n",
    "    else:\n",
    "        return 'You are ineligible for US Congress.'\n",
    "\n",
    "\n",
    "print (f'Age: {age}')\n",
    "print (f'Years as a citizen: {yearsCitizen}')\n",
    "print(findEligibility(age, yearsCitizen))\n",
    "\n",
    "# tests my conditionals (9 cases)\n",
    "assert findEligibility(30, 9) == 'You are eligible for both the US House and Senate!'\n",
    "assert findEligibility(30, 7) == 'You are eligible only for the US House.'\n",
    "assert findEligibility(25, 9) == 'You are eligible only for the US House.'\n",
    "assert findEligibility(25, 7) == 'You are eligible only for the US House.'\n",
    "assert findEligibility(30, 6) == 'You are ineligible for US Congress.'\n",
    "assert findEligibility(24, 9) == 'You are ineligible for US Congress.'\n",
    "assert findEligibility(24, 6) == 'You are ineligible for US Congress.'\n",
    "assert findEligibility(24, 7) == 'You are ineligible for US Congress.'\n",
    "assert findEligibility(25, 6) == 'You are ineligible for US Congress.'"
   ]
  },
  {
   "cell_type": "code",
   "execution_count": null,
   "metadata": {},
   "outputs": [],
   "source": []
  }
 ],
 "metadata": {
  "kernelspec": {
   "display_name": "base",
   "language": "python",
   "name": "python3"
  },
  "language_info": {
   "codemirror_mode": {
    "name": "ipython",
    "version": 3
   },
   "file_extension": ".py",
   "mimetype": "text/x-python",
   "name": "python",
   "nbconvert_exporter": "python",
   "pygments_lexer": "ipython3",
   "version": "3.11.4"
  }
 },
 "nbformat": 4,
 "nbformat_minor": 2
}
