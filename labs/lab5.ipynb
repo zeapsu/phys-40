{
 "cells": [
  {
   "cell_type": "markdown",
   "metadata": {},
   "source": [
    "# Lab 5 "
   ]
  },
  {
   "cell_type": "code",
   "execution_count": 74,
   "metadata": {},
   "outputs": [],
   "source": [
    "from pylab import *"
   ]
  },
  {
   "cell_type": "markdown",
   "metadata": {},
   "source": [
    "## 5.1 Basic list and array operations"
   ]
  },
  {
   "cell_type": "markdown",
   "metadata": {},
   "source": [
    "### 1)\n",
    "Create a vector that has the elements: 6, 8*3, 2.5, ‘labtime’, and √2.\n",
    "\n",
    "> *In general for this lab, don’t just create vectors, but also print out their contents for veriﬁcation.*"
   ]
  },
  {
   "cell_type": "code",
   "execution_count": 75,
   "metadata": {},
   "outputs": [
    {
     "name": "stdout",
     "output_type": "stream",
     "text": [
      "['6' '24' '2.5' 'labtime' '1.4142135623730951']\n"
     ]
    }
   ],
   "source": [
    "vec = [6, 8*3, 2.5, 'labtime', sqrt(2)]\n",
    "print(array(vec))"
   ]
  },
  {
   "cell_type": "markdown",
   "metadata": {},
   "source": [
    "### 2) \n",
    "Create a vector in which the ﬁrst element is 0, and the last element is 42,\n",
    "with an increment of 3 between the elements (0, 3, 6, . . . . . . , 42).\n",
    "\n",
    "> *Starting with this question, create elements using “shortcut” techniques such as the colon operator, rather than manual entry of all the values.*"
   ]
  },
  {
   "cell_type": "code",
   "execution_count": 76,
   "metadata": {},
   "outputs": [
    {
     "name": "stdout",
     "output_type": "stream",
     "text": [
      "[ 0  3  6  9 12 15 18 21 24 27 30 33 36 39 42]\n"
     ]
    }
   ],
   "source": [
    "vec = list(range(0,43, 3))\n",
    "print(array(vec))"
   ]
  },
  {
   "cell_type": "markdown",
   "metadata": {},
   "source": [
    "### 3) \n",
    "Create a vector in which the ﬁrst element is 18, the elements decrease with increments of −4.5, and the last element is −18."
   ]
  },
  {
   "cell_type": "code",
   "execution_count": 77,
   "metadata": {},
   "outputs": [
    {
     "name": "stdout",
     "output_type": "stream",
     "text": [
      "[ 18.   13.5   9.    4.5   0.   -4.5  -9.  -13.5 -18. ]\n"
     ]
    }
   ],
   "source": [
    "vec = arange(18, -19, -4.5)\n",
    "print(vec)"
   ]
  },
  {
   "cell_type": "markdown",
   "metadata": {},
   "source": [
    "### 4)\n",
    "Create a list with 16 equally spaced elements in which the ﬁrst element is 5 and the last element is 61."
   ]
  },
  {
   "cell_type": "code",
   "execution_count": 78,
   "metadata": {},
   "outputs": [
    {
     "data": {
      "text/plain": [
       "[5.0,\n",
       " 8.733333333333334,\n",
       " 12.466666666666667,\n",
       " 16.2,\n",
       " 19.933333333333334,\n",
       " 23.666666666666668,\n",
       " 27.4,\n",
       " 31.133333333333333,\n",
       " 34.86666666666667,\n",
       " 38.6,\n",
       " 42.333333333333336,\n",
       " 46.06666666666667,\n",
       " 49.8,\n",
       " 53.53333333333333,\n",
       " 57.266666666666666,\n",
       " 61.0]"
      ]
     },
     "execution_count": 78,
     "metadata": {},
     "output_type": "execute_result"
    }
   ],
   "source": [
    "vec = linspace(5, 61, 16) \n",
    "list(vec)"
   ]
  },
  {
   "cell_type": "markdown",
   "metadata": {},
   "source": [
    "### 5) \n",
    "\n",
    "a) Create two character strings, ‘*name1*’ and ‘*name2*’, containing your ﬁrst and last names.\n",
    "\n",
    "b) Create a third string variable by concatenating the ﬁrst two strings, along with an appropriate space."
   ]
  },
  {
   "cell_type": "code",
   "execution_count": 79,
   "metadata": {},
   "outputs": [
    {
     "name": "stdout",
     "output_type": "stream",
     "text": [
      "Andry Paez\n"
     ]
    }
   ],
   "source": [
    "# Method 1 using list comprehension\n",
    "name1 = ['A','n','d','r','y']\n",
    "name2 = ['P','a','e','z']\n",
    "fullName = ''.join([name1[i] for i in range(len(name1))]) + ' ' + ''.join([name2[i] for i in range(len(name2))])\n",
    "print(fullName)"
   ]
  },
  {
   "cell_type": "code",
   "execution_count": 80,
   "metadata": {},
   "outputs": [
    {
     "name": "stdout",
     "output_type": "stream",
     "text": [
      "Andry Paez\n"
     ]
    }
   ],
   "source": [
    "# Method 2 using numpy\n",
    "name1 = 'Andry'\n",
    "name2 = 'Paez'\n",
    "fullName = array([name1, name2])\n",
    "fullName = char.add(char.add(fullName[0], ' '), fullName[1])\n",
    "print(fullName)\n"
   ]
  },
  {
   "cell_type": "code",
   "execution_count": 81,
   "metadata": {},
   "outputs": [
    {
     "name": "stdout",
     "output_type": "stream",
     "text": [
      "Andry Paez\n"
     ]
    }
   ],
   "source": [
    "# Method 3 using string concatenation\n",
    "name1 = 'Andry'\n",
    "name2 = 'Paez'\n",
    "fullName = name1 + ' ' + name2\n",
    "print(fullName)"
   ]
  },
  {
   "cell_type": "markdown",
   "metadata": {},
   "source": [
    "### 6)\n",
    "\n",
    "a) Create a vector, named `Afirst`, that has 13 elements in which the ﬁrst is 3, the increment is 4 and the last element is 51.\n",
    "\n",
    "b) Create a new vector, named `Asecond`, that has seven elements (do this step ﬁrst.) \n",
    "\n",
    "The ﬁrst four elements of `Asecond` are the ﬁrst four elements of the vector `Afirst` and the last three elements of `Asecond` are the last three elements of the vector `Afirst`."
   ]
  },
  {
   "cell_type": "code",
   "execution_count": 82,
   "metadata": {},
   "outputs": [
    {
     "name": "stdout",
     "output_type": "stream",
     "text": [
      "[ 3  7 11 15 19 23 27 31 35 39 43 47 51]\n"
     ]
    }
   ],
   "source": [
    "Afirst = arange(3, 52, 4)\n",
    "print(Afirst)"
   ]
  },
  {
   "cell_type": "code",
   "execution_count": 83,
   "metadata": {},
   "outputs": [
    {
     "name": "stdout",
     "output_type": "stream",
     "text": [
      "[0, 1, 2, 3, 4, 5, 6]\n",
      "[3, 7, 11, 15, 43, 47, 51]\n"
     ]
    }
   ],
   "source": [
    "Asecond = [i for i in range(7)]\n",
    "print(Asecond)\n",
    "Asecond[:4], Asecond[-3:] = Afirst[:4], Afirst[-3:]\n",
    "print(Asecond)"
   ]
  },
  {
   "cell_type": "markdown",
   "metadata": {},
   "source": [
    "## 5.2 More vectors, 2D arrays, and vectorization"
   ]
  },
  {
   "cell_type": "markdown",
   "metadata": {},
   "source": [
    "### 1) \n",
    "Create an array w with values `0, 0.1, 0.2, ..., 3`.\n",
    "\n",
    "Print the following: `w[:], w[:−2], w[::5], w[2:−2:6]`.\n",
    "\n",
    "Explain in each case the elements of the array that are being printed.\n"
   ]
  },
  {
   "cell_type": "code",
   "execution_count": 84,
   "metadata": {},
   "outputs": [
    {
     "name": "stdout",
     "output_type": "stream",
     "text": [
      "[0.  0.1 0.2 0.3 0.4 0.5 0.6 0.7 0.8 0.9 1.  1.1 1.2 1.3 1.4 1.5 1.6 1.7\n",
      " 1.8 1.9 2.  2.1 2.2 2.3 2.4 2.5 2.6 2.7 2.8 2.9 3. ]\n"
     ]
    }
   ],
   "source": [
    "w = arange(0, 3.1, 0.1)\n",
    "print(w)"
   ]
  },
  {
   "cell_type": "code",
   "execution_count": 85,
   "metadata": {},
   "outputs": [
    {
     "name": "stdout",
     "output_type": "stream",
     "text": [
      "[0.  0.1 0.2 0.3 0.4 0.5 0.6 0.7 0.8 0.9 1.  1.1 1.2 1.3 1.4 1.5 1.6 1.7\n",
      " 1.8 1.9 2.  2.1 2.2 2.3 2.4 2.5 2.6 2.7 2.8 2.9 3. ]\n"
     ]
    }
   ],
   "source": [
    "print(w[:])"
   ]
  },
  {
   "cell_type": "markdown",
   "metadata": {},
   "source": [
    "```python\n",
    "print(w[:])\n",
    "``` \n",
    "is using slicing notation to print all elements of the variable `w`"
   ]
  },
  {
   "cell_type": "code",
   "execution_count": 86,
   "metadata": {},
   "outputs": [
    {
     "name": "stdout",
     "output_type": "stream",
     "text": [
      "[0.  0.1 0.2 0.3 0.4 0.5 0.6 0.7 0.8 0.9 1.  1.1 1.2 1.3 1.4 1.5 1.6 1.7\n",
      " 1.8 1.9 2.  2.1 2.2 2.3 2.4 2.5 2.6 2.7 2.8]\n"
     ]
    }
   ],
   "source": [
    "print(w[:-2])"
   ]
  },
  {
   "cell_type": "markdown",
   "metadata": {},
   "source": [
    "```python\n",
    "print(w[:-2])\n",
    "```\n",
    "is using slicing to print all elements except the last two"
   ]
  },
  {
   "cell_type": "code",
   "execution_count": 87,
   "metadata": {},
   "outputs": [
    {
     "name": "stdout",
     "output_type": "stream",
     "text": [
      "[0.  0.5 1.  1.5 2.  2.5 3. ]\n"
     ]
    }
   ],
   "source": [
    "print(w[::5])"
   ]
  },
  {
   "cell_type": "markdown",
   "metadata": {},
   "source": [
    "```python \n",
    "print(w[::5])\n",
    "```\n",
    "is using slicing to extract every 5th character from the string `w` and then printing the result."
   ]
  },
  {
   "cell_type": "code",
   "execution_count": 88,
   "metadata": {},
   "outputs": [
    {
     "name": "stdout",
     "output_type": "stream",
     "text": [
      "[0.2 0.8 1.4 2.  2.6]\n"
     ]
    }
   ],
   "source": [
    "print(w[2:-2:6])"
   ]
  },
  {
   "cell_type": "markdown",
   "metadata": {},
   "source": [
    "```python \n",
    "print(w[2:-2:6])\n",
    "```\n",
    "is slicing the array from the second element to the second to last element, dividing by 6 (step of 6) then printing\n"
   ]
  },
  {
   "cell_type": "markdown",
   "metadata": {},
   "source": [
    "### 2)"
   ]
  },
  {
   "cell_type": "markdown",
   "metadata": {},
   "source": [
    "Create a 5-element vector, and a 2 × 3 array, with names and values of your choosing. \n",
    "\n",
    "Inspect their properties using `type()`, `whos`, `len()`, `shape()`, and `size()`.\n",
    "\n",
    "Report the results and comment on what they mean."
   ]
  },
  {
   "cell_type": "code",
   "execution_count": 89,
   "metadata": {},
   "outputs": [
    {
     "name": "stdout",
     "output_type": "stream",
     "text": [
      "Vector: [ 0  1  4  9 16]\n",
      "Array: \n",
      "0 1 4 \n",
      "0 1 4 \n"
     ]
    }
   ],
   "source": [
    "vec = [x**2 for x in range(5)]\n",
    "vec = array(vec)\n",
    "\n",
    "arr = [[x**2 for x in range(3)]for i in range(2)]\n",
    "arr\n",
    "\n",
    "def printSquareArray(arr):\n",
    "    for row in range(len(arr)):\n",
    "        for col in range(len(arr[row])):\n",
    "            print(arr[row][col], end=' ')\n",
    "        print()\n",
    "\n",
    "print(f'Vector: {vec}')\n",
    "print('Array: ')\n",
    "printSquareArray(arr)"
   ]
  },
  {
   "cell_type": "code",
   "execution_count": 90,
   "metadata": {},
   "outputs": [
    {
     "name": "stdout",
     "output_type": "stream",
     "text": [
      "The data type of the 5-element vector is <class 'numpy.ndarray'>\n",
      "The data type of the 2x3 array is <class 'list'>\n"
     ]
    }
   ],
   "source": [
    "print(f'The data type of the 5-element vector is {type(vec)}')\n",
    "print(f'The data type of the 2x3 array is {type(arr)}')"
   ]
  },
  {
   "cell_type": "code",
   "execution_count": 121,
   "metadata": {},
   "outputs": [
    {
     "name": "stdout",
     "output_type": "stream",
     "text": [
      "Variable   Type    Data/Info\n",
      "----------------------------\n",
      "Asecond    list    n=7\n",
      "arr        list    n=2\n"
     ]
    }
   ],
   "source": [
    "# prints the variables in the workspace that are of type list\n",
    "%whos list"
   ]
  },
  {
   "cell_type": "code",
   "execution_count": 122,
   "metadata": {},
   "outputs": [
    {
     "name": "stdout",
     "output_type": "stream",
     "text": [
      "Variable   Type       Data/Info\n",
      "-------------------------------\n",
      "Afirst     ndarray    13: 13 elems, type `int64`, 104 bytes\n",
      "vec        ndarray    5: 5 elems, type `float64`, 40 bytes\n",
      "w          ndarray    31: 31 elems, type `float64`, 248 bytes\n"
     ]
    }
   ],
   "source": [
    "# prints the variables in the workspace that are numpy arrays\n",
    "%whos ndarray"
   ]
  },
  {
   "cell_type": "code",
   "execution_count": 124,
   "metadata": {},
   "outputs": [
    {
     "name": "stdout",
     "output_type": "stream",
     "text": [
      "The length of the vector is 5\n",
      "The length of the array is 2\n"
     ]
    }
   ],
   "source": [
    "print(f'The length of the vector is {len(vec)}') # returns the length of the vector\n",
    "print(f'The length of the array is {len(arr)}') # returns the length of the array"
   ]
  },
  {
   "cell_type": "code",
   "execution_count": 128,
   "metadata": {},
   "outputs": [
    {
     "name": "stdout",
     "output_type": "stream",
     "text": [
      "The dimensions of the vector is (5,)\n",
      "The dimensions of the array is (2, 3)\n"
     ]
    }
   ],
   "source": [
    "# format (rows, columns)\n",
    "print(f'The dimensions of the vector is {shape(vec)}') # returns the shape/dimensions of the vector\n",
    "print(f'The dimensions of the array is {shape(arr)}') # returns the shape/dimensions of the array"
   ]
  },
  {
   "cell_type": "code",
   "execution_count": 144,
   "metadata": {},
   "outputs": [
    {
     "name": "stdout",
     "output_type": "stream",
     "text": [
      "The number of columns in the vector is 5\n",
      "The number of rows in the array is 2\n"
     ]
    }
   ],
   "source": [
    "# print out the number of elements given an axis of the vector and array\n",
    "print(f'The number of columns in the vector is {size(vec, 0)}') # returns the number of columns in the vector\n",
    "print(f'The number of rows in the array is {size(arr, 0)}') # returns the number of rows in the array"
   ]
  },
  {
   "cell_type": "markdown",
   "metadata": {},
   "source": [
    "### 3) \n",
    "Create a vector, try the following built-in functions on it, and comment on what they do:\n",
    "\n",
    "```python\n",
    "len(), min(), max(), sum(), sorted(), sort()\n",
    "```"
   ]
  },
  {
   "cell_type": "code",
   "execution_count": 92,
   "metadata": {},
   "outputs": [
    {
     "name": "stdout",
     "output_type": "stream",
     "text": [
      "[ 0. 16. 12.  4.  8.]\n"
     ]
    }
   ],
   "source": [
    "vec = linspace(0, 16, 5)\n",
    "shuffle(vec)\n",
    "print(vec)"
   ]
  },
  {
   "cell_type": "code",
   "execution_count": 93,
   "metadata": {},
   "outputs": [
    {
     "data": {
      "text/plain": [
       "5"
      ]
     },
     "execution_count": 93,
     "metadata": {},
     "output_type": "execute_result"
    }
   ],
   "source": [
    "len(vec) #prints the length of the vector"
   ]
  },
  {
   "cell_type": "code",
   "execution_count": 94,
   "metadata": {},
   "outputs": [
    {
     "data": {
      "text/plain": [
       "0.0"
      ]
     },
     "execution_count": 94,
     "metadata": {},
     "output_type": "execute_result"
    }
   ],
   "source": [
    "min(vec) #prints the minimum value of the vector"
   ]
  },
  {
   "cell_type": "code",
   "execution_count": 95,
   "metadata": {},
   "outputs": [
    {
     "data": {
      "text/plain": [
       "16.0"
      ]
     },
     "execution_count": 95,
     "metadata": {},
     "output_type": "execute_result"
    }
   ],
   "source": [
    "max(vec) #prints the maximum value of the vector"
   ]
  },
  {
   "cell_type": "code",
   "execution_count": 96,
   "metadata": {},
   "outputs": [
    {
     "data": {
      "text/plain": [
       "40.0"
      ]
     },
     "execution_count": 96,
     "metadata": {},
     "output_type": "execute_result"
    }
   ],
   "source": [
    "sum(vec) #prints the sum of the vector"
   ]
  },
  {
   "cell_type": "code",
   "execution_count": 97,
   "metadata": {},
   "outputs": [
    {
     "data": {
      "text/plain": [
       "[0.0, 4.0, 8.0, 12.0, 16.0]"
      ]
     },
     "execution_count": 97,
     "metadata": {},
     "output_type": "execute_result"
    }
   ],
   "source": [
    "sorted(vec) #sort the vector in ascending order by creating a new vector with the sorted version of the original vector"
   ]
  },
  {
   "cell_type": "code",
   "execution_count": 98,
   "metadata": {},
   "outputs": [
    {
     "data": {
      "text/plain": [
       "array([ 0.,  4.,  8., 12., 16.])"
      ]
     },
     "execution_count": 98,
     "metadata": {},
     "output_type": "execute_result"
    }
   ],
   "source": [
    "sort(vec) #sort the vector in ascending order by modifying the given vector"
   ]
  },
  {
   "cell_type": "markdown",
   "metadata": {},
   "source": [
    "### 4) \n",
    "\n",
    "Create a vector names `same` with eleven elements that are all `4`"
   ]
  },
  {
   "cell_type": "code",
   "execution_count": 153,
   "metadata": {},
   "outputs": [
    {
     "name": "stdout",
     "output_type": "stream",
     "text": [
      "The vector is [4 4 4 4 4 4 4 4 4 4 4] and its size is 11\n"
     ]
    }
   ],
   "source": [
    "same = [4 for x in range(11)] # using list comprehension\n",
    "same = array(same)\n",
    "print(f'The vector is {same} and its size is {size(same)}')"
   ]
  },
  {
   "cell_type": "markdown",
   "metadata": {},
   "source": [
    "### 5) \n",
    "Create the matrix shown below by using vector notation for creating vectors with constant spacing and/or the linspace command when entering the rows.\n",
    "\n",
    "(Do not worry if the number formatting is diﬀerent from what is shown here.)\n",
    "\n",
    "![image](lab5.jpg)"
   ]
  },
  {
   "cell_type": "code",
   "execution_count": 215,
   "metadata": {},
   "outputs": [
    {
     "data": {
      "text/plain": [
       "[array([ 0,  4,  8, 12, 16, 20, 24, 28]),\n",
       " array([69, 68, 67, 66, 65, 64, 63, 62]),\n",
       " array([ 1.4,  1.1,  0.8,  0.5,  0.2, -0.1, -0.4, -0.7])]"
      ]
     },
     "execution_count": 215,
     "metadata": {},
     "output_type": "execute_result"
    }
   ],
   "source": [
    "B = [arange(0, 29, 4), arange(69, 61, -1), arange(1.4, -0.8, -0.3)]\n",
    "B"
   ]
  },
  {
   "cell_type": "markdown",
   "metadata": {},
   "source": [
    "### 6)\n",
    "Replace the fourth column in matrix `B` with the numbers 1->3"
   ]
  },
  {
   "cell_type": "code",
   "execution_count": 216,
   "metadata": {},
   "outputs": [
    {
     "data": {
      "text/plain": [
       "[array([ 0,  4,  8,  1, 16, 20, 24, 28]),\n",
       " array([69, 68, 67,  2, 65, 64, 63, 62]),\n",
       " array([ 1.4,  1.1,  0.8,  3. ,  0.2, -0.1, -0.4, -0.7])]"
      ]
     },
     "execution_count": 216,
     "metadata": {},
     "output_type": "execute_result"
    }
   ],
   "source": [
    "# Brute force method \n",
    "B[0][3], B[1][3], B[2][3] = 1, 2, 3\n",
    "B\n",
    "\n"
   ]
  },
  {
   "cell_type": "markdown",
   "metadata": {},
   "source": [
    "### 7)\n",
    "a) Using the colon operator, create a 2×5 matrix, named `msame` in which all the elements are the number 7."
   ]
  },
  {
   "cell_type": "code",
   "execution_count": 291,
   "metadata": {},
   "outputs": [
    {
     "data": {
      "text/plain": [
       "array([[7., 7., 7., 7., 7.],\n",
       "       [7., 7., 7., 7., 7.]])"
      ]
     },
     "execution_count": 291,
     "metadata": {},
     "output_type": "execute_result"
    }
   ],
   "source": [
    "# create a nump array with 2 dimensions\n",
    "msame = zeros((2, 5))\n",
    "msame[:5, :5] = 7\n",
    "msame"
   ]
  },
  {
   "cell_type": "markdown",
   "metadata": {},
   "source": [
    "b) Add a third row of zeros, and then a fourth row with the numbers 1 to 5."
   ]
  },
  {
   "cell_type": "code",
   "execution_count": 292,
   "metadata": {},
   "outputs": [
    {
     "data": {
      "text/plain": [
       "array([[7., 7., 7., 7., 7.],\n",
       "       [7., 7., 7., 7., 7.],\n",
       "       [0., 0., 0., 0., 0.],\n",
       "       [1., 2., 3., 4., 5.]])"
      ]
     },
     "execution_count": 292,
     "metadata": {},
     "output_type": "execute_result"
    }
   ],
   "source": [
    "msame = vstack((msame, [0 for i in range(5)]))\n",
    "msame = vstack((msame, [i+1 for i in range(5)]))\n",
    "msame"
   ]
  },
  {
   "cell_type": "markdown",
   "metadata": {},
   "source": [
    "c) Add a ﬁfth row that multiplies the second row by the number 6."
   ]
  },
  {
   "cell_type": "code",
   "execution_count": 293,
   "metadata": {},
   "outputs": [
    {
     "data": {
      "text/plain": [
       "array([[ 7.,  7.,  7.,  7.,  7.],\n",
       "       [ 7.,  7.,  7.,  7.,  7.],\n",
       "       [ 0.,  0.,  0.,  0.,  0.],\n",
       "       [ 1.,  2.,  3.,  4.,  5.],\n",
       "       [42., 42., 42., 42., 42.]])"
      ]
     },
     "execution_count": 293,
     "metadata": {},
     "output_type": "execute_result"
    }
   ],
   "source": [
    "msame = vstack((msame, [i*6 for i in msame[1]]))\n",
    "msame"
   ]
  },
  {
   "cell_type": "markdown",
   "metadata": {},
   "source": [
    "d) Concatenate (= combine horizontally) the matrix B above with the middle\n",
    "three rows of `msame`."
   ]
  },
  {
   "cell_type": "code",
   "execution_count": 294,
   "metadata": {},
   "outputs": [
    {
     "name": "stdout",
     "output_type": "stream",
     "text": [
      "[[ 0.   4.   8.   1.  16.  20.  24.  28.   7.   7.   7.   7.   7. ]\n",
      " [69.  68.  67.   2.  65.  64.  63.  62.   0.   0.   0.   0.   0. ]\n",
      " [ 1.4  1.1  0.8  3.   0.2 -0.1 -0.4 -0.7  1.   2.   3.   4.   5. ]]\n"
     ]
    }
   ],
   "source": [
    "# Concatenate (= combine horizontally) the matrix B above with the middle\n",
    "msameNew = concatenate((array(B), msame[1:4]), axis=1)\n",
    "print(msameNew)"
   ]
  },
  {
   "cell_type": "markdown",
   "metadata": {},
   "source": [
    "### 8)\n",
    "Evaluate the dot product of two vectors, using vectorization to do so in just one line of code"
   ]
  },
  {
   "cell_type": "code",
   "execution_count": 299,
   "metadata": {},
   "outputs": [
    {
     "data": {
      "text/plain": [
       "9"
      ]
     },
     "execution_count": 299,
     "metadata": {},
     "output_type": "execute_result"
    }
   ],
   "source": [
    "u = array([1, 4, 1])\n",
    "v = array([2, 1, 3])\n",
    "# dot product using vectors\n",
    "sum(u*v)"
   ]
  }
 ],
 "metadata": {
  "kernelspec": {
   "display_name": "base",
   "language": "python",
   "name": "python3"
  },
  "language_info": {
   "codemirror_mode": {
    "name": "ipython",
    "version": 3
   },
   "file_extension": ".py",
   "mimetype": "text/x-python",
   "name": "python",
   "nbconvert_exporter": "python",
   "pygments_lexer": "ipython3",
   "version": "3.11.4"
  }
 },
 "nbformat": 4,
 "nbformat_minor": 2
}
