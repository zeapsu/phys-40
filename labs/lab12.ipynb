{
 "cells": [
  {
   "cell_type": "markdown",
   "metadata": {},
   "source": [
    "# **Lab 12: Exoplanets**\n",
    "\n"
   ]
  },
  {
   "cell_type": "code",
   "execution_count": 31,
   "metadata": {},
   "outputs": [],
   "source": [
    "from pylab import *\n",
    "import pandas as pd"
   ]
  },
  {
   "cell_type": "code",
   "execution_count": 32,
   "metadata": {},
   "outputs": [
    {
     "data": {
      "text/html": [
       "<div>\n",
       "<style scoped>\n",
       "    .dataframe tbody tr th:only-of-type {\n",
       "        vertical-align: middle;\n",
       "    }\n",
       "\n",
       "    .dataframe tbody tr th {\n",
       "        vertical-align: top;\n",
       "    }\n",
       "\n",
       "    .dataframe thead th {\n",
       "        text-align: right;\n",
       "    }\n",
       "</style>\n",
       "<table border=\"1\" class=\"dataframe\">\n",
       "  <thead>\n",
       "    <tr style=\"text-align: right;\">\n",
       "      <th></th>\n",
       "      <th>Planet</th>\n",
       "      <th>Orbital Period</th>\n",
       "      <th>Planet Radius</th>\n",
       "      <th>Planet Mass</th>\n",
       "    </tr>\n",
       "  </thead>\n",
       "  <tbody>\n",
       "    <tr>\n",
       "      <th>0</th>\n",
       "      <td>b</td>\n",
       "      <td>1.5109</td>\n",
       "      <td>1.086</td>\n",
       "      <td>0.790</td>\n",
       "    </tr>\n",
       "    <tr>\n",
       "      <th>1</th>\n",
       "      <td>c</td>\n",
       "      <td>2.4218</td>\n",
       "      <td>1.056</td>\n",
       "      <td>1.630</td>\n",
       "    </tr>\n",
       "    <tr>\n",
       "      <th>2</th>\n",
       "      <td>d</td>\n",
       "      <td>4.0498</td>\n",
       "      <td>0.772</td>\n",
       "      <td>0.330</td>\n",
       "    </tr>\n",
       "    <tr>\n",
       "      <th>3</th>\n",
       "      <td>e</td>\n",
       "      <td>6.0996</td>\n",
       "      <td>0.918</td>\n",
       "      <td>0.240</td>\n",
       "    </tr>\n",
       "    <tr>\n",
       "      <th>4</th>\n",
       "      <td>f</td>\n",
       "      <td>9.2065</td>\n",
       "      <td>1.045</td>\n",
       "      <td>0.360</td>\n",
       "    </tr>\n",
       "    <tr>\n",
       "      <th>5</th>\n",
       "      <td>g</td>\n",
       "      <td>12.3528</td>\n",
       "      <td>1.127</td>\n",
       "      <td>0.566</td>\n",
       "    </tr>\n",
       "    <tr>\n",
       "      <th>6</th>\n",
       "      <td>H</td>\n",
       "      <td>18.7663</td>\n",
       "      <td>0.715</td>\n",
       "      <td>0.086</td>\n",
       "    </tr>\n",
       "  </tbody>\n",
       "</table>\n",
       "</div>"
      ],
      "text/plain": [
       "  Planet  Orbital Period  Planet Radius  Planet Mass\n",
       "0      b          1.5109          1.086        0.790\n",
       "1      c          2.4218          1.056        1.630\n",
       "2      d          4.0498          0.772        0.330\n",
       "3      e          6.0996          0.918        0.240\n",
       "4      f          9.2065          1.045        0.360\n",
       "5      g         12.3528          1.127        0.566\n",
       "6      H         18.7663          0.715        0.086"
      ]
     },
     "execution_count": 32,
     "metadata": {},
     "output_type": "execute_result"
    }
   ],
   "source": [
    "# Read in data from the csv\n",
    "data = pd.read_csv('exoplanets.csv')\n",
    "data\n",
    "\n"
   ]
  },
  {
   "cell_type": "code",
   "execution_count": 35,
   "metadata": {},
   "outputs": [],
   "source": [
    "# make vectors for each field\n",
    "planets = array(data['Planet']) \n",
    "orbitalPeriods = array(data['Orbital Period']) # days\n",
    "orbitalPeriods *= 365 # years\n",
    "planetRadius = array(data['Planet Radius']) # R_\\oplus\n",
    "planetMass = array(data['Planet Mass']) # M_\\oplus\n"
   ]
  },
  {
   "cell_type": "markdown",
   "metadata": {},
   "source": [
    "Note that Planet radius and Planet mass are in terms of $R_\\oplus = 6371\\;km$, $M_\\oplus = 5.972\\times 10^{24}\\;kg$ respectively"
   ]
  },
  {
   "cell_type": "markdown",
   "metadata": {},
   "source": [
    "## Part a:"
   ]
  },
  {
   "cell_type": "code",
   "execution_count": 36,
   "metadata": {},
   "outputs": [
    {
     "data": {
      "text/plain": [
       "array([ 67.24898344,  92.10589484, 129.76302476, 170.50200097,\n",
       "       224.34941838, 272.92219132, 360.67359287])"
      ]
     },
     "execution_count": 36,
     "metadata": {},
     "output_type": "execute_result"
    }
   ],
   "source": [
    "# Kepler's third law\n",
    "# returns the semi-major axis length 'a' of ea planet's orbit in AU\n",
    "def keplerThirdLaw(orbitalPeriod):\n",
    "    return (orbitalPeriod**(2/3))\n",
    "\n",
    "semiMajorAxisLength = keplerThirdLaw(orbitalPeriods) # in AU\n",
    "semiMajorAxisLength"
   ]
  },
  {
   "cell_type": "markdown",
   "metadata": {},
   "source": [
    "## Part b:"
   ]
  },
  {
   "cell_type": "code",
   "execution_count": 57,
   "metadata": {},
   "outputs": [
    {
     "name": "stdout",
     "output_type": "stream",
     "text": [
      "Planet b: semi-major axis = 67 AU = 1.01e+10\n",
      "Planet c: semi-major axis = 92 AU = 1.38e+10\n",
      "Planet d: semi-major axis = 130 AU = 1.95e+10\n",
      "Planet e: semi-major axis = 171 AU = 2.56e+10\n",
      "Planet f: semi-major axis = 224 AU = 3.37e+10\n",
      "Planet g: semi-major axis = 273 AU = 4.09e+10\n",
      "Planet H: semi-major axis = 361 AU = 5.41e+10\n"
     ]
    }
   ],
   "source": [
    "for i, item in enumerate(semiMajorAxisLength):\n",
    "    print(f'Planet {planets[i]}: semi-major axis = {round(item)} AU = {item * (1.5*10**8):.3}')\n"
   ]
  },
  {
   "cell_type": "markdown",
   "metadata": {},
   "source": [
    "## Part c:"
   ]
  },
  {
   "cell_type": "code",
   "execution_count": 59,
   "metadata": {},
   "outputs": [],
   "source": [
    "def drawCircle(x0, y0):\n",
    "    pass"
   ]
  },
  {
   "cell_type": "code",
   "execution_count": null,
   "metadata": {},
   "outputs": [],
   "source": []
  }
 ],
 "metadata": {
  "kernelspec": {
   "display_name": "base",
   "language": "python",
   "name": "python3"
  },
  "language_info": {
   "codemirror_mode": {
    "name": "ipython",
    "version": 3
   },
   "file_extension": ".py",
   "mimetype": "text/x-python",
   "name": "python",
   "nbconvert_exporter": "python",
   "pygments_lexer": "ipython3",
   "version": "3.11.4"
  }
 },
 "nbformat": 4,
 "nbformat_minor": 2
}
