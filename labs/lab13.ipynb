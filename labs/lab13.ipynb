{
 "cells": [
  {
   "cell_type": "markdown",
   "metadata": {},
   "source": [
    "# **Lab 13: Home Run Derby**"
   ]
  },
  {
   "cell_type": "code",
   "execution_count": null,
   "metadata": {},
   "outputs": [],
   "source": [
    "\n",
    "from pylab import *\n",
    "from random import uniform\n",
    "from ipywidgets import interact, fixed, Dropdown "
   ]
  },
  {
   "cell_type": "markdown",
   "metadata": {},
   "source": [
    "## Same code as lab 10, but we add widgets"
   ]
  },
  {
   "cell_type": "code",
   "execution_count": 53,
   "metadata": {},
   "outputs": [
    {
     "data": {
      "application/vnd.jupyter.widget-view+json": {
       "model_id": "c7a6605dc5e640eeb66ab9d6dcb1a063",
       "version_major": 2,
       "version_minor": 0
      },
      "text/plain": [
       "interactive(children=(FloatSlider(value=50.5, description='velocity', min=1.0), FloatSlider(value=45.0, descri…"
      ]
     },
     "metadata": {},
     "output_type": "display_data"
    },
    {
     "data": {
      "text/plain": [
       "<function __main__.graphMotion(velocity, angle)>"
      ]
     },
     "execution_count": 53,
     "metadata": {},
     "output_type": "execute_result"
    }
   ],
   "source": [
    "# constants/variables \n",
    "GRAVITY = 9.81  # m/s^2\n",
    "LENGTH = 100  # m\n",
    "TOLERANCE = 1\n",
    "LOWER_BOUND = LENGTH - TOLERANCE\n",
    "UPPER_BOUND = LENGTH + TOLERANCE\n",
    "WALL_HEIGHT = 8  # m\n",
    "\n",
    "velocity: float\n",
    "angle: float\n",
    "\n",
    "# map of states\n",
    "dict = {0: 'The ball hit the wall!', 1: 'Home run!!', 2: 'The ball hit the ground.'}\n",
    "\n",
    "# function for duration of projectile motion\n",
    "def t_flight(velocity, angle) -> float:\n",
    "    return 2*velocity*sin(radians(angle))/GRAVITY\n",
    "\n",
    "# function to check in which state the ball is in\n",
    "def checkState(x, y, dict) -> str:\n",
    "    # check if the ball hit the wall\n",
    "    if (LOWER_BOUND <= x <= UPPER_BOUND) and ( 0 < y <= WALL_HEIGHT):\n",
    "        print(f'x: {x:.2f}m | y: {y:.2f}m')\n",
    "        return dict[0]\n",
    "    # check for home run\n",
    "    elif x >= LENGTH and y >= WALL_HEIGHT: \n",
    "        print(f'x: {x:.2f}m | y: {y:.2f}m')\n",
    "        return dict[1]\n",
    "    # ball hit the ground case\n",
    "    else:\n",
    "        y = 0\n",
    "        if x < LENGTH:\n",
    "            print(f'x: {x:.2f}m | y: {y:.2f}m')\n",
    "            return dict[2]\n",
    "\n",
    "# function to graph the motion\n",
    "def graphMotion(velocity, angle):\n",
    "    # figure information\n",
    "    figure(figsize=(8, 6))\n",
    "\n",
    "    # parameter vectors\n",
    "    t = linspace(0, t_flight(velocity, angle), 1000)\n",
    "    x = velocity*t*cos(radians(angle))\n",
    "    y = velocity*t*sin(radians(angle)) - 0.5*GRAVITY*t**2\n",
    "\n",
    "    x = [item for item in x if item <= ub]\n",
    "    y = y[:len(x)]\n",
    "    t = t[:len(x)]\n",
    "\n",
    "    title(f'{checkState(x[-1], y[-1], dict)}')\n",
    "\n",
    "    xlabel('Distance [$m$]')\n",
    "    ylabel('Height [$m$]')\n",
    "\n",
    "    # plot vertical wall at x = 100 with height 8\n",
    "    plot([LENGTH, LENGTH], [0, WALL_HEIGHT], 'r-')\n",
    "\n",
    "    # plot the trajectory\n",
    "    plot(x, y)\n",
    "\n",
    "    xlim(0,LENGTH+10)\n",
    "    ylim(0,50)\n",
    "\n",
    "    # savefig('ground.png')\n",
    "    # savefig('wall.png')\n",
    "    # savefig('homerun.png')\n",
    "\n",
    "interact(graphMotion, velocity=(1., 100.), angle=(1., 89.))"
   ]
  },
  {
   "cell_type": "markdown",
   "metadata": {},
   "source": [
    "### Extra Credit: Add a pull-down menu that enables user to select different buildings"
   ]
  },
  {
   "cell_type": "code",
   "execution_count": 72,
   "metadata": {},
   "outputs": [
    {
     "data": {
      "application/vnd.jupyter.widget-view+json": {
       "model_id": "43ca41730dd34583aac93afbd9d88240",
       "version_major": 2,
       "version_minor": 0
      },
      "text/plain": [
       "interactive(children=(FloatSlider(value=50.0, description='velocity', min=1.0, step=1.0), FloatSlider(value=45…"
      ]
     },
     "metadata": {},
     "output_type": "display_data"
    }
   ],
   "source": [
    "class Derby:\n",
    "    def __init__(self):\n",
    "        # Initialize building dimensions\n",
    "        self.buildingWidth = uniform(5, 15)\n",
    "        self.buildingHeight = uniform(10, 30)\n",
    "        self.houseWidth = uniform(8, 12)\n",
    "        self.houseHeight = uniform(5, 8)\n",
    "    \n",
    "    def getObstacleProperties(self, obstacleType):\n",
    "        \"\"\"Get width and height of selected obstacle\"\"\"\n",
    "        if obstacleType == 'Wall':\n",
    "            return 1, WALL_HEIGHT\n",
    "        elif obstacleType == 'House':\n",
    "            return self.houseWidth, self.houseHeight\n",
    "        else:  # Building\n",
    "            return self.buildingWidth, self.buildingHeight\n",
    "    \n",
    "    def checkCollision(self, x, y, obstacleType):\n",
    "        \"\"\"Check what the ball collided with\"\"\"\n",
    "        width, height = self.getObstacleProperties(obstacleType)\n",
    "        xStart = LENGTH - width\n",
    "        \n",
    "        # Hit obstacle\n",
    "        if xStart <= x <= LENGTH and 0 <= y <= height:\n",
    "            return 'Broken Window!' if obstacleType in ['House', 'Building'] else 'The ball hit the wall!'\n",
    "        \n",
    "        # Home run    \n",
    "        if x >= LENGTH and y >= height:\n",
    "            return 'Home run!!'\n",
    "            \n",
    "        # Ground hit\n",
    "        return 'The ball hit the ground.'\n",
    "    \n",
    "    def graphMotion(self, velocity, angle, obstacleType):\n",
    "        # Calculate trajectory\n",
    "        t = linspace(0, 2 * velocity * sin(radians(angle)) / GRAVITY, 100)\n",
    "        x = velocity * t * cos(radians(angle))\n",
    "        y = velocity * t * sin(radians(angle)) - 0.5 * GRAVITY * t**2\n",
    "        \n",
    "        # Create plot\n",
    "        fig = figure(figsize=(8, 6))\n",
    "        ax = fig.gca()\n",
    "        \n",
    "        # Draw obstacle\n",
    "        width, height = self.getObstacleProperties(obstacleType)\n",
    "        xStart = LENGTH - width\n",
    "        color = {'Wall': 'gray', 'House': 'brown', 'Building': 'darkgray'}[obstacleType]\n",
    "        ax.add_patch(Rectangle((xStart, 0), width, height, facecolor=color, alpha=0.5))\n",
    "        \n",
    "        # Plot trajectory\n",
    "        plot(x, y, 'b-', label='Ball Trajectory')\n",
    "        \n",
    "        # Plot end point\n",
    "        plot(x[-1], y[-1], 'ro', label='End Point')\n",
    "        \n",
    "        # Set title based on collision\n",
    "        title(self.checkCollision(x[-1], y[-1], obstacleType))\n",
    "        \n",
    "        # Set labels and limits\n",
    "        xlabel('Distance [m]')\n",
    "        ylabel('Height [m]')\n",
    "        xlim(0, LENGTH + 10)\n",
    "        ylim(0, max(50, height + 10))\n",
    "        legend()\n",
    "    \n",
    "    def makeInteractive(self):\n",
    "        \"\"\"Create the interactive widget\"\"\"\n",
    "        obstacleDropdown = Dropdown(\n",
    "            options=['Wall', 'House', 'Building'],\n",
    "            value='Wall',\n",
    "            description='Obstacle:'\n",
    "        )\n",
    "        \n",
    "        interact(self.graphMotion, \n",
    "                velocity=(1., 100., 1.),\n",
    "                angle=(1., 89., 1.),\n",
    "                obstacleType=obstacleDropdown)\n",
    "\n",
    "# Create and display the widget\n",
    "derby = Derby()\n",
    "derby.makeInteractive()"
   ]
  },
  {
   "cell_type": "code",
   "execution_count": null,
   "metadata": {},
   "outputs": [],
   "source": []
  }
 ],
 "metadata": {
  "kernelspec": {
   "display_name": "base",
   "language": "python",
   "name": "python3"
  },
  "language_info": {
   "codemirror_mode": {
    "name": "ipython",
    "version": 3
   },
   "file_extension": ".py",
   "mimetype": "text/x-python",
   "name": "python",
   "nbconvert_exporter": "python",
   "pygments_lexer": "ipython3",
   "version": "3.12.2"
  }
 },
 "nbformat": 4,
 "nbformat_minor": 4
}
