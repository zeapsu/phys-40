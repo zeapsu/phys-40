{
 "cells": [
  {
   "cell_type": "markdown",
   "metadata": {},
   "source": [
    "# **Lab 13: Home Run Derby**"
   ]
  },
  {
   "cell_type": "code",
   "execution_count": null,
   "metadata": {},
   "outputs": [],
   "source": [
    "\n",
    "from pylab import *\n",
    "from random import uniform\n",
    "from ipywidgets import interact, fixed, Dropdown "
   ]
  },
  {
   "cell_type": "markdown",
   "metadata": {},
   "source": [
    "## Same code as lab 10, but we add widgets"
   ]
  },
  {
   "cell_type": "code",
   "execution_count": 53,
   "metadata": {},
   "outputs": [
    {
     "data": {
      "application/vnd.jupyter.widget-view+json": {
       "model_id": "c7a6605dc5e640eeb66ab9d6dcb1a063",
       "version_major": 2,
       "version_minor": 0
      },
      "text/plain": [
       "interactive(children=(FloatSlider(value=50.5, description='velocity', min=1.0), FloatSlider(value=45.0, descri…"
      ]
     },
     "metadata": {},
     "output_type": "display_data"
    },
    {
     "data": {
      "text/plain": [
       "<function __main__.graphMotion(velocity, angle)>"
      ]
     },
     "execution_count": 53,
     "metadata": {},
     "output_type": "execute_result"
    }
   ],
   "source": [
    "# constants/variables \n",
    "GRAVITY = 9.81  # m/s^2\n",
    "LENGTH = 100  # m\n",
    "TOLERANCE = 1\n",
    "LOWER_BOUND = LENGTH - TOLERANCE\n",
    "UPPER_BOUND = LENGTH + TOLERANCE\n",
    "WALL_HEIGHT = 8  # m\n",
    "\n",
    "velocity: float\n",
    "angle: float\n",
    "\n",
    "# map of states\n",
    "dict = {0: 'The ball hit the wall!', 1: 'Home run!!', 2: 'The ball hit the ground.'}\n",
    "\n",
    "# function for duration of projectile motion\n",
    "def t_flight(velocity, angle) -> float:\n",
    "    return 2*velocity*sin(radians(angle))/GRAVITY\n",
    "\n",
    "# function to check in which state the ball is in\n",
    "def checkState(x, y, dict) -> str:\n",
    "    # check if the ball hit the wall\n",
    "    if (LOWER_BOUND <= x <= UPPER_BOUND) and ( 0 < y <= WALL_HEIGHT):\n",
    "        print(f'x: {x:.2f}m | y: {y:.2f}m')\n",
    "        return dict[0]\n",
    "    # check for home run\n",
    "    elif x >= LENGTH and y >= WALL_HEIGHT: \n",
    "        print(f'x: {x:.2f}m | y: {y:.2f}m')\n",
    "        return dict[1]\n",
    "    # ball hit the ground case\n",
    "    else:\n",
    "        y = 0\n",
    "        if x < LENGTH:\n",
    "            print(f'x: {x:.2f}m | y: {y:.2f}m')\n",
    "            return dict[2]\n",
    "\n",
    "# function to graph the motion\n",
    "def graphMotion(velocity, angle):\n",
    "    # figure information\n",
    "    figure(figsize=(8, 6))\n",
    "\n",
    "    # parameter vectors\n",
    "    t = linspace(0, t_flight(velocity, angle), 1000)\n",
    "    x = velocity*t*cos(radians(angle))\n",
    "    y = velocity*t*sin(radians(angle)) - 0.5*GRAVITY*t**2\n",
    "\n",
    "    x = [item for item in x if item <= ub]\n",
    "    y = y[:len(x)]\n",
    "    t = t[:len(x)]\n",
    "\n",
    "    title(f'{checkState(x[-1], y[-1], dict)}')\n",
    "\n",
    "    xlabel('Distance [$m$]')\n",
    "    ylabel('Height [$m$]')\n",
    "\n",
    "    # plot vertical wall at x = 100 with height 8\n",
    "    plot([LENGTH, LENGTH], [0, WALL_HEIGHT], 'r-')\n",
    "\n",
    "    # plot the trajectory\n",
    "    plot(x, y)\n",
    "\n",
    "    xlim(0,LENGTH+10)\n",
    "    ylim(0,50)\n",
    "\n",
    "    # savefig('ground.png')\n",
    "    # savefig('wall.png')\n",
    "    # savefig('homerun.png')\n",
    "\n",
    "interact(graphMotion, velocity=(1., 100.), angle=(1., 89.))"
   ]
  },
  {
   "cell_type": "markdown",
   "metadata": {},
   "source": [
    "### Extra Credit: Add a pull-down menu that enables user to select different buildings"
   ]
  },
  {
   "cell_type": "code",
   "execution_count": null,
   "metadata": {},
   "outputs": [
    {
     "data": {
      "application/vnd.jupyter.widget-view+json": {
       "model_id": "f4a0a31baa2446379b0f46bbfd55580b",
       "version_major": 2,
       "version_minor": 0
      },
      "text/plain": [
       "interactive(children=(FloatSlider(value=50.0, description='velocity', min=1.0, step=1.0), FloatSlider(value=45…"
      ]
     },
     "metadata": {},
     "output_type": "display_data"
    }
   ],
   "source": [
    "\n",
    "# Throw everything into a class\n",
    "class Derby:\n",
    "    def __init__(self):\n",
    "        # Initialize with random building dimensions\n",
    "        self.buildingWidth = uniform(5, 15)  # Random width between 5-15m\n",
    "        self.buildingHeight = uniform(10, 30)  # Random height between 10-30m\n",
    "        self.houseWidth = uniform(8, 12)  # Random width between 8-12m\n",
    "        self.houseHeight = uniform(5, 8)  # Random height between 5-8m\n",
    "        \n",
    "    def getFlightTime(self, velocity, angle) -> float:\n",
    "        \"\"\"Calculate the time of flight\"\"\"\n",
    "        return 2 * velocity * sin(radians(angle)) / GRAVITY\n",
    "    \n",
    "    def getObstacleBounds(self, obstacleType):\n",
    "        \"\"\"Get the x-bounds and height of the obstacle\"\"\"\n",
    "        width = self.getObstacleWidth(obstacleType)\n",
    "        height = self.getObstacleHeight(obstacleType)\n",
    "        xStart = LENGTH - width  # Left edge of obstacle\n",
    "        xEnd = LENGTH  # Right edge of obstacle\n",
    "        return xStart, xEnd, height\n",
    "    \n",
    "    def checkState(self, x, y, obstacleType) -> str:\n",
    "        \"\"\"Determine what happened to the ball\"\"\"\n",
    "        xStart, xEnd, obstacleHeight = self.getObstacleBounds(obstacleType)\n",
    "        \n",
    "        # Check if ball hit the obstacle\n",
    "        if (xStart <= x <= xEnd) and (0 <= y <= obstacleHeight):\n",
    "            print(f'x: {x:.2f}m | y: {y:.2f}m')\n",
    "            return 'Broken Window!' if obstacleType in ['House', 'Building'] else 'The ball hit the wall!'\n",
    "            \n",
    "        # Check for home run (cleared the obstacle)\n",
    "        elif x >= xEnd and y >= obstacleHeight:\n",
    "            print(f'x: {x:.2f}m | y: {y:.2f}m')\n",
    "            return 'Home run!!'\n",
    "            \n",
    "        # Ball hit the ground case\n",
    "        else:\n",
    "            if x < xEnd:\n",
    "                print(f'x: {x:.2f}m | y: {0:.2f}m')\n",
    "                return 'The ball hit the ground.'\n",
    "            \n",
    "    def getObstacleHeight(self, obstacleType):\n",
    "        \"\"\"Get height based on obstacle type\"\"\"\n",
    "        if obstacleType == 'Wall':\n",
    "            return WALL_HEIGHT\n",
    "        elif obstacleType == 'House':\n",
    "            return self.houseHeight\n",
    "        else:  # Building\n",
    "            return self.buildingHeight\n",
    "            \n",
    "    def getObstacleWidth(self, obstacleType):\n",
    "        \"\"\"Get width based on obstacle type\"\"\"\n",
    "        if obstacleType == 'Wall':\n",
    "            return 1  # Wall is thin\n",
    "        elif obstacleType == 'House':\n",
    "            return self.houseWidth\n",
    "        else:  # Building\n",
    "            return self.buildingWidth\n",
    "    \n",
    "    def drawObstacle(self, ax, obstacleType):\n",
    "        \"\"\"Draw the selected obstacle\"\"\"\n",
    "        height = self.getObstacleHeight(obstacleType)\n",
    "        width = self.getObstacleWidth(obstacleType)\n",
    "        \n",
    "        # Position the obstacle so its right edge is at x=LENGTH\n",
    "        xStart = LENGTH - width\n",
    "        \n",
    "        # Create and add the rectangle\n",
    "        colorMap = {\n",
    "            'Wall': 'gray',\n",
    "            'House': 'brown',\n",
    "            'Building': 'darkgray'\n",
    "        }\n",
    "        \n",
    "        obstacle = Rectangle((xStart, 0), width, height, \n",
    "                           facecolor=colorMap[obstacleType],\n",
    "                           alpha=0.5)\n",
    "        ax.add_patch(obstacle)\n",
    "        \n",
    "        return height  # Return height for trajectory calculations\n",
    "    \n",
    "    def graphMotion(self, velocity, angle, obstacleType):\n",
    "        \"\"\"Graph the projectile motion with current parameters\"\"\"\n",
    "        # Calculate trajectory\n",
    "        t = linspace(0, self.getFlightTime(velocity, angle), 1000)\n",
    "        x = velocity * t * cos(radians(angle))\n",
    "        y = velocity * t * sin(radians(angle)) - 0.5 * GRAVITY * t**2\n",
    "        \n",
    "        # Filter vectors and match lengths\n",
    "        xVals = [item for item in x if item <= UPPER_BOUND]\n",
    "        yVals = y[:len(xVals)]\n",
    "        \n",
    "        # Create figure\n",
    "        fig = figure(figsize=(8, 6))\n",
    "        ax = fig.gca()\n",
    "        \n",
    "        # Draw obstacle and get its height\n",
    "        obstacleHeight = self.drawObstacle(ax, obstacleType)\n",
    "        \n",
    "        # Plot trajectory\n",
    "        plot(xVals, yVals, 'b-', label='Ball Trajectory')\n",
    "        \n",
    "        # Set title based on outcome\n",
    "        title(f'{self.checkState(xVals[-1], yVals[-1], obstacleType)}')\n",
    "        \n",
    "        # Labels and limits\n",
    "        xlabel('Distance [m]')\n",
    "        ylabel('Height [m]')\n",
    "        xlim(0, LENGTH + 10)\n",
    "        ylim(0, max(50, obstacleHeight + 10))  # Adjust ylim based on obstacle height\n",
    "        \n",
    "        # Add legend\n",
    "        legend()\n",
    "    \n",
    "    def makeInteractive(self):\n",
    "        \"\"\"Create the interactive widget\"\"\"\n",
    "        # Create dropdown for obstacle selection\n",
    "        obstacleDropdown = Dropdown(\n",
    "            options=['Wall', 'House', 'Building'],\n",
    "            value='Wall',\n",
    "            description='obstacle:'\n",
    "        )\n",
    "        \n",
    "        # Create the interactive widget\n",
    "        interact(self.graphMotion, \n",
    "                velocity=(1., 100., 1.),      # min, max, step\n",
    "                angle=(1., 89., 1.),          # min, max, step\n",
    "                obstacleType=obstacleDropdown)\n",
    "\n",
    "# Create and display the widget\n",
    "derby = Derby()\n",
    "derby.makeInteractive()"
   ]
  },
  {
   "cell_type": "code",
   "execution_count": null,
   "metadata": {},
   "outputs": [],
   "source": []
  }
 ],
 "metadata": {
  "kernelspec": {
   "display_name": "base",
   "language": "python",
   "name": "python3"
  },
  "language_info": {
   "codemirror_mode": {
    "name": "ipython",
    "version": 3
   },
   "file_extension": ".py",
   "mimetype": "text/x-python",
   "name": "python",
   "nbconvert_exporter": "python",
   "pygments_lexer": "ipython3",
   "version": "3.12.2"
  }
 },
 "nbformat": 4,
 "nbformat_minor": 4
}
