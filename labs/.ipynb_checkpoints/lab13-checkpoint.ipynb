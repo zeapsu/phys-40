{
 "cells": [
  {
   "cell_type": "markdown",
   "metadata": {},
   "source": [
    "# **Lab 13: Home Run Derby**"
   ]
  },
  {
   "cell_type": "code",
   "execution_count": 2,
   "metadata": {},
   "outputs": [],
   "source": [
    "from pylab import *\n",
    "from random import uniform\n",
    "from ipywidgets import interact #First, import interact from ipywidgets"
   ]
  },
  {
   "cell_type": "markdown",
   "metadata": {},
   "source": [
    "## Same code as lab 10, but we add widgets"
   ]
  },
  {
   "cell_type": "code",
   "execution_count": null,
   "metadata": {},
   "outputs": [
    {
     "data": {
      "application/vnd.jupyter.widget-view+json": {
       "model_id": "aae659543d6d4b3ca7d39b446a2c3b58",
       "version_major": 2,
       "version_minor": 0
      },
      "text/plain": [
       "interactive(children=(FloatSlider(value=50.5, description='v_0', min=1.0), FloatSlider(value=45.0, description…"
      ]
     },
     "metadata": {},
     "output_type": "display_data"
    },
    {
     "data": {
      "text/plain": [
       "<function __main__.graphMotion(v_0, theta_0)>"
      ]
     },
     "execution_count": 26,
     "metadata": {},
     "output_type": "execute_result"
    }
   ],
   "source": [
    "# constants/variables \n",
    "g = 9.81 # m/s^2\n",
    "v_0: float\n",
    "theta_0: float\n",
    "wall_length = 100 # m\n",
    "tolerance = 1\n",
    "lb = wall_length - tolerance\n",
    "ub = wall_length + tolerance\n",
    "wall_height = 8 # m\n",
    "\n",
    "# map of states\n",
    "dict = {0: 'The ball hit the wall!', 1: 'Home run!!', 2: 'The ball hit the ground.'}\n",
    "\n",
    "# function for duration of projectile motion\n",
    "def t_flight(v_0, theta_0) -> float:\n",
    "    return 2*v_0*sin(radians(theta_0))/g\n",
    "\n",
    "# function to check in which state the ball is in\n",
    "def checkState(x, y, dict) -> str:\n",
    "    # check if the ball hit the wall\n",
    "    if (lb <= x <= ub) and ( 0 < y <= wall_height):\n",
    "        print(f'x: {x:.2f}m | y: {y:.2f}m')\n",
    "        return dict[0]\n",
    "\n",
    "    # check for home run\n",
    "    if x >= wall_length and y >= wall_height: \n",
    "        print(f'x: {x:.2f}m | y: {y:.2f}m')\n",
    "        return dict[1]\n",
    "\n",
    "    # check if the ball is under the ground \n",
    "    if y <= 0:\n",
    "        y = 0\n",
    "        if x < wall_length:\n",
    "            print(f'x: {x:.2f}m | y: {y:.2f}m')\n",
    "            return dict[2]\n",
    "\n",
    "# function to graph the motion\n",
    "def graphMotion(v_0, theta_0):\n",
    "    # figure information\n",
    "    figure(figsize=(8, 6))\n",
    "\n",
    "    # parameter vectors\n",
    "    t = linspace(0, t_flight(v_0, theta_0), 1000)\n",
    "    x = v_0*t*cos(radians(theta_0))\n",
    "    y = v_0*t*sin(radians(theta_0)) - 0.5*g*t**2\n",
    "\n",
    "    x = [item for item in x if item <= ub]\n",
    "    y = y[:len(x)]\n",
    "    t = t[:len(x)]\n",
    "\n",
    "    title(f'{checkState(x[-1], y[-1], dict)}')\n",
    "\n",
    "    xlabel('Distance [$m$]')\n",
    "    ylabel('Height [$m$]')\n",
    "\n",
    "    # plot vertical wall at x = 100 with height 8\n",
    "    plot([wall_length, wall_length], [0, wall_height], 'r-')\n",
    "\n",
    "    # plot the trajectory\n",
    "    plot(x, y)\n",
    "\n",
    "    xlim(0,wall_length+10)\n",
    "    ylim(0,50)\n",
    "\n",
    "interact(graphMotion, v_0=(1., 100.), theta_0=(1., 89.))"
   ]
  },
  {
   "cell_type": "code",
   "execution_count": null,
   "metadata": {},
   "outputs": [],
   "source": []
  }
 ],
 "metadata": {
  "kernelspec": {
   "display_name": "base",
   "language": "python",
   "name": "python3"
  },
  "language_info": {
   "codemirror_mode": {
    "name": "ipython",
    "version": 3
   },
   "file_extension": ".py",
   "mimetype": "text/x-python",
   "name": "python",
   "nbconvert_exporter": "python",
   "pygments_lexer": "ipython3",
   "version": "3.12.2"
  }
 },
 "nbformat": 4,
 "nbformat_minor": 2
}
