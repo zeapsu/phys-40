{
 "cells": [
  {
   "cell_type": "markdown",
   "metadata": {},
   "source": [
    "# **Lab 11: Equilibrium surface temperatures for airless planets**"
   ]
  },
  {
   "cell_type": "markdown",
   "metadata": {},
   "source": [
    "Consider a planet orbiting a star. Its surface temperature can be calculated\n",
    "starting with the assumption that the energy received by the star is equal to\n",
    "the energy emitted by the planet (per unit time). For simplicity, we also assume\n",
    "that the planet rotates very slowly and does not have an atmosphere.\n",
    "\n",
    "The amount of energy absorbed per unit surface area depends on the latitude\n",
    "$\\theta$, which can be visualized using the diagram below.\n",
    "\n",
    "<img src=\"lab11.jpg\" alt=\"diagram\" width=\"200\" class=\"center\"/>\n",
    "\n",
    "The resulting noon-time equilibrium surface temperature can be shown to be:\n",
    "\n",
    "$$ \n",
    "T_s = 279\\degree K \\left[ \\displaystyle\\frac{L(1 - A) \\cos\\theta}{\\epsilon r^2} \\right]^{1/4},\n",
    "$$\n",
    "\n",
    "where $L$ is the intrinsic luminosity of the star in Solar units, $A$ is the albedo (the\n",
    "fraction of light reﬂected), $\\epsilon$ is the emissivity of the surface (as a fraction), and $r$\n",
    "is the distance from the star to the planet in “astronomical units” (AU), where\n",
    "the distance from the Sun to the Earth is 1 AU. This temperature in Kelvins\n",
    "can be converted to Fahrenheit degrees using the formula:\n",
    "\n",
    "$$\n",
    "T[\\degree F] = \\displaystyle\\frac 9 5 (T[\\degree K] - 273.15\\degree K) + 32\\degree F\n",
    "$$\n"
   ]
  },
  {
   "cell_type": "code",
   "execution_count": null,
   "metadata": {},
   "outputs": [],
   "source": []
  }
 ],
 "metadata": {
  "kernelspec": {
   "display_name": "base",
   "language": "python",
   "name": "python3"
  },
  "language_info": {
   "name": "python",
   "version": "3.11.4"
  }
 },
 "nbformat": 4,
 "nbformat_minor": 2
}
