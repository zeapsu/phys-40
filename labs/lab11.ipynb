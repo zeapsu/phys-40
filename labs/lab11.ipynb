{
 "cells": [
  {
   "cell_type": "markdown",
   "metadata": {},
   "source": [
    "# **Lab 11: Equilibrium surface temperatures for airless planets**"
   ]
  },
  {
   "cell_type": "code",
   "execution_count": 2,
   "metadata": {},
   "outputs": [],
   "source": [
    "from pylab import *"
   ]
  },
  {
   "cell_type": "markdown",
   "metadata": {},
   "source": [
    "Consider a planet orbiting a star. Its surface temperature can be calculated\n",
    "starting with the assumption that the energy received by the star is equal to\n",
    "the energy emitted by the planet (per unit time). For simplicity, we also assume\n",
    "that the planet rotates very slowly and does not have an atmosphere.\n",
    "\n",
    "The amount of energy absorbed per unit surface area depends on the latitude\n",
    "$\\theta$, which can be visualized using the diagram below.\n",
    "\n",
    "<img src=\"lab11.jpg\" alt=\"diagram\" width=\"200\" class=\"center\"/>\n",
    "\n",
    "The resulting noon-time equilibrium surface temperature can be shown to be:\n",
    "\n",
    "$$ \n",
    "T_s = 279\\degree K \\left[ \\displaystyle\\frac{L(1 - A) \\cos\\theta}{\\epsilon r^2} \\right]^{1/4},\n",
    "$$\n",
    "\n",
    "where $L$ is the intrinsic luminosity of the star in Solar units, $A$ is the albedo (the\n",
    "fraction of light reﬂected), $\\epsilon$ is the emissivity of the surface (as a fraction), and $r$\n",
    "is the distance from the star to the planet in “astronomical units” (AU), where\n",
    "the distance from the Sun to the Earth is 1 AU. This temperature in Kelvins\n",
    "can be converted to Fahrenheit degrees using the formula:\n",
    "\n",
    "$$\n",
    "T[\\degree F] = \\displaystyle\\frac 9 5 (T[\\degree K] - 273.15\\degree K) + 32\\degree F\n",
    "$$\n"
   ]
  },
  {
   "cell_type": "code",
   "execution_count": 7,
   "metadata": {},
   "outputs": [],
   "source": [
    "# convert from Kelvin to Fahrenheit (helper function)\n",
    "def KtoF(K):\n",
    "    return (9/5)*(K-273.15)+32\n",
    "\n",
    "# convert from Fahrenheit to Kelvin (helper function)\n",
    "def FtoK(F):\n",
    "    return (5/9)*(F-32)+273.15\n",
    "\n",
    "# surface temperature in Kelvin of a planet with \n",
    "# luminosity L, albedo A, emissivity e, distance r from the sun, and latitude theta\n",
    "def surfaceTemp(L, A, e, r, theta):\n",
    "    return 279*((L*(1-A)*cos(radians(theta))/e*r**2)**(1/4))\n",
    "\n",
    "# function for later in lab, solved for theta\n",
    "def latitude(L, A, e, r, T):\n",
    "    return degrees(arccos(((T/279)**4)*(e*r**2/(L*(1-A)))))\n",
    "\n",
    "temp = KtoF(surfaceTemp(1, .3, .95, 1, 0))\n",
    "# test the function\n",
    "assert around(temp, decimals=4) == 5.6164, f\"surfaceTemp function Failed\\nResult: {around(temp, decimals=4)}\\nExpected: 5.6164\"\n"
   ]
  },
  {
   "cell_type": "code",
   "execution_count": 33,
   "metadata": {},
   "outputs": [
    {
     "name": "stdout",
     "output_type": "stream",
     "text": [
      "Intrinsic Luminosity: 1.0 solar units\n",
      "Albedo: 0.3\n",
      "Emissivity: 1.0\n",
      "Distance from the star: 1.0 AU\n",
      "Latitude: 0.0 degrees\n",
      "The surface temperature of the planet is -0.31 degrees Fahrenheit\n"
     ]
    }
   ],
   "source": [
    "L = float(input(\"Enter the luminosity of the star in solar units: \"))\n",
    "A = float(input(\"Enter the albedo of the planet: \"))\n",
    "e = float(input(\"Enter the emissivity of the planet: \"))\n",
    "r = float(input(\"Enter the distance of the planet from the star in AU: \"))\n",
    "theta = float(input(\"Enter the latitude of the planet in degrees: \"))\n",
    "\n",
    "temp = KtoF(surfaceTemp(L, A, e, r, theta))\n",
    "\n",
    "print(f'Intrinsic Luminosity: {L} solar units')\n",
    "print(f'Albedo: {A}')\n",
    "print(f'Emissivity: {e}')\n",
    "print(f'Distance from the star: {r} AU')\n",
    "print(f'Latitude: {theta} degrees')\n",
    "print(f\"The surface temperature of the planet is {temp:.2f} degrees Fahrenheit\")\n",
    "\n"
   ]
  },
  {
   "cell_type": "markdown",
   "metadata": {},
   "source": [
    "#### Assume a planet–star system like the Earth–Sun ($L = 1$, $r = 1$), with $A = 0.30$, $\\epsilon = 0.95$. What is the temperature at the equator at noon? How does this compare to actual temperatures on the Earth, and why do you think it differs? "
   ]
  },
  {
   "cell_type": "code",
   "execution_count": 65,
   "metadata": {},
   "outputs": [
    {
     "name": "stdout",
     "output_type": "stream",
     "text": [
      "Intrinsic Luminosity: 1 solar units\n",
      "Albedo: 0.3\n",
      "Emissivity: 0.95\n",
      "Distance from the star: 1 AU\n",
      "Latitude: 0 degrees\n",
      "The surface temperature of the planet is 5.62 degrees Fahrenheit\n"
     ]
    }
   ],
   "source": [
    "L = 1\n",
    "A = 0.3\n",
    "e = 0.95\n",
    "r = 1\n",
    "theta = 0\n",
    "\n",
    "temp = KtoF(surfaceTemp(L, A, e, r, theta))\n",
    "\n",
    "print(f'Intrinsic Luminosity: {L} solar units')\n",
    "print(f'Albedo: {A}')\n",
    "print(f'Emissivity: {e}')\n",
    "print(f'Distance from the star: {r} AU')\n",
    "print(f'Latitude: {theta} degrees')\n",
    "print(f'The surface temperature of the planet is {temp:.2f} degrees Fahrenheit')\n"
   ]
  },
  {
   "cell_type": "markdown",
   "metadata": {},
   "source": [
    "This result is a lot lower than the typical equator temperature around noon on Earth which (with $-15\\degree <= \\theta_{lat} <= 15\\degree$) [averages to $64\\degree F$](https://sciencing.com/hot-equator-but-cold-poles-6908312.html)\n",
    "\n",
    "This is probably due to our model having virtually no rotation and thus no atmosphere. [The atmosphere plays a crucial role in determining climate and the presence of greenhouse gases warm the Earth.](https://www.visionlearning.com/en/library/Earth-Science/6/Factors-that-Control-Earths-Temperature/234) "
   ]
  },
  {
   "cell_type": "markdown",
   "metadata": {},
   "source": [
    "#### Consider also the Moon with A= 0.11, ϵ= 0.90: what is the temperature?"
   ]
  },
  {
   "cell_type": "code",
   "execution_count": 66,
   "metadata": {},
   "outputs": [
    {
     "name": "stdout",
     "output_type": "stream",
     "text": [
      "Intrinsic Luminosity: 1 solar units\n",
      "Albedo: 0.11\n",
      "Emissivity: 0.9\n",
      "Distance from the star: 1 AU\n",
      "Latitude: 0 degrees\n",
      "The surface temperature of the planet is 41.13 degrees Fahrenheit\n"
     ]
    }
   ],
   "source": [
    "A = 0.11 \n",
    "e = 0.90 \n",
    "\n",
    "temp = KtoF(surfaceTemp(L, A, e, r, theta))\n",
    "\n",
    "print(f'Intrinsic Luminosity: {L} solar units')\n",
    "print(f'Albedo: {A}')\n",
    "print(f'Emissivity: {e}')\n",
    "print(f'Distance from the star: {r} AU')\n",
    "print(f'Latitude: {theta} degrees')\n",
    "print(f'The surface temperature of the planet is {temp:.2f} degrees Fahrenheit')"
   ]
  },
  {
   "cell_type": "markdown",
   "metadata": {},
   "source": [
    "#### Now consider a brighter star, with $L= 2$. What is the noon temperature at the equator for the “Moon”? At what latitude is the temperature equal to $32\\degree F$?"
   ]
  },
  {
   "cell_type": "code",
   "execution_count": 67,
   "metadata": {},
   "outputs": [
    {
     "name": "stdout",
     "output_type": "stream",
     "text": [
      "Intrinsic Luminosity: 2 solar units\n",
      "Albedo: 0.11\n",
      "Emissivity: 0.9\n",
      "Distance from the star: 1 AU\n",
      "Latitude: 0 degrees\n",
      "The surface temperature of the planet is 135.88 degrees Fahrenheit\n",
      "The latitude that would achieve 32 degrees Fahrenheit surface temperature is 62.32 degrees\n"
     ]
    }
   ],
   "source": [
    "L = 2\n",
    "targetTemp = 32\n",
    "\n",
    "temp = KtoF(surfaceTemp(L, A, e, r, theta))\n",
    "\n",
    "print(f'Intrinsic Luminosity: {L} solar units')\n",
    "print(f'Albedo: {A}')\n",
    "print(f'Emissivity: {e}')\n",
    "print(f'Distance from the star: {r} AU')\n",
    "print(f'Latitude: {theta} degrees')\n",
    "print(f'The surface temperature of the planet is {temp:.2f} degrees Fahrenheit')\n",
    "\n",
    "# convert from Fahrenheit to Kelvin\n",
    "T = FtoK(targetTemp)\n",
    "\n",
    "theta = latitude(L, A, e, r, T)\n",
    "\n",
    "print(f'The latitude that would achieve {targetTemp:} degrees Fahrenheit surface temperature is {theta:.2f} degrees')\n",
    "\n",
    "\n",
    "\n",
    "\n",
    "\n",
    "\n"
   ]
  },
  {
   "cell_type": "markdown",
   "metadata": {},
   "source": [
    "#### **Experiment** with diﬀerent values for albedo and emissivity, and discuss their relative eﬀects on temperature."
   ]
  },
  {
   "cell_type": "code",
   "execution_count": 94,
   "metadata": {},
   "outputs": [
    {
     "name": "stdout",
     "output_type": "stream",
     "text": [
      "Emissivity: 0.10, Temperature: 357.20\n",
      "Emissivity: 0.20, Temperature: 227.23\n",
      "Emissivity: 0.30, Temperature: 161.01\n",
      "Emissivity: 0.40, Temperature: 117.94\n",
      "Emissivity: 0.50, Temperature: 86.60\n",
      "Emissivity: 0.60, Temperature: 62.26\n",
      "Emissivity: 0.70, Temperature: 42.53\n",
      "Emissivity: 0.80, Temperature: 26.04\n",
      "Emissivity: 0.90, Temperature: 11.95\n",
      "Emissivity: 1.00, Temperature: -0.31\n",
      "\n",
      "Albedo: 0.10, Temperature: 29.47\n",
      "Albedo: 0.20, Temperature: 15.28\n",
      "Albedo: 0.30, Temperature: -0.31\n",
      "Albedo: 0.40, Temperature: -17.68\n",
      "Albedo: 0.50, Temperature: -37.37\n",
      "Albedo: 0.60, Temperature: -60.29\n",
      "Albedo: 0.70, Temperature: -88.00\n",
      "Albedo: 0.80, Temperature: -123.83\n",
      "Albedo: 0.90, Temperature: -177.26\n",
      "Albedo: 1.00, Temperature: -459.67\n"
     ]
    }
   ],
   "source": [
    "# keep albedo constant, vary emissivity\n",
    "emissivity = arange(0.1, 1.1, 0.1)\n",
    "albedo = 0.3\n",
    "\n",
    "T1 = [KtoF(surfaceTemp(1, albedo, e, 1, 0)) for e in emissivity]\n",
    "T1 = array(T1)\n",
    "T1std = std(T1)\n",
    "\n",
    "for idx, temp in enumerate(T1):\n",
    "    print(f'Emissivity: {emissivity[idx]:.2f}, Temperature: {temp:.2f}')\n",
    "\n",
    "print()\n",
    "# keep emissivity constant, vary albedo\n",
    "albedo = arange(0.1, 1.1, 0.1)\n",
    "emissivity = 1 #blackbody\n",
    "\n",
    "T2 = [KtoF(surfaceTemp(1, A, emissivity, 1, 0)) for A in albedo]\n",
    "T2 = array(T2)\n",
    "T2std = std(T2)\n",
    "\n",
    "for idx, temp in enumerate(T2):\n",
    "    print(f'Albedo: {albedo[idx]:.2f}, Temperature: {temp:.2f}')"
   ]
  },
  {
   "cell_type": "markdown",
   "metadata": {},
   "source": [
    "It seems as there is an inverse relationship between emissivity and temp as well as albedo and temp. The relationship between emissivity makes sense because of Stefan-Boltzmann Law \n",
    "\n",
    "$$\n",
    "P = \\sigma A \\epsilon T^4\n",
    "$$\n",
    "\n",
    "where P is the power radiated, A is the area of the object, e is the emissivity, and T is the absolute temperature \n",
    "\n",
    "This tells us that \n",
    "\n",
    "$$\n",
    "T \\propto \\frac{1}{e^{1/4}}\n",
    "$$\n",
    "\n",
    "which is also the relationship between $T$ and $\\epsilon$ in the given equation\n",
    "\n",
    "The relationship between albedo and temp also makes sense since if albedo is the fraction of light reflected, a higher value would mean more light reflected and less light absorbed. Theoretically, if we could get complete reflection of light (and ignore entropy) we could get absolute 0 and we see that with albedo value 1, this leads us to $-459.67\\degree F$ which is absolute 0."
   ]
  },
  {
   "cell_type": "markdown",
   "metadata": {},
   "source": [
    "#### Make a plot to examine the dependence of Ts on other parameters. Show the curve of $T_s$ versus $param_i$ for at least two parameters, on the same plot. Use appropriate plot decorations such as a legend and axis labels with units."
   ]
  },
  {
   "cell_type": "code",
   "execution_count": 38,
   "metadata": {},
   "outputs": [
    {
     "name": "stderr",
     "output_type": "stream",
     "text": [
      "/var/folders/24/ggylxxcj3xq362xbyt3gkg_00000gn/T/ipykernel_56238/2251094517.py:12: RuntimeWarning: invalid value encountered in scalar power\n",
      "  return 279*((L*(1-A)*cos(radians(theta))/e*r**2)**(1/4))\n"
     ]
    },
    {
     "data": {
      "text/plain": [
       "<matplotlib.legend.Legend at 0x13905c250>"
      ]
     },
     "execution_count": 38,
     "metadata": {},
     "output_type": "execute_result"
    },
    {
     "data": {
      "image/png": "[encoded data removed]",
      "text/plain": [
       "<Figure size 1000x500 with 1 Axes>"
      ]
     },
     "metadata": {},
     "output_type": "display_data"
    }
   ],
   "source": [
    "fig = figure(figsize=(10, 5))\n",
    "ax = fig.add_subplot(1, 2, 1)\n",
    "\n",
    "# title\n",
    "title('$T_s$ vs. $Param_i$')\n",
    "#labels\n",
    "xlabel('$Param_i (A, e)$')\n",
    "ylabel('$T_s$ ($\\\\degree F$)')   \n",
    "\n",
    "# keep emissivity constant, vary albedo\n",
    "albedo = arange(0.1, 1.1, 0.01)\n",
    "emissivity = 1 #blackbody\n",
    "\n",
    "T2 = [KtoF(surfaceTemp(1, A, emissivity, 1, 0)) for A in albedo]\n",
    "T2 = array(T2)\n",
    "T2std = std(T2)\n",
    "\n",
    "plot(albedo, T2, 'k-', label='albedo',)\n",
    "\n",
    "# keep albedo constant, vary emissivity\n",
    "emissivity = arange(0.1, 1.1, 0.1)\n",
    "albedo = 0.3\n",
    "\n",
    "T1 = [KtoF(surfaceTemp(1, albedo, e, 1, 0)) for e in emissivity]\n",
    "T1 = array(T1)\n",
    "T1std = std(T1)\n",
    "\n",
    "plot(emissivity, T1, 'r-', label='emissivity',)\n",
    "\n",
    "grid()\n",
    "autoscale(tight=True)\n",
    "legend(loc='upper right')\n"
   ]
  },
  {
   "cell_type": "code",
   "execution_count": null,
   "metadata": {},
   "outputs": [],
   "source": []
  }
 ],
 "metadata": {
  "kernelspec": {
   "display_name": "base",
   "language": "python",
   "name": "python3"
  },
  "language_info": {
   "codemirror_mode": {
    "name": "ipython",
    "version": 3
   },
   "file_extension": ".py",
   "mimetype": "text/x-python",
   "name": "python",
   "nbconvert_exporter": "python",
   "pygments_lexer": "ipython3",
   "version": "3.11.4"
  }
 },
 "nbformat": 4,
 "nbformat_minor": 4
}
