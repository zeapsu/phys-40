{
 "cells": [
  {
   "cell_type": "markdown",
   "metadata": {},
   "source": [
    "# **Lab 11: Equilibrium surface temperatures for airless planets**"
   ]
  },
  {
   "cell_type": "code",
   "execution_count": 2,
   "metadata": {},
   "outputs": [],
   "source": [
    "from pylab import *"
   ]
  },
  {
   "cell_type": "markdown",
   "metadata": {},
   "source": [
    "Consider a planet orbiting a star. Its surface temperature can be calculated\n",
    "starting with the assumption that the energy received by the star is equal to\n",
    "the energy emitted by the planet (per unit time). For simplicity, we also assume\n",
    "that the planet rotates very slowly and does not have an atmosphere.\n",
    "\n",
    "The amount of energy absorbed per unit surface area depends on the latitude\n",
    "$\\theta$, which can be visualized using the diagram below.\n",
    "\n",
    "<img src=\"lab11.jpg\" alt=\"diagram\" width=\"200\" class=\"center\"/>\n",
    "\n",
    "The resulting noon-time equilibrium surface temperature can be shown to be:\n",
    "\n",
    "$$ \n",
    "T_s = 279\\degree K \\left[ \\displaystyle\\frac{L(1 - A) \\cos\\theta}{\\epsilon r^2} \\right]^{1/4},\n",
    "$$\n",
    "\n",
    "where $L$ is the intrinsic luminosity of the star in Solar units, $A$ is the albedo (the\n",
    "fraction of light reﬂected), $\\epsilon$ is the emissivity of the surface (as a fraction), and $r$\n",
    "is the distance from the star to the planet in “astronomical units” (AU), where\n",
    "the distance from the Sun to the Earth is 1 AU. This temperature in Kelvins\n",
    "can be converted to Fahrenheit degrees using the formula:\n",
    "\n",
    "$$\n",
    "T[\\degree F] = \\displaystyle\\frac 9 5 (T[\\degree K] - 273.15\\degree K) + 32\\degree F\n",
    "$$\n"
   ]
  },
  {
   "cell_type": "code",
   "execution_count": 3,
   "metadata": {},
   "outputs": [],
   "source": [
    "# convert from Kelvin to Fahrenheit (helper function)\n",
    "def KtoF(K):\n",
    "    return ((9/5)*(K-273.15))+32\n",
    "\n",
    "# surface temperature in Kelvin of a planet with \n",
    "# luminosity L, albedo A, emissivity e, distance r from the sun, and latitude theta\n",
    "def surfaceTemp(L, A, e, r, theta):\n",
    "    return KtoF((279*((L*(1-A)*cos(radians(theta)))/e*r**2)**(1/4)))\n",
    "\n",
    "# test the function\n",
    "assert around(surfaceTemp(1, .3, .95, 1, 0), decimals=4) == 5.6164, f\"surfaceTemp function Failed\\nResult: {around(surfaceTemp(1, .3, .95, 1, 0), decimals=4)}\\nExpected: 5.6164\"\n"
   ]
  },
  {
   "cell_type": "code",
   "execution_count": 7,
   "metadata": {},
   "outputs": [
    {
     "name": "stdout",
     "output_type": "stream",
     "text": [
      "Intrinsic Luminosity: 1.0 solar units\n",
      "Albedo: 0.3\n",
      "Emissivity: 1.0\n",
      "Distance from the star: 1.0 AU\n",
      "Latitude: 0.0 degrees\n",
      "The surface temperature of the planet is -0.31 degrees Fahrenheit\n"
     ]
    }
   ],
   "source": [
    "L = float(input(\"Enter the luminosity of the star in solar units: \"))\n",
    "A = float(input(\"Enter the albedo of the planet: \"))\n",
    "e = float(input(\"Enter the emissivity of the planet: \"))\n",
    "r = float(input(\"Enter the distance of the planet from the star in AU: \"))\n",
    "theta = float(input(\"Enter the latitude of the planet in degrees: \"))\n",
    "\n",
    "print(f'Intrinsic Luminosity: {L} solar units')\n",
    "print(f'Albedo: {A}')\n",
    "print(f'Emissivity: {e}')\n",
    "print(f'Distance from the star: {r} AU')\n",
    "print(f'Latitude: {theta} degrees')\n",
    "print(f\"The surface temperature of the planet is {surfaceTemp(L, A, e, r, theta):.2f} degrees Fahrenheit\")\n",
    "\n"
   ]
  },
  {
   "cell_type": "markdown",
   "metadata": {},
   "source": [
    "#### Assume a planet–star system like the Earth–Sun ($L = 1$, $r = 1$), with $A = 0.30$, $\\epsilon = 0.95$. What is the temperature at the equator at noon? How does this compare to actual temperatures on the Earth, and why do you think it differs? "
   ]
  },
  {
   "cell_type": "code",
   "execution_count": 8,
   "metadata": {},
   "outputs": [
    {
     "name": "stdout",
     "output_type": "stream",
     "text": [
      "The surface temperature of the planet is 5.62 degrees Fahrenheit\n"
     ]
    }
   ],
   "source": [
    "L = 1\n",
    "A = 0.3\n",
    "e = 0.95\n",
    "r = 1\n",
    "theta = 0\n",
    "\n",
    "print(f'The surface temperature of the planet is {surfaceTemp(L, A, e, r, theta):.2f} degrees Fahrenheit')\n"
   ]
  },
  {
   "cell_type": "markdown",
   "metadata": {},
   "source": [
    "This result is a lot lower than the typical equator temperature around noon on Earth which (with $-15\\degree <= \\theta_{lat} <= 15\\degree$) [averages to $64\\degree F$](https://sciencing.com/hot-equator-but-cold-poles-6908312.html)\n",
    "\n",
    "This is probably due to our model having virtually no rotation and thus no atmosphere. [The atmosphere plays a crucial role in determining climate](https://www.visionlearning.com/en/library/Earth-Science/6/Factors-that-Control-Earths-Temperature/234) and the presence of greenhouse gases warm the Earth. "
   ]
  },
  {
   "cell_type": "markdown",
   "metadata": {},
   "source": [
    "#### "
   ]
  }
 ],
 "metadata": {
  "kernelspec": {
   "display_name": "base",
   "language": "python",
   "name": "python3"
  },
  "language_info": {
   "codemirror_mode": {
    "name": "ipython",
    "version": 3
   },
   "file_extension": ".py",
   "mimetype": "text/x-python",
   "name": "python",
   "nbconvert_exporter": "python",
   "pygments_lexer": "ipython3",
   "version": "3.11.4"
  }
 },
 "nbformat": 4,
 "nbformat_minor": 4
}
