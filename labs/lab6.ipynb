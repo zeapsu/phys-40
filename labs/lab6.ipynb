{
 "cells": [
  {
   "cell_type": "markdown",
   "metadata": {},
   "source": [
    "# **Lab 6**"
   ]
  },
  {
   "cell_type": "code",
   "execution_count": 8,
   "metadata": {},
   "outputs": [],
   "source": [
    "from pylab import *"
   ]
  },
  {
   "cell_type": "markdown",
   "metadata": {},
   "source": [
    "## **6.1 Relational expressions and logical operators**"
   ]
  },
  {
   "cell_type": "markdown",
   "metadata": {},
   "source": [
    "## 1)\n",
    "For each of the relational expressions below, ﬁrst think through what the answer should be, then type it into Python and see if you were right.\n",
    "\n",
    "If you run into an error, re-write the code to make it valid. If there are new functions or new applications of familiar commands, ﬁgure out and explain what is going on.\n",
    "\n",
    "Report your answers and explanations as comments."
   ]
  },
  {
   "cell_type": "markdown",
   "metadata": {},
   "source": [
    "```python\n",
    "a) 5 > 8\n",
    "\n",
    "b) a1 = 5 < 10\n",
    "\n",
    "c) a2 = 5 > 10 \n",
    "\n",
    "d) y = (6 < 10) + (7 > 8) == (5*3 == 60/4) \n",
    "\n",
    "e) b = array([15,6,9,4,11,7,14])\n",
    "   c = array([8,20,9,2,19,7,10])\n",
    "   c >= b\n",
    "   b == c\n",
    "   b != c\n",
    "   q = b - c > 0 \n",
    "   any(q)\n",
    "   all(q)\n",
    "\n",
    "f) A = array([[2,9,4],[-3,5,2],[6,7,-1]])\n",
    "   A <= 2\n",
    "\n",
    "g) r1 =[8,12,9,4,23,19,10]\n",
    "   r1 <= 10\n",
    "   r2 = array([8,12,9,4,23,19,10])\n",
    "   s2 = r2 <= 10\n",
    "   r2[s2]\n",
    "   r2[r2 <= 10]\n",
    "   x = where(r2 <= 10) # what is the diﬀerence between x and s2 ?\n",
    "   r2[x]\n",
    "   r2[where(r2 <= 10)]\n",
    "   where(r2 <= 10, 7.0, -3.0)\n",
    "   4 in r2\n",
    "\n",
    "h) 3 + 4 < 16 / 2\n",
    "   3 == (4 < 16) / 2 \n",
    "```"
   ]
  },
  {
   "cell_type": "markdown",
   "metadata": {},
   "source": [
    "### a) will print out false "
   ]
  },
  {
   "cell_type": "code",
   "execution_count": 9,
   "metadata": {},
   "outputs": [
    {
     "name": "stdout",
     "output_type": "stream",
     "text": [
      "correct\n"
     ]
    }
   ],
   "source": [
    "if not(5 > 8):\n",
    "    print(\"correct\")"
   ]
  },
  {
   "cell_type": "markdown",
   "metadata": {},
   "source": [
    "### b) a1 will be true "
   ]
  },
  {
   "cell_type": "code",
   "execution_count": 10,
   "metadata": {},
   "outputs": [
    {
     "name": "stdout",
     "output_type": "stream",
     "text": [
      "correct\n"
     ]
    }
   ],
   "source": [
    "a1 = 5 < 10\n",
    "if a1:\n",
    "    print('correct')"
   ]
  },
  {
   "cell_type": "markdown",
   "metadata": {},
   "source": [
    "### c) a2 will be false"
   ]
  },
  {
   "cell_type": "code",
   "execution_count": 11,
   "metadata": {},
   "outputs": [
    {
     "name": "stdout",
     "output_type": "stream",
     "text": [
      "correct\n"
     ]
    }
   ],
   "source": [
    "a2 = 5 > 10\n",
    "if not(a2):\n",
    "    print('correct')"
   ]
  },
  {
   "cell_type": "markdown",
   "metadata": {},
   "source": [
    "### d) y will be true \n",
    "```python\n",
    "y = 1 + 0 == (1)\n",
    "y = 1 == 1\n",
    "y = 1\n",
    "```"
   ]
  },
  {
   "cell_type": "code",
   "execution_count": 12,
   "metadata": {},
   "outputs": [
    {
     "name": "stdout",
     "output_type": "stream",
     "text": [
      "correct\n"
     ]
    }
   ],
   "source": [
    "y = (6 < 10) + (7 > 8) == (5*3 == 60/4) \n",
    "if y:\n",
    "    print('correct')\n"
   ]
  },
  {
   "cell_type": "markdown",
   "metadata": {},
   "source": [
    "### e) results \n",
    "```python\n",
    "c >= b -> [0, 1, 1, 0, 1, 1, 0]\n",
    "b == c -> [0, 0, 1, 0, 0, 1, 0]\n",
    "b != c -> [0, 0, 1, 0, 0, 1, 0]\n",
    "\n",
    "q = b - c > 0 -> q = [1, 0, 0, 1, 0, 0, 1]\n",
    "any(q) -> True since there exists an element that is True\n",
    "all(q) -> False since all elements are not True\n",
    "\n",
    "```"
   ]
  },
  {
   "cell_type": "code",
   "execution_count": 13,
   "metadata": {},
   "outputs": [
    {
     "name": "stdout",
     "output_type": "stream",
     "text": [
      "all tests passed\n"
     ]
    }
   ],
   "source": [
    "\n",
    "b = array([15,6,9,4,11,7,14])\n",
    "c = array([8,20,9,2,19,7,10])\n",
    "assert list(c >= b) == [0, 1, 1, 0, 1, 1, 0], 'c >= b failed'\n",
    "assert list(b == c) == [0, 0 ,1, 0, 0, 1, 0], 'b == c failed'\n",
    "assert list(b != c) == [1, 1, 0, 1, 1, 0, 1], 'b != c failed'\n",
    "q = b - c > 0 \n",
    "assert any(q) == True, 'any(q) failed'\n",
    "assert all(q) == False, 'all(q) failed'\n",
    "print('all tests passed')"
   ]
  },
  {
   "cell_type": "markdown",
   "metadata": {},
   "source": [
    "### f) will print:\n",
    "```python\n",
    "[\n",
    "    [1, 0, 0],\n",
    "    [1, 0, 1],\n",
    "    [0, 0, 1]\n",
    "]\n",
    "```"
   ]
  },
  {
   "cell_type": "code",
   "execution_count": 14,
   "metadata": {},
   "outputs": [
    {
     "name": "stdout",
     "output_type": "stream",
     "text": [
      "all tests passed\n"
     ]
    }
   ],
   "source": [
    "A = array([[2,9,4],[-3,5,2],[6,7,-1]])\n",
    "assert array_equal(A <= 2, array([[1, 0, 0], [1, 0, 1], [0, 0, 1]])), 'A <= 2 failed'\n",
    "print('all tests passed')"
   ]
  },
  {
   "cell_type": "markdown",
   "metadata": {},
   "source": [
    "### g) "
   ]
  },
  {
   "cell_type": "code",
   "execution_count": 69,
   "metadata": {},
   "outputs": [
    {
     "name": "stdout",
     "output_type": "stream",
     "text": [
      "all tests passed\n"
     ]
    }
   ],
   "source": [
    "\n",
    "r1 = [8,12,9,4,23,19,10]\n",
    "# This results in an error\n",
    "# assert (r1 <= 10) == [1, 0, 1, 0, 0, 1, 1, 1], 'r1 <= 10 failed'\n",
    "\n",
    "r2 = array([8,12,9,4,23,19,10])\n",
    "s2 = r2 <= 10\n",
    "\n",
    "# returns a boolean array of which elements meet the given conditions\n",
    "assert list(s2) == [1, 0, 1, 1, 0, 0, 1], 'r2 <= 10 failed'\n",
    "\n",
    "# filters the input array to include only the elements that meet the given condition\n",
    "assert list(r2[s2]) == [8, 9, 4, 10], 'r2[s2] failed'\n",
    "\n",
    "# does the same thing as above\n",
    "assert list(r2[r2 <= 10]) == [8, 9, 4, 10], 'r2[r2 <= 10] failed'\n",
    "\n",
    "x = where(r2 <= 10) # what is the diﬀerence between x and s2 ?\n",
    "\n",
    "# This results in an error, but where returns the index position of the elements that meet the given condition\n",
    "# assert list(x) == [0, 2, 3, 6], 'where(r2 <= 10) failed'\n",
    "\n",
    "# x contains all the index positions of the elements that meet the given condition, so r2[x] returns the elements themselves\n",
    "assert list(r2[x]) == [8, 9, 4, 10], 'r2[x] failed'\n",
    "\n",
    "# does the same thing as above\n",
    "assert list(r2[where(r2 <= 10)]) == [8, 9, 4, 10], 'r2[where(r2 <= 10)] failed'\n",
    "\n",
    "# 7 = true, -3 = false\n",
    "assert list(where(r2 <= 10, 7.0, -3.0)) == [7., -3., 7., 7., -3., -3., 7.], 'where(r2 <= 10, 7.0, -3.0)) failed'\n",
    "\n",
    "# is 4 in r2...?\n",
    "assert bool(4 in r2) == True, '4 not in r2'\n",
    "\n",
    "print('all tests passed')"
   ]
  },
  {
   "cell_type": "markdown",
   "metadata": {},
   "source": [
    "### h)"
   ]
  },
  {
   "cell_type": "code",
   "execution_count": 73,
   "metadata": {},
   "outputs": [
    {
     "name": "stdout",
     "output_type": "stream",
     "text": [
      "all tests passed\n"
     ]
    }
   ],
   "source": [
    "# 7 < 8\n",
    "assert bool(3 + 4 < 16 / 2) == True, 'incorrect'\n",
    "\n",
    "# 3 != 0\n",
    "assert bool(3 == (4 < 16) / 2) == False, 'incorrect'\n",
    "\n",
    "print('all tests passed')"
   ]
  },
  {
   "cell_type": "markdown",
   "metadata": {},
   "source": [
    "## 2) \n",
    "\n",
    "Now do the same for the following commands with logical operators:\n",
    "```python\n",
    "a. True or False\n",
    "b. 25*((True and False) + (not False) + (False or True))\n",
    "```"
   ]
  },
  {
   "cell_type": "code",
   "execution_count": 79,
   "metadata": {},
   "outputs": [
    {
     "name": "stdout",
     "output_type": "stream",
     "text": [
      "all tests passed\n"
     ]
    }
   ],
   "source": [
    "# a) returns true because 'or' only requires one to be true to render the expression true\n",
    "assert bool(True or False) == True, 'incorrect'\n",
    "\n",
    "# b)\n",
    "# 25(0) + 1 + 1 = 2\n",
    "assert int((25*(True and False) + (not False) + (False or True))) == 2, 'incorrect'\n",
    "\n",
    "print('all tests passed')"
   ]
  },
  {
   "cell_type": "markdown",
   "metadata": {},
   "source": [
    "## 3)\n",
    "\n",
    "Now do the same for the following mixture of relational expressions and logical operators:\n",
    "\n",
    "```python\n",
    "bb, cc = -2,5\n",
    "-5 < bb < -1\n",
    "-5 < bb and bb < -1\n",
    "not cc < 7\n",
    "(not cc) < 7\n",
    "not ((cc >= 8) or (bb < -1))\n",
    "not (cc >= 8) or (bb < -1)\n",
    "```"
   ]
  },
  {
   "cell_type": "code",
   "execution_count": 96,
   "metadata": {},
   "outputs": [
    {
     "name": "stdout",
     "output_type": "stream",
     "text": [
      "all tests passed\n"
     ]
    }
   ],
   "source": [
    "bb, cc = -2, 5\n",
    "\n",
    "# should return true: -5 < -2 < -1\n",
    "assert bool(-5 < bb < -1) == True, 'incorrect'\n",
    "\n",
    "# should return true -5 < (-2 && -2) < -1 --> -5 < -2 < -1\n",
    "assert bool(-5 < (bb and bb) < -1) == True, 'incorrect'\n",
    "\n",
    "# returns the opposite bool for the expression 5 < 7 so !(True) = False\n",
    "assert bool(not cc < 7) == False, 'incorrect'\n",
    "\n",
    "# returns True: (not cc) < 7 = 0 < 7 = True\n",
    "assert bool((not cc) < 7) == True, 'incorrect'\n",
    "\n",
    "# returns False: !((cc >= 8) || (bb < -1)) = !(0 || 1) = !(1) = 0\n",
    "assert bool(not ((cc >= 8) or (bb < -1))) == False, 'incorrect'\n",
    "\n",
    "# returns True: !(cc >= 8) || (bb < -1)) = !(0) || 1 = 1 || 1 = 1\n",
    "assert bool(not (cc >= 8) or (bb < -1)) == True, 'incorrect'\n",
    "\n",
    "print('all tests passed')"
   ]
  }
 ],
 "metadata": {
  "kernelspec": {
   "display_name": "base",
   "language": "python",
   "name": "python3"
  },
  "language_info": {
   "codemirror_mode": {
    "name": "ipython",
    "version": 3
   },
   "file_extension": ".py",
   "mimetype": "text/x-python",
   "name": "python",
   "nbconvert_exporter": "python",
   "pygments_lexer": "ipython3",
   "version": "3.11.4"
  }
 },
 "nbformat": 4,
 "nbformat_minor": 2
}
