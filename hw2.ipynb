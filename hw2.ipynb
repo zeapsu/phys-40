{
 "cells": [
  {
   "cell_type": "markdown",
   "metadata": {},
   "source": [
    "# Homework 2"
   ]
  },
  {
   "cell_type": "code",
   "execution_count": null,
   "metadata": {},
   "outputs": [],
   "source": [
    "from pylab import *"
   ]
  },
  {
   "cell_type": "markdown",
   "metadata": {},
   "source": [
    "## 1. Logarithmic Plotting"
   ]
  },
  {
   "cell_type": "markdown",
   "metadata": {},
   "source": [
    "### a)\n",
    "Consider two mathematical functions, $y_1 = x$, and $y_2 = x^2$. \n",
    "\n",
    "Create appropriate vectors to represent these functions, for an x-range of 0 to 1"
   ]
  },
  {
   "cell_type": "markdown",
   "metadata": {},
   "source": [
    "### b)\n",
    "Plot both functions on a single ﬁgure. Use a command like \n",
    "```python \n",
    "fig1=figure()\n",
    "```\n",
    "before plotting to set up a speciﬁc ﬁgure window. \n",
    "\n",
    "Re-adjust the axis ranges manually (within your plotting script).\n",
    "\n",
    "Include a title, axis labels, and legends.\n",
    "\n",
    "The line and marker styles, colors, and font size are up to you."
   ]
  },
  {
   "cell_type": "markdown",
   "metadata": {},
   "source": [
    "### c)\n",
    "Set up a second ﬁgure window and plot $\\log(y1)$ and $\\log(y2)$ vs. $\\log(x)$ (base-10\n",
    "logarithms).\n",
    "\n",
    "Use ﬁgure decoration as above. What happened when you plotted the logarithm of zero?"
   ]
  },
  {
   "cell_type": "markdown",
   "metadata": {},
   "source": [
    "### d)\n",
    "Set up a third ﬁgure and make a log–log plot as before, but this time using the \n",
    "```python\n",
    "loglog()\n",
    "```\n",
    " command."
   ]
  },
  {
   "cell_type": "markdown",
   "metadata": {},
   "source": [
    "## 2) List Slicing "
   ]
  },
  {
   "cell_type": "markdown",
   "metadata": {},
   "source": [
    "Slice the string\n",
    "```python\n",
    "s=’seehemewe\n",
    "``` \n",
    "(using indices) to produce the following sub-strings:\n",
    "\n",
    "- `a. ’see’`\n",
    "- `b. ’he’`\n",
    "- `c. ’me’`\n",
    "- `d. ’we’`\n",
    "- `e. ’hem’`\n",
    "- `f. ’meh’`\n",
    "- `g. ’wee’`\n"
   ]
  },
  {
   "cell_type": "code",
   "execution_count": 35,
   "metadata": {},
   "outputs": [
    {
     "name": "stdout",
     "output_type": "stream",
     "text": [
      "see\n",
      "he\n",
      "me\n",
      "we\n",
      "hem\n",
      "mehees\n",
      "wee\n"
     ]
    }
   ],
   "source": [
    "s = 'seehemewe'\n",
    "print(s[:3]) # a\n",
    "print(s[3:5]) # b\n",
    "print(s[5:7]) # c\n",
    "print(s[7:9]) # d\n",
    "print(s[3:6]) # e\n",
    "print(s[5::-1]) # f\n",
    "print(s[7::-3]) # g"
   ]
  },
  {
   "cell_type": "code",
   "execution_count": null,
   "metadata": {},
   "outputs": [],
   "source": []
  }
 ],
 "metadata": {
  "kernelspec": {
   "display_name": "base",
   "language": "python",
   "name": "python3"
  },
  "language_info": {
   "codemirror_mode": {
    "name": "ipython",
    "version": 3
   },
   "file_extension": ".py",
   "mimetype": "text/x-python",
   "name": "python",
   "nbconvert_exporter": "python",
   "pygments_lexer": "ipython3",
   "version": "3.11.4"
  }
 },
 "nbformat": 4,
 "nbformat_minor": 2
}
