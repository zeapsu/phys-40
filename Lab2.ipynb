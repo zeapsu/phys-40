{
 "cells": [
  {
   "cell_type": "markdown",
   "metadata": {},
   "source": [
    "# Lab 2"
   ]
  },
  {
   "cell_type": "markdown",
   "metadata": {},
   "source": [
    "## 2.1 Bizarre Behavior"
   ]
  },
  {
   "cell_type": "code",
   "execution_count": 66,
   "metadata": {},
   "outputs": [
    {
     "data": {
      "text/plain": [
       "16.88210319127114"
      ]
     },
     "execution_count": 66,
     "metadata": {},
     "output_type": "execute_result"
    }
   ],
   "source": [
    "d = 8\n",
    "e = 2\n",
    "from math import *\n",
    "sqrt(d**e)"
   ]
  },
  {
   "cell_type": "markdown",
   "metadata": {},
   "source": [
    "The expected output was 8 but the reason why it was not the expected is that following the import of the math module, the value of e was overwritten to be Euler's number which has the value..."
   ]
  },
  {
   "cell_type": "code",
   "execution_count": 42,
   "metadata": {},
   "outputs": [
    {
     "data": {
      "text/plain": [
       "2.718281828459045"
      ]
     },
     "execution_count": 42,
     "metadata": {},
     "output_type": "execute_result"
    }
   ],
   "source": [
    "e"
   ]
  },
  {
   "cell_type": "markdown",
   "metadata": {},
   "source": [
    "Let's test the original function, but reinit `e` as another variable with same value"
   ]
  },
  {
   "cell_type": "code",
   "execution_count": 50,
   "metadata": {},
   "outputs": [
    {
     "name": "stdout",
     "output_type": "stream",
     "text": [
      "Test passed\n"
     ]
    }
   ],
   "source": [
    "d = 8 \n",
    "f = 2 # change e to f\n",
    "if sqrt(d**f) == 8:\n",
    "    print(\"Test passed\")"
   ]
  },
  {
   "cell_type": "markdown",
   "metadata": {},
   "source": [
    "## 2.2 Heron's Formula"
   ]
  },
  {
   "cell_type": "code",
   "execution_count": 52,
   "metadata": {},
   "outputs": [
    {
     "data": {
      "text/plain": [
       "6.0"
      ]
     },
     "execution_count": 52,
     "metadata": {},
     "output_type": "execute_result"
    }
   ],
   "source": [
    "# Heron's formula\n",
    "a = float(input(\"Please enter side A of the triangle: \")) # 3\n",
    "b = float(input(\"Please enter side B of the triangle: \")) # 4\n",
    "c = float(input(\"Please enter side C of the triangle: \")) # 5\n",
    "\n",
    "s  = (a + b + c)/2\n",
    "area = sqrt(s*(s - a)*(s - b)*(s - c))\n",
    "round(area, 3)"
   ]
  },
  {
   "cell_type": "code",
   "execution_count": 35,
   "metadata": {},
   "outputs": [],
   "source": [
    "# Heron's Formula using a function (to practice)\n",
    "def A(a, b, c,):\n",
    "    s = (a + b + c) / 2\n",
    "    return sqrt(s * (s - a) * (s - b) * (s - c))"
   ]
  },
  {
   "cell_type": "code",
   "execution_count": 51,
   "metadata": {},
   "outputs": [
    {
     "data": {
      "text/plain": [
       "4.635"
      ]
     },
     "execution_count": 51,
     "metadata": {},
     "output_type": "execute_result"
    }
   ],
   "source": [
    "a = float(input(\"Please enter side A of the triangle: \")) # 4.503\n",
    "b = float(input(\"Please enter side B of the triangle: \")) # 2.377\n",
    "c = float(input(\"Please enter side C of the triangle: \")) # 3.902\n",
    "round(A(a, b, c), 3)"
   ]
  },
  {
   "cell_type": "markdown",
   "metadata": {},
   "source": [
    "## 2.3 Surface Area of the Earth (oblate spheroid)\n",
    "\n",
    "### After simplification...\n",
    "$2\\pi\\left[ 1 + \\displaystyle\\frac{c^2}{\\sqrt{1 - \\displaystyle\\frac{c^2}{a^2}}}atanh \\left( \\sqrt{1 - \\displaystyle\\frac{c^2}{a^2}}\\right) \\right]$"
   ]
  },
  {
   "cell_type": "code",
   "execution_count": 96,
   "metadata": {},
   "outputs": [],
   "source": [
    "# Part A\n",
    "def oblSA(a, c):\n",
    "    return 2*pi * (1+(c**2/sqrt(1-(c**2/a**2)))*atanh(sqrt(1-(c**2/a**2))))"
   ]
  },
  {
   "cell_type": "code",
   "execution_count": 97,
   "metadata": {},
   "outputs": [
    {
     "name": "stdout",
     "output_type": "stream",
     "text": [
      "2.5446168e+14 m^2\n"
     ]
    }
   ],
   "source": [
    "a = 6378137.0 # meters\n",
    "c = 6356752.314245 # meters\n",
    "print(f'{oblSA(a, c):.7e} m^2') # 8 sig figs"
   ]
  },
  {
   "cell_type": "code",
   "execution_count": 98,
   "metadata": {},
   "outputs": [],
   "source": [
    "# Part B\n",
    "def sphereSA(r):\n",
    "    return 4*pi*r**2"
   ]
  },
  {
   "cell_type": "code",
   "execution_count": 99,
   "metadata": {},
   "outputs": [
    {
     "name": "stdout",
     "output_type": "stream",
     "text": [
      "5.101e+08 km^2\n"
     ]
    }
   ],
   "source": [
    "r = 6371 # km\n",
    "print(f'{sphereSA(r):.3e} km^2') # 4 sig figs"
   ]
  },
  {
   "cell_type": "markdown",
   "metadata": {},
   "source": [
    "### Relative Error:\n",
    "$\\Delta F = \\big | \\displaystyle\\frac{f_{estimate} - f_{true}}{f_{true}} \\big |$"
   ]
  },
  {
   "cell_type": "markdown",
   "metadata": {},
   "source": [
    "Let $f_{estimate}$ = SA using spherical approximation <br/>\n",
    "$f_{true}$ = SA using oblate spheroid"
   ]
  },
  {
   "cell_type": "code",
   "execution_count": 100,
   "metadata": {},
   "outputs": [],
   "source": [
    "# Part C\n",
    "def relativeError(e, t):\n",
    "    return abs((e - t)/t)"
   ]
  },
  {
   "cell_type": "code",
   "execution_count": 102,
   "metadata": {},
   "outputs": [],
   "source": [
    "e = sphereSA(r)\n",
    "t = oblSA(a, c)"
   ]
  },
  {
   "cell_type": "code",
   "execution_count": 103,
   "metadata": {},
   "outputs": [
    {
     "data": {
      "text/plain": [
       "0.9999979955155454"
      ]
     },
     "execution_count": 103,
     "metadata": {},
     "output_type": "execute_result"
    }
   ],
   "source": [
    "relativeError(e, t)"
   ]
  },
  {
   "cell_type": "code",
   "execution_count": null,
   "metadata": {},
   "outputs": [],
   "source": []
  }
 ],
 "metadata": {
  "kernelspec": {
   "display_name": "base",
   "language": "python",
   "name": "python3"
  },
  "language_info": {
   "codemirror_mode": {
    "name": "ipython",
    "version": 3
   },
   "file_extension": ".py",
   "mimetype": "text/x-python",
   "name": "python",
   "nbconvert_exporter": "python",
   "pygments_lexer": "ipython3",
   "version": "3.11.4"
  }
 },
 "nbformat": 4,
 "nbformat_minor": 2
}
