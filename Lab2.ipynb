{
 "cells": [
  {
   "cell_type": "markdown",
   "metadata": {},
   "source": [
    "# Lab 2"
   ]
  },
  {
   "cell_type": "markdown",
   "metadata": {},
   "source": [
    "## 2.1 Bizarre Behavior"
   ]
  },
  {
   "cell_type": "code",
   "execution_count": 6,
   "metadata": {},
   "outputs": [
    {
     "data": {
      "text/plain": [
       "16.88210319127114"
      ]
     },
     "execution_count": 6,
     "metadata": {},
     "output_type": "execute_result"
    }
   ],
   "source": [
    "d = 8\n",
    "e = 2\n",
    "from math import *\n",
    "sqrt(d**e)"
   ]
  },
  {
   "cell_type": "markdown",
   "metadata": {},
   "source": [
    "The expected output was 8 but the reason why it was not the expected is that following the import of the math module, the value of e was overwritten to be Euler's number which has the value..."
   ]
  },
  {
   "cell_type": "code",
   "execution_count": 7,
   "metadata": {},
   "outputs": [
    {
     "data": {
      "text/plain": [
       "2.718281828459045"
      ]
     },
     "execution_count": 7,
     "metadata": {},
     "output_type": "execute_result"
    }
   ],
   "source": [
    "e"
   ]
  },
  {
   "cell_type": "markdown",
   "metadata": {},
   "source": [
    "Let's test the original function, but reinit `e` as another variable with same value"
   ]
  },
  {
   "cell_type": "code",
   "execution_count": 8,
   "metadata": {},
   "outputs": [
    {
     "name": "stdout",
     "output_type": "stream",
     "text": [
      "Test passed\n"
     ]
    }
   ],
   "source": [
    "d = 8 \n",
    "f = 2 # change e to f\n",
    "if sqrt(d**f) == 8:\n",
    "    print(\"Test passed\")"
   ]
  },
  {
   "cell_type": "markdown",
   "metadata": {},
   "source": [
    "## 2.2 Heron's Formula"
   ]
  },
  {
   "cell_type": "code",
   "execution_count": 9,
   "metadata": {},
   "outputs": [
    {
     "data": {
      "text/plain": [
       "6.0"
      ]
     },
     "execution_count": 9,
     "metadata": {},
     "output_type": "execute_result"
    }
   ],
   "source": [
    "# Heron's formula\n",
    "a = float(input(\"Please enter side A of the triangle: \")) # 3\n",
    "b = float(input(\"Please enter side B of the triangle: \")) # 4\n",
    "c = float(input(\"Please enter side C of the triangle: \")) # 5\n",
    "\n",
    "s  = (a + b + c)/2\n",
    "area = sqrt(s*(s - a)*(s - b)*(s - c))\n",
    "round(area, 3)"
   ]
  },
  {
   "cell_type": "code",
   "execution_count": 10,
   "metadata": {},
   "outputs": [],
   "source": [
    "# Heron's Formula using a function (to practice)\n",
    "def A(a, b, c,):\n",
    "    s = (a + b + c) / 2\n",
    "    return sqrt(s * (s - a) * (s - b) * (s - c))"
   ]
  },
  {
   "cell_type": "code",
   "execution_count": 11,
   "metadata": {},
   "outputs": [
    {
     "data": {
      "text/plain": [
       "4.635"
      ]
     },
     "execution_count": 11,
     "metadata": {},
     "output_type": "execute_result"
    }
   ],
   "source": [
    "a = float(input(\"Please enter side A of the triangle: \")) # 4.503\n",
    "b = float(input(\"Please enter side B of the triangle: \")) # 2.377\n",
    "c = float(input(\"Please enter side C of the triangle: \")) # 3.902\n",
    "round(A(a, b, c), 3)"
   ]
  },
  {
   "cell_type": "markdown",
   "metadata": {},
   "source": [
    "## 2.3 Surface Area of the Earth (oblate spheroid)\n",
    "\n",
    "### Surface Area of an oblate spheroid\n",
    "$2\\pi a^2\\left[ 1 + \\left( \\displaystyle\\frac{1 - e^2}{e}\\right) atanh(e)\\right]$, where $e^2 = 1 - \\displaystyle\\frac{c^2}{a^2}$"
   ]
  },
  {
   "cell_type": "code",
   "execution_count": 98,
   "metadata": {},
   "outputs": [],
   "source": [
    "# Part A\n",
    "def oblSA(eps):\n",
    "    return ((2*pi*(a**2)) * (1 + ((1 - eps**2)/(eps)) * atanh(eps)))"
   ]
  },
  {
   "cell_type": "code",
   "execution_count": 99,
   "metadata": {},
   "outputs": [
    {
     "name": "stdout",
     "output_type": "stream",
     "text": [
      "5.1006562e+14 m^2\n"
     ]
    }
   ],
   "source": [
    "a = 6378137.0 # meters\n",
    "c = 6356752.314245 # meters\n",
    "eps = sqrt(1-((c**2)/(a**2)))\n",
    "print(f'{oblSA(eps):.7e} m^2') # 8 sig figs"
   ]
  },
  {
   "cell_type": "code",
   "execution_count": 92,
   "metadata": {},
   "outputs": [],
   "source": [
    "# Part B\n",
    "def sphereSA(r):\n",
    "    return 4*pi*(r**2)"
   ]
  },
  {
   "cell_type": "code",
   "execution_count": 93,
   "metadata": {},
   "outputs": [
    {
     "name": "stdout",
     "output_type": "stream",
     "text": [
      "5.101e+14 m^2\n"
     ]
    }
   ],
   "source": [
    "r = 6371 # km\n",
    "r = r * 1000 # m\n",
    "print(f'{sphereSA(r):.3e} m^2') # 4 sig figs"
   ]
  },
  {
   "cell_type": "markdown",
   "metadata": {},
   "source": [
    "### Relative Error:\n",
    "$\\Delta F = \\big | \\displaystyle\\frac{f_{estimate} - f_{true}}{f_{true}} \\big |$"
   ]
  },
  {
   "cell_type": "markdown",
   "metadata": {},
   "source": [
    "Let $f_{estimate}$ = SA using spherical approximation <br/>\n",
    "$f_{true}$ = SA using oblate spheroid"
   ]
  },
  {
   "cell_type": "code",
   "execution_count": 94,
   "metadata": {},
   "outputs": [],
   "source": [
    "# Part C\n",
    "def relativeError(e, t):\n",
    "    return abs((e - t)/t)"
   ]
  },
  {
   "cell_type": "code",
   "execution_count": 95,
   "metadata": {},
   "outputs": [],
   "source": [
    "e = sphereSA(r)\n",
    "t = oblSA(eps)"
   ]
  },
  {
   "cell_type": "code",
   "execution_count": 89,
   "metadata": {},
   "outputs": [
    {
     "name": "stdout",
     "output_type": "stream",
     "text": [
      " Relative Error is 0.0002% \n"
     ]
    }
   ],
   "source": [
    "percent = relativeError(e, t) * 100\n",
    "print(f' Relative Error is{percent: .4f}% ')"
   ]
  }
 ],
 "metadata": {
  "kernelspec": {
   "display_name": "base",
   "language": "python",
   "name": "python3"
  },
  "language_info": {
   "codemirror_mode": {
    "name": "ipython",
    "version": 3
   },
   "file_extension": ".py",
   "mimetype": "text/x-python",
   "name": "python",
   "nbconvert_exporter": "python",
   "pygments_lexer": "ipython3",
   "version": "3.11.4"
  }
 },
 "nbformat": 4,
 "nbformat_minor": 2
}
