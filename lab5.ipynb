{
 "cells": [
  {
   "cell_type": "markdown",
   "metadata": {},
   "source": [
    "# Lab 5 "
   ]
  },
  {
   "cell_type": "code",
   "execution_count": 2,
   "metadata": {},
   "outputs": [],
   "source": [
    "from pylab import *"
   ]
  },
  {
   "cell_type": "markdown",
   "metadata": {},
   "source": [
    "## 5.1 Basic list and array operations"
   ]
  },
  {
   "cell_type": "markdown",
   "metadata": {},
   "source": [
    "### 1)\n",
    "Create a vector that has the elements: 6, 8*3, 2.5, ‘labtime’, and √2.\n",
    "\n",
    "> *In general for this lab, don’t just create vectors, but also print out their contents for veriﬁcation.*"
   ]
  },
  {
   "cell_type": "code",
   "execution_count": 79,
   "metadata": {},
   "outputs": [
    {
     "name": "stdout",
     "output_type": "stream",
     "text": [
      "['6' '24' '2.5' 'labtime' '1.4142135623730951']\n"
     ]
    }
   ],
   "source": [
    "vec = [6, 8*3, 2.5, 'labtime', sqrt(2)]\n",
    "print(array(vec))"
   ]
  },
  {
   "cell_type": "markdown",
   "metadata": {},
   "source": [
    "### 2) \n",
    "Create a vector in which the ﬁrst element is 0, and the last element is 42,\n",
    "with an increment of 3 between the elements (0, 3, 6, . . . . . . , 42).\n",
    "\n",
    "> *Starting with this question, create elements using “shortcut” techniques such as the colon operator, rather than manual entry of all the values.*"
   ]
  },
  {
   "cell_type": "code",
   "execution_count": 80,
   "metadata": {},
   "outputs": [
    {
     "name": "stdout",
     "output_type": "stream",
     "text": [
      "[ 0  3  6  9 12 15 18 21 24 27 30 33 36 39 42]\n"
     ]
    }
   ],
   "source": [
    "vec = list(range(0,43, 3))\n",
    "print(array(vec))"
   ]
  },
  {
   "cell_type": "markdown",
   "metadata": {},
   "source": [
    "### 3) \n",
    "Create a vector in which the ﬁrst element is 18, the elements decrease with increments of −4.5, and the last element is −18."
   ]
  },
  {
   "cell_type": "code",
   "execution_count": 81,
   "metadata": {},
   "outputs": [
    {
     "name": "stdout",
     "output_type": "stream",
     "text": [
      "[ 18.   13.5   9.    4.5   0.   -4.5  -9.  -13.5 -18. ]\n"
     ]
    }
   ],
   "source": [
    "vec = arange(18, -19, -4.5)\n",
    "print(vec)"
   ]
  },
  {
   "cell_type": "markdown",
   "metadata": {},
   "source": [
    "### 4)\n",
    "Create a list with 16 equally spaced elements in which the ﬁrst element is 5 and the last element is 61."
   ]
  },
  {
   "cell_type": "code",
   "execution_count": 83,
   "metadata": {},
   "outputs": [
    {
     "data": {
      "text/plain": [
       "[5.0,\n",
       " 8.733333333333334,\n",
       " 12.466666666666667,\n",
       " 16.2,\n",
       " 19.933333333333334,\n",
       " 23.666666666666668,\n",
       " 27.4,\n",
       " 31.133333333333333,\n",
       " 34.86666666666667,\n",
       " 38.6,\n",
       " 42.333333333333336,\n",
       " 46.06666666666667,\n",
       " 49.8,\n",
       " 53.53333333333333,\n",
       " 57.266666666666666,\n",
       " 61.0]"
      ]
     },
     "execution_count": 83,
     "metadata": {},
     "output_type": "execute_result"
    }
   ],
   "source": [
    "vec = linspace(5, 61, 16) \n",
    "list(vec)"
   ]
  },
  {
   "cell_type": "markdown",
   "metadata": {},
   "source": [
    "### 5) \n",
    "\n",
    "a) Create two character strings, ‘*name1*’ and ‘*name2*’, containing your ﬁrst and last names.\n",
    "\n",
    "b) Create a third string variable by concatenating the ﬁrst two strings, along with an appropriate space."
   ]
  },
  {
   "cell_type": "code",
   "execution_count": 85,
   "metadata": {},
   "outputs": [
    {
     "name": "stdout",
     "output_type": "stream",
     "text": [
      "Andry Paez\n"
     ]
    }
   ],
   "source": [
    "# Method 1 using list comprehension\n",
    "name1 = ['A','n','d','r','y']\n",
    "name2 = ['P','a','e','z']\n",
    "fullName = ''.join([name1[i] for i in range(len(name1))]) + ' ' + ''.join([name2[i] for i in range(len(name2))])\n",
    "print(fullName)"
   ]
  },
  {
   "cell_type": "code",
   "execution_count": 84,
   "metadata": {},
   "outputs": [
    {
     "name": "stdout",
     "output_type": "stream",
     "text": [
      "Andry Paez\n"
     ]
    }
   ],
   "source": [
    "# Method 2 using numpy\n",
    "name1 = 'Andry'\n",
    "name2 = 'Paez'\n",
    "fullName = array([name1, name2])\n",
    "fullName = char.add(char.add(fullName[0], ' '), fullName[1])\n",
    "print(fullName)\n"
   ]
  },
  {
   "cell_type": "code",
   "execution_count": 86,
   "metadata": {},
   "outputs": [
    {
     "name": "stdout",
     "output_type": "stream",
     "text": [
      "Andry Paez\n"
     ]
    }
   ],
   "source": [
    "# Method 3 using string concatenation\n",
    "name1 = 'Andry'\n",
    "name2 = 'Paez'\n",
    "fullName = name1 + ' ' + name2\n",
    "print(fullName)"
   ]
  },
  {
   "cell_type": "markdown",
   "metadata": {},
   "source": [
    "### 6)\n",
    "\n",
    "a) Create a vector, named `Afirst`, that has 13 elements in which the ﬁrst is 3, the increment is 4 and the last element is 51.\n",
    "\n",
    "b) Create a new vector, named `Asecond`, that has seven elements (do this step ﬁrst.) \n",
    "\n",
    "The ﬁrst four elements of `Asecond` are the ﬁrst four elements of the vector `Afirst` and the last three elements of `Asecond` are the last three elements of the vector `Afirst`."
   ]
  },
  {
   "cell_type": "code",
   "execution_count": 78,
   "metadata": {},
   "outputs": [
    {
     "name": "stdout",
     "output_type": "stream",
     "text": [
      "[ 3  7 11 15 19 23 27 31 35 39 43 47 51]\n"
     ]
    }
   ],
   "source": [
    "Afirst = arange(3, 52, 4)\n",
    "print(Afirst)"
   ]
  },
  {
   "cell_type": "code",
   "execution_count": 98,
   "metadata": {},
   "outputs": [
    {
     "name": "stdout",
     "output_type": "stream",
     "text": [
      "[0, 1, 2, 3, 4, 5, 6]\n",
      "[3, 7, 11, 15, 43, 47, 51]\n"
     ]
    }
   ],
   "source": [
    "Asecond = [i for i in range(7)]\n",
    "print(Asecond)\n",
    "Asecond[:4], Asecond[-3:] = Afirst[:4], Afirst[-3:]\n",
    "print(Asecond)"
   ]
  },
  {
   "cell_type": "markdown",
   "metadata": {},
   "source": [
    "## 5.2 More vectors, 2D arrays, and vectorization"
   ]
  },
  {
   "cell_type": "markdown",
   "metadata": {},
   "source": []
  }
 ],
 "metadata": {
  "kernelspec": {
   "display_name": "base",
   "language": "python",
   "name": "python3"
  },
  "language_info": {
   "codemirror_mode": {
    "name": "ipython",
    "version": 3
   },
   "file_extension": ".py",
   "mimetype": "text/x-python",
   "name": "python",
   "nbconvert_exporter": "python",
   "pygments_lexer": "ipython3",
   "version": "3.11.4"
  }
 },
 "nbformat": 4,
 "nbformat_minor": 2
}
