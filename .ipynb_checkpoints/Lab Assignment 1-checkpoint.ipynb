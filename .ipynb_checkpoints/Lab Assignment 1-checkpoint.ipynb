{
 "cells": [
  {
   "cell_type": "markdown",
   "id": "22f28773",
   "metadata": {},
   "source": [
    "# Lab Assignment \\#1"
   ]
  },
  {
   "cell_type": "markdown",
   "id": "8731971e",
   "metadata": {},
   "source": [
    " ## You can use python as a calculator!"
   ]
  },
  {
   "cell_type": "code",
   "execution_count": 2,
   "id": "7e25300c",
   "metadata": {},
   "outputs": [
    {
     "data": {
      "text/plain": [
       "4"
      ]
     },
     "execution_count": 2,
     "metadata": {},
     "output_type": "execute_result"
    }
   ],
   "source": [
    "2+2"
   ]
  },
  {
   "cell_type": "markdown",
   "id": "51fcc811",
   "metadata": {},
   "source": [
    "## If the line runs too long, you can use backslash (\\) to break up the statement"
   ]
  },
  {
   "cell_type": "code",
   "execution_count": 10,
   "id": "2600cefe",
   "metadata": {},
   "outputs": [
    {
     "data": {
      "text/plain": [
       "15"
      ]
     },
     "execution_count": 10,
     "metadata": {},
     "output_type": "execute_result"
    }
   ],
   "source": [
    "1 + 2 + 3 + 4 + \\\n",
    "5"
   ]
  },
  {
   "cell_type": "markdown",
   "id": "9980db4b",
   "metadata": {},
   "source": [
    "## Execute multiple statements on one line...\n",
    "## ... but try to avoid doing it "
   ]
  },
  {
   "cell_type": "code",
   "execution_count": 5,
   "id": "d1814497",
   "metadata": {},
   "outputs": [
    {
     "data": {
      "text/plain": [
       "4"
      ]
     },
     "execution_count": 5,
     "metadata": {},
     "output_type": "execute_result"
    }
   ],
   "source": [
    "1 + 1 ; 2 + 2"
   ]
  },
  {
   "cell_type": "markdown",
   "id": "1284b073",
   "metadata": {},
   "source": [
    "## Python knows order of operations."
   ]
  },
  {
   "cell_type": "code",
   "execution_count": 6,
   "id": "5c6aeed4",
   "metadata": {},
   "outputs": [
    {
     "data": {
      "text/plain": [
       "21"
      ]
     },
     "execution_count": 6,
     "metadata": {},
     "output_type": "execute_result"
    }
   ],
   "source": [
    "3*(3 + 4)"
   ]
  },
  {
   "cell_type": "markdown",
   "id": "c4f886b6",
   "metadata": {},
   "source": [
    "## Predict the answer before you try it out...\n",
    "\n",
    "I predict 36"
   ]
  },
  {
   "cell_type": "code",
   "execution_count": 7,
   "id": "1a80cd37",
   "metadata": {},
   "outputs": [
    {
     "data": {
      "text/plain": [
       "36"
      ]
     },
     "execution_count": 7,
     "metadata": {},
     "output_type": "execute_result"
    }
   ],
   "source": [
    "4 * 3 ** 2"
   ]
  },
  {
   "cell_type": "markdown",
   "id": "a1518903",
   "metadata": {},
   "source": [
    "## Predict the answer before you try it out...\n",
    "\n",
    "I predict 4^3 = 64 "
   ]
  },
  {
   "cell_type": "code",
   "execution_count": 8,
   "id": "b333d61d",
   "metadata": {},
   "outputs": [
    {
     "data": {
      "text/plain": [
       "-256"
      ]
     },
     "execution_count": 8,
     "metadata": {},
     "output_type": "execute_result"
    }
   ],
   "source": [
    "-2 ** 2 ** 3"
   ]
  },
  {
   "cell_type": "markdown",
   "id": "ef8ccf0f",
   "metadata": {},
   "source": [
    "## Exponentiation"
   ]
  },
  {
   "cell_type": "code",
   "execution_count": 9,
   "id": "31b6cdab",
   "metadata": {},
   "outputs": [
    {
     "data": {
      "text/plain": [
       "49"
      ]
     },
     "execution_count": 9,
     "metadata": {},
     "output_type": "execute_result"
    }
   ],
   "source": [
    "7 ** 2"
   ]
  },
  {
   "cell_type": "markdown",
   "id": "09242f34",
   "metadata": {},
   "source": [
    "# Square root function: what happened?"
   ]
  },
  {
   "cell_type": "code",
   "execution_count": 12,
   "id": "70119d3d",
   "metadata": {},
   "outputs": [
    {
     "ename": "NameError",
     "evalue": "name 'sqrt' is not defined",
     "output_type": "error",
     "traceback": [
      "\u001b[0;31m---------------------------------------------------------------------------\u001b[0m",
      "\u001b[0;31mNameError\u001b[0m                                 Traceback (most recent call last)",
      "Cell \u001b[0;32mIn[12], line 1\u001b[0m\n\u001b[0;32m----> 1\u001b[0m sqrt(\u001b[38;5;241m4.0\u001b[39m)\n",
      "\u001b[0;31mNameError\u001b[0m: name 'sqrt' is not defined"
     ]
    }
   ],
   "source": [
    "sqrt(4.0)"
   ]
  },
  {
   "cell_type": "markdown",
   "id": "3272309b",
   "metadata": {},
   "source": [
    "# Import specialized numerical module"
   ]
  },
  {
   "cell_type": "code",
   "execution_count": 13,
   "id": "45693eff",
   "metadata": {},
   "outputs": [],
   "source": [
    "from numpy import *"
   ]
  },
  {
   "cell_type": "markdown",
   "id": "9ddfd8d9",
   "metadata": {},
   "source": [
    "## and try again..."
   ]
  },
  {
   "cell_type": "code",
   "execution_count": 14,
   "id": "3d4dc86c",
   "metadata": {},
   "outputs": [
    {
     "data": {
      "text/plain": [
       "2.0"
      ]
     },
     "execution_count": 14,
     "metadata": {},
     "output_type": "execute_result"
    }
   ],
   "source": [
    "sqrt(4.0)"
   ]
  },
  {
   "cell_type": "markdown",
   "id": "ca39bfe5",
   "metadata": {},
   "source": [
    "## Exponential function."
   ]
  },
  {
   "cell_type": "code",
   "execution_count": 15,
   "id": "87532087",
   "metadata": {},
   "outputs": [
    {
     "data": {
      "text/plain": [
       "162754.79141900392"
      ]
     },
     "execution_count": 15,
     "metadata": {},
     "output_type": "execute_result"
    }
   ],
   "source": [
    "exp(12.0)"
   ]
  },
  {
   "cell_type": "markdown",
   "id": "307a943b",
   "metadata": {},
   "source": [
    "## Logarithms are in base e."
   ]
  },
  {
   "cell_type": "code",
   "execution_count": 16,
   "id": "a5455aa6",
   "metadata": {},
   "outputs": [
    {
     "data": {
      "text/plain": [
       "2.302585092994046"
      ]
     },
     "execution_count": 16,
     "metadata": {},
     "output_type": "execute_result"
    }
   ],
   "source": [
    "log(10.0)"
   ]
  },
  {
   "cell_type": "markdown",
   "id": "d2665315",
   "metadata": {},
   "source": [
    "## Base 10 logarithm."
   ]
  },
  {
   "cell_type": "code",
   "execution_count": 17,
   "id": "8f6fe03b",
   "metadata": {},
   "outputs": [
    {
     "data": {
      "text/plain": [
       "1.0"
      ]
     },
     "execution_count": 17,
     "metadata": {},
     "output_type": "execute_result"
    }
   ],
   "source": [
    "log10(10.0)"
   ]
  },
  {
   "cell_type": "markdown",
   "id": "2e14709c",
   "metadata": {},
   "source": [
    "## π is recognized, trig is in radians."
   ]
  },
  {
   "cell_type": "code",
   "execution_count": 18,
   "id": "4161ae9b",
   "metadata": {},
   "outputs": [
    {
     "data": {
      "text/plain": [
       "1.2246467991473532e-16"
      ]
     },
     "execution_count": 18,
     "metadata": {},
     "output_type": "execute_result"
    }
   ],
   "source": [
    "sin(pi)"
   ]
  },
  {
   "cell_type": "markdown",
   "id": "be4105b4",
   "metadata": {},
   "source": [
    "## Is this the answer you were expecting?\n",
    "no..."
   ]
  },
  {
   "cell_type": "markdown",
   "id": "103e5a12",
   "metadata": {},
   "source": [
    "## Trailing j denotes an imaginary component (= i)."
   ]
  },
  {
   "cell_type": "code",
   "execution_count": 19,
   "id": "9b37a132",
   "metadata": {},
   "outputs": [
    {
     "data": {
      "text/plain": [
       "(-0.6166204246046837+1.0543263012946278j)"
      ]
     },
     "execution_count": 19,
     "metadata": {},
     "output_type": "execute_result"
    }
   ],
   "source": [
    "exp(0.2 + 2.1j)"
   ]
  },
  {
   "cell_type": "markdown",
   "id": "c7312491",
   "metadata": {},
   "source": [
    "## Previous commands (only works on command line).\n",
    "\n",
    "1) type command(s) on terminal\n",
    "2) press up key for previous commands, down for more recent commands"
   ]
  },
  {
   "cell_type": "markdown",
   "id": "08bf06a0",
   "metadata": {},
   "source": [
    "## Convert to degrees."
   ]
  },
  {
   "cell_type": "code",
   "execution_count": 20,
   "id": "11a02c47",
   "metadata": {},
   "outputs": [
    {
     "data": {
      "text/plain": [
       "90.0"
      ]
     },
     "execution_count": 20,
     "metadata": {},
     "output_type": "execute_result"
    }
   ],
   "source": [
    "arccos(0.0)*180.0/pi"
   ]
  },
  {
   "cell_type": "markdown",
   "id": "3fece137",
   "metadata": {},
   "source": [
    "## Absolute value."
   ]
  },
  {
   "cell_type": "code",
   "execution_count": 21,
   "id": "44282ec2",
   "metadata": {},
   "outputs": [
    {
     "data": {
      "text/plain": [
       "2.1095023109728985"
      ]
     },
     "execution_count": 21,
     "metadata": {},
     "output_type": "execute_result"
    }
   ],
   "source": [
    "abs(0.2 - 2.1j)"
   ]
  },
  {
   "cell_type": "markdown",
   "id": "2605798b",
   "metadata": {},
   "source": []
  },
  {
   "cell_type": "markdown",
   "id": "662618af",
   "metadata": {},
   "source": [
    "## Example help about the multiplication operator."
   ]
  },
  {
   "cell_type": "code",
   "execution_count": null,
   "id": "915a3c87",
   "metadata": {},
   "outputs": [],
   "source": [
    "help('*')"
   ]
  },
  {
   "cell_type": "markdown",
   "id": "cb3f370b",
   "metadata": {},
   "source": [
    "## General help "
   ]
  },
  {
   "cell_type": "code",
   "execution_count": null,
   "id": "6e04c8ad",
   "metadata": {
    "scrolled": false
   },
   "outputs": [
    {
     "name": "stdout",
     "output_type": "stream",
     "text": [
      "\n",
      "Welcome to Python 3.11's help utility!\n",
      "\n",
      "If this is your first time using Python, you should definitely check out\n",
      "the tutorial on the internet at https://docs.python.org/3.11/tutorial/.\n",
      "\n",
      "Enter the name of any module, keyword, or topic to get help on writing\n",
      "Python programs and using Python modules.  To quit this help utility and\n",
      "return to the interpreter, just type \"quit\".\n",
      "\n",
      "To get a list of available modules, keywords, symbols, or topics, type\n",
      "\"modules\", \"keywords\", \"symbols\", or \"topics\".  Each module also comes\n",
      "with a one-line summary of what it does; to list the modules whose name\n",
      "or summary contain a given string such as \"spam\", type \"modules spam\".\n",
      "\n"
     ]
    }
   ],
   "source": [
    "help()"
   ]
  },
  {
   "cell_type": "markdown",
   "id": "ffd62644",
   "metadata": {},
   "source": [
    "## ‘m’ has not been assigned a value."
   ]
  },
  {
   "cell_type": "code",
   "execution_count": 29,
   "id": "f927d32d",
   "metadata": {},
   "outputs": [
    {
     "ename": "NameError",
     "evalue": "name 'm' is not defined",
     "output_type": "error",
     "traceback": [
      "\u001b[0;31m---------------------------------------------------------------------------\u001b[0m",
      "\u001b[0;31mNameError\u001b[0m                                 Traceback (most recent call last)",
      "Cell \u001b[0;32mIn[29], line 1\u001b[0m\n\u001b[0;32m----> 1\u001b[0m m\n",
      "\u001b[0;31mNameError\u001b[0m: name 'm' is not defined"
     ]
    }
   ],
   "source": [
    "m"
   ]
  },
  {
   "cell_type": "markdown",
   "id": "e16bfc64",
   "metadata": {},
   "source": [
    "## ‘m’ now equals (floating-point) 10."
   ]
  },
  {
   "cell_type": "code",
   "execution_count": 35,
   "id": "553f65f1",
   "metadata": {},
   "outputs": [],
   "source": [
    "m = 10."
   ]
  },
  {
   "cell_type": "markdown",
   "id": "7dfb82f6",
   "metadata": {},
   "source": [
    "Now it had a value so typing it returns the value"
   ]
  },
  {
   "cell_type": "code",
   "execution_count": 36,
   "id": "0e8823a9",
   "metadata": {},
   "outputs": [
    {
     "data": {
      "text/plain": [
       "10.0"
      ]
     },
     "execution_count": 36,
     "metadata": {},
     "output_type": "execute_result"
    }
   ],
   "source": [
    "m"
   ]
  },
  {
   "cell_type": "markdown",
   "id": "2ca78660",
   "metadata": {},
   "source": [
    "## Scientific Notation"
   ]
  },
  {
   "cell_type": "code",
   "execution_count": 37,
   "id": "1b282a08",
   "metadata": {},
   "outputs": [],
   "source": [
    "m = 1e1"
   ]
  },
  {
   "cell_type": "markdown",
   "id": "6296aff0",
   "metadata": {},
   "source": [
    "Now it had a value so typing it returns the value"
   ]
  },
  {
   "cell_type": "code",
   "execution_count": 38,
   "id": "b434d45c",
   "metadata": {},
   "outputs": [
    {
     "data": {
      "text/plain": [
       "10.0"
      ]
     },
     "execution_count": 38,
     "metadata": {},
     "output_type": "execute_result"
    }
   ],
   "source": [
    "m"
   ]
  },
  {
   "cell_type": "markdown",
   "id": "1340e37e",
   "metadata": {},
   "source": [
    "## Check the value: is it the same?"
   ]
  },
  {
   "cell_type": "code",
   "execution_count": 39,
   "id": "fc926277",
   "metadata": {},
   "outputs": [],
   "source": [
    "m = 0.00008"
   ]
  },
  {
   "cell_type": "markdown",
   "id": "fea10108",
   "metadata": {},
   "source": [
    "## Capitalization matters."
   ]
  },
  {
   "cell_type": "code",
   "execution_count": 40,
   "id": "1072a84b",
   "metadata": {},
   "outputs": [
    {
     "ename": "NameError",
     "evalue": "name 'M' is not defined",
     "output_type": "error",
     "traceback": [
      "\u001b[0;31m---------------------------------------------------------------------------\u001b[0m",
      "\u001b[0;31mNameError\u001b[0m                                 Traceback (most recent call last)",
      "Cell \u001b[0;32mIn[40], line 1\u001b[0m\n\u001b[0;32m----> 1\u001b[0m M\n",
      "\u001b[0;31mNameError\u001b[0m: name 'M' is not defined"
     ]
    }
   ],
   "source": [
    "M"
   ]
  },
  {
   "cell_type": "markdown",
   "id": "f95b4679",
   "metadata": {},
   "source": [
    "## Defining M."
   ]
  },
  {
   "cell_type": "code",
   "execution_count": 41,
   "id": "9c72a0ea",
   "metadata": {},
   "outputs": [],
   "source": [
    "M = m**m"
   ]
  },
  {
   "cell_type": "markdown",
   "id": "a06c01db",
   "metadata": {},
   "source": [
    "See value."
   ]
  },
  {
   "cell_type": "code",
   "execution_count": 42,
   "id": "c3ca3833",
   "metadata": {},
   "outputs": [
    {
     "data": {
      "text/plain": [
       "0.9992456059844943"
      ]
     },
     "execution_count": 42,
     "metadata": {},
     "output_type": "execute_result"
    }
   ],
   "source": [
    "M"
   ]
  },
  {
   "cell_type": "markdown",
   "id": "fdaa3cdc",
   "metadata": {},
   "source": [
    "## You can also store strings of text in variables."
   ]
  },
  {
   "cell_type": "code",
   "execution_count": 43,
   "id": "a4b13516",
   "metadata": {},
   "outputs": [],
   "source": [
    "m = 'test string'"
   ]
  },
  {
   "cell_type": "markdown",
   "id": "1b7623ce",
   "metadata": {},
   "source": [
    "See value"
   ]
  },
  {
   "cell_type": "code",
   "execution_count": 44,
   "id": "d3fd2b3a",
   "metadata": {},
   "outputs": [
    {
     "data": {
      "text/plain": [
       "'test string'"
      ]
     },
     "execution_count": 44,
     "metadata": {},
     "output_type": "execute_result"
    }
   ],
   "source": [
    "m"
   ]
  },
  {
   "cell_type": "markdown",
   "id": "3ce1e1fa",
   "metadata": {},
   "source": [
    "### Alternative"
   ]
  },
  {
   "cell_type": "code",
   "execution_count": 45,
   "id": "4046e963",
   "metadata": {},
   "outputs": [
    {
     "name": "stdout",
     "output_type": "stream",
     "text": [
      "test string\n"
     ]
    }
   ],
   "source": [
    "print(m)"
   ]
  },
  {
   "cell_type": "markdown",
   "id": "f9fbc4d4",
   "metadata": {},
   "source": [
    "## Multiple assignments (check them)."
   ]
  },
  {
   "cell_type": "code",
   "execution_count": 46,
   "id": "87b05e3c",
   "metadata": {},
   "outputs": [],
   "source": [
    "m, n = 1.0, 2.0"
   ]
  },
  {
   "cell_type": "code",
   "execution_count": 47,
   "id": "d9f674fc",
   "metadata": {},
   "outputs": [
    {
     "data": {
      "text/plain": [
       "(1.0, 2.0)"
      ]
     },
     "execution_count": 47,
     "metadata": {},
     "output_type": "execute_result"
    }
   ],
   "source": [
    "m, n"
   ]
  },
  {
   "cell_type": "markdown",
   "id": "c067a5d3",
   "metadata": {},
   "source": [
    "## You may reassign a standard function as a    variable..\n",
    "## ...but then the function no longer works."
   ]
  },
  {
   "cell_type": "code",
   "execution_count": 49,
   "id": "58417627",
   "metadata": {},
   "outputs": [
    {
     "ename": "TypeError",
     "evalue": "'int' object is not callable",
     "output_type": "error",
     "traceback": [
      "\u001b[0;31m---------------------------------------------------------------------------\u001b[0m",
      "\u001b[0;31mTypeError\u001b[0m                                 Traceback (most recent call last)",
      "Cell \u001b[0;32mIn[49], line 2\u001b[0m\n\u001b[1;32m      1\u001b[0m sin \u001b[38;5;241m=\u001b[39m \u001b[38;5;241m10\u001b[39m\n\u001b[0;32m----> 2\u001b[0m sin(pi)\n",
      "\u001b[0;31mTypeError\u001b[0m: 'int' object is not callable"
     ]
    }
   ],
   "source": [
    "sin = 10\n",
    "sin(pi)"
   ]
  },
  {
   "cell_type": "code",
   "execution_count": 50,
   "id": "952219da",
   "metadata": {},
   "outputs": [
    {
     "data": {
      "text/plain": [
       "1.2246467991473532e-16"
      ]
     },
     "execution_count": 50,
     "metadata": {},
     "output_type": "execute_result"
    }
   ],
   "source": [
    "from numpy import sin, pi\n",
    "sin(pi)"
   ]
  },
  {
   "cell_type": "markdown",
   "id": "7ea6c54f",
   "metadata": {},
   "source": [
    "## We did this calculation in class. Cast (convert) double to integer."
   ]
  },
  {
   "cell_type": "code",
   "execution_count": 52,
   "id": "8e280dae",
   "metadata": {},
   "outputs": [
    {
     "data": {
      "text/plain": [
       "-21"
      ]
     },
     "execution_count": 52,
     "metadata": {},
     "output_type": "execute_result"
    }
   ],
   "source": [
    "x = 3.82\n",
    "f = ((x - 6.0)*x + 3.0)*x - 1.0 \n",
    "int(f)"
   ]
  },
  {
   "cell_type": "markdown",
   "id": "d1763d05",
   "metadata": {},
   "source": [
    "## Repeating calculations above in single precision. Compare to the value of ‘f’.\n",
    "## Relative error of single and double precision\n",
    "## in this case."
   ]
  },
  {
   "cell_type": "code",
   "execution_count": 57,
   "id": "eb4e1c83",
   "metadata": {},
   "outputs": [
    {
     "data": {
      "text/plain": [
       "2.9302402859302245e-09"
      ]
     },
     "execution_count": 57,
     "metadata": {},
     "output_type": "execute_result"
    }
   ],
   "source": [
    "from numpy import single\n",
    "xs = single(3.82)\n",
    "fs = ((xs - 6.0)*xs + 3.0)*xs - 1.0\n",
    "(fs - f)/f"
   ]
  },
  {
   "cell_type": "markdown",
   "id": "0ecba903",
   "metadata": {},
   "source": [
    "## Machine epsilon for double-precision: what is its value?"
   ]
  },
  {
   "cell_type": "code",
   "execution_count": 59,
   "id": "241497ff",
   "metadata": {},
   "outputs": [
    {
     "data": {
      "text/plain": [
       "2.220446049250313e-16"
      ]
     },
     "execution_count": 59,
     "metadata": {},
     "output_type": "execute_result"
    }
   ],
   "source": [
    "eps = 2**-52\n",
    "eps"
   ]
  },
  {
   "cell_type": "markdown",
   "id": "6154f4a3",
   "metadata": {},
   "source": [
    "## What happened?"
   ]
  },
  {
   "cell_type": "code",
   "execution_count": 64,
   "id": "60121491",
   "metadata": {},
   "outputs": [
    {
     "data": {
      "text/plain": [
       "0.0"
      ]
     },
     "execution_count": 64,
     "metadata": {},
     "output_type": "execute_result"
    }
   ],
   "source": [
    "1.0 + eps - 1.0\n",
    "1.0 + eps/2.0 - 1.0"
   ]
  },
  {
   "cell_type": "markdown",
   "id": "01b31aec",
   "metadata": {},
   "source": [
    "first line returns the same value; however, "
   ]
  },
  {
   "cell_type": "markdown",
   "id": "b8a9bba6",
   "metadata": {},
   "source": [
    "## What happened?"
   ]
  },
  {
   "cell_type": "code",
   "execution_count": 63,
   "id": "8f900f24",
   "metadata": {},
   "outputs": [
    {
     "data": {
      "text/plain": [
       "inf"
      ]
     },
     "execution_count": 63,
     "metadata": {},
     "output_type": "execute_result"
    }
   ],
   "source": [
    "2.0**1023 \n",
    "2.0**1023*2.0"
   ]
  },
  {
   "cell_type": "markdown",
   "id": "70647c35",
   "metadata": {},
   "source": [
    "## This time leave off the decimal on the first 2: what happened?"
   ]
  },
  {
   "cell_type": "code",
   "execution_count": 65,
   "id": "9a4bd159",
   "metadata": {},
   "outputs": [
    {
     "data": {
      "text/plain": [
       "5e-324"
      ]
     },
     "execution_count": 65,
     "metadata": {},
     "output_type": "execute_result"
    }
   ],
   "source": [
    "2**1023*2.0\n",
    "2**-1074"
   ]
  },
  {
   "cell_type": "code",
   "execution_count": 66,
   "id": "6d104249",
   "metadata": {},
   "outputs": [
    {
     "data": {
      "text/plain": [
       "0.0"
      ]
     },
     "execution_count": 66,
     "metadata": {},
     "output_type": "execute_result"
    }
   ],
   "source": [
    "2**-1074/2.0"
   ]
  },
  {
   "cell_type": "markdown",
   "id": "5914d0bd",
   "metadata": {},
   "source": [
    "What happened?"
   ]
  },
  {
   "cell_type": "markdown",
   "id": "2720f5d8",
   "metadata": {},
   "source": [
    "answer placeholder"
   ]
  },
  {
   "cell_type": "markdown",
   "id": "a2996459",
   "metadata": {},
   "source": [
    "## NumPy 16-bit integer."
   ]
  },
  {
   "cell_type": "code",
   "execution_count": 69,
   "id": "7c906693",
   "metadata": {},
   "outputs": [
    {
     "name": "stderr",
     "output_type": "stream",
     "text": [
      "/var/folders/24/ggylxxcj3xq362xbyt3gkg_00000gn/T/ipykernel_84126/642146999.py:2: DeprecationWarning: NumPy will stop allowing conversion of out-of-bound Python integers to integer arrays.  The conversion of 32768 to int16 will fail in the future.\n",
      "For the old behavior, usually:\n",
      "    np.array(value).astype(dtype)`\n",
      "will give the desired result (the cast overflows).\n",
      "  vali = int16(32768)\n"
     ]
    },
    {
     "data": {
      "text/plain": [
       "-32768"
      ]
     },
     "execution_count": 69,
     "metadata": {},
     "output_type": "execute_result"
    }
   ],
   "source": [
    "from numpy import int16\n",
    "vali = int16(32768) \n",
    "vali"
   ]
  },
  {
   "cell_type": "markdown",
   "id": "e31ef624",
   "metadata": {},
   "source": [
    "What happened?"
   ]
  },
  {
   "cell_type": "markdown",
   "id": "8b5b5704",
   "metadata": {},
   "source": [
    "answer placeholder \"int16 overflow\" "
   ]
  },
  {
   "cell_type": "code",
   "execution_count": 71,
   "id": "1f27fb37",
   "metadata": {},
   "outputs": [
    {
     "data": {
      "text/plain": [
       "numpy.int16"
      ]
     },
     "execution_count": 71,
     "metadata": {},
     "output_type": "execute_result"
    }
   ],
   "source": [
    "type(vali)"
   ]
  },
  {
   "cell_type": "markdown",
   "id": "ce1cab25",
   "metadata": {},
   "source": [
    "## Start again."
   ]
  },
  {
   "cell_type": "code",
   "execution_count": 72,
   "id": "6a46f844",
   "metadata": {},
   "outputs": [],
   "source": [
    "vali = int16(32767)\n",
    "vali += 1"
   ]
  },
  {
   "cell_type": "markdown",
   "id": "67b058b6",
   "metadata": {},
   "source": [
    "Is this ok? Why or why not?"
   ]
  },
  {
   "cell_type": "markdown",
   "id": "89305011",
   "metadata": {},
   "source": [
    "answer placeholder"
   ]
  },
  {
   "cell_type": "code",
   "execution_count": 74,
   "id": "e34e3ec3",
   "metadata": {},
   "outputs": [
    {
     "data": {
      "text/plain": [
       "numpy.int64"
      ]
     },
     "execution_count": 74,
     "metadata": {},
     "output_type": "execute_result"
    }
   ],
   "source": [
    "type(vali)"
   ]
  },
  {
   "cell_type": "markdown",
   "id": "49b52c3b",
   "metadata": {},
   "source": [
    "Does this clarify what happened?"
   ]
  },
  {
   "cell_type": "code",
   "execution_count": 75,
   "id": "02c0af36",
   "metadata": {},
   "outputs": [],
   "source": [
    "vali = 2**63"
   ]
  },
  {
   "cell_type": "markdown",
   "id": "95f67161",
   "metadata": {},
   "source": [
    "Then inspect value"
   ]
  },
  {
   "cell_type": "code",
   "execution_count": 76,
   "id": "e16f9411",
   "metadata": {},
   "outputs": [
    {
     "data": {
      "text/plain": [
       "9223372036854775808"
      ]
     },
     "execution_count": 76,
     "metadata": {},
     "output_type": "execute_result"
    }
   ],
   "source": [
    "vali"
   ]
  },
  {
   "cell_type": "code",
   "execution_count": 77,
   "id": "2eb05640",
   "metadata": {},
   "outputs": [
    {
     "data": {
      "text/plain": [
       "int"
      ]
     },
     "execution_count": 77,
     "metadata": {},
     "output_type": "execute_result"
    }
   ],
   "source": [
    "type(vali)"
   ]
  },
  {
   "cell_type": "markdown",
   "id": "5fb950c5",
   "metadata": {},
   "source": [
    "What do you find?"
   ]
  },
  {
   "cell_type": "code",
   "execution_count": 78,
   "id": "347140a8",
   "metadata": {},
   "outputs": [
    {
     "name": "stdout",
     "output_type": "stream",
     "text": [
      "Give me a value: 40\n"
     ]
    }
   ],
   "source": [
    "val = float(input('Give me a value: '))"
   ]
  },
  {
   "cell_type": "markdown",
   "id": "f05ec28a",
   "metadata": {},
   "source": [
    "Then inspect value"
   ]
  },
  {
   "cell_type": "code",
   "execution_count": 79,
   "id": "9ed2138e",
   "metadata": {},
   "outputs": [
    {
     "data": {
      "text/plain": [
       "40.0"
      ]
     },
     "execution_count": 79,
     "metadata": {},
     "output_type": "execute_result"
    }
   ],
   "source": [
    "val"
   ]
  },
  {
   "cell_type": "code",
   "execution_count": null,
   "id": "95ee5b6b",
   "metadata": {},
   "outputs": [],
   "source": []
  }
 ],
 "metadata": {
  "kernelspec": {
   "display_name": "Python 3 (ipykernel)",
   "language": "python",
   "name": "python3"
  },
  "language_info": {
   "codemirror_mode": {
    "name": "ipython",
    "version": 3
   },
   "file_extension": ".py",
   "mimetype": "text/x-python",
   "name": "python",
   "nbconvert_exporter": "python",
   "pygments_lexer": "ipython3",
   "version": "3.11.4"
  }
 },
 "nbformat": 4,
 "nbformat_minor": 5
}
